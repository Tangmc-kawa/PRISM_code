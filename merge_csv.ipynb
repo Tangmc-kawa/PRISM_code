{
 "cells": [
  {
   "cell_type": "code",
   "execution_count": null,
   "metadata": {},
   "outputs": [],
   "source": [
    "import os\n",
    "import re\n",
    "import pandas as pd\n",
    "\n",
    "def merge_csv_files(root_dir):\n",
    "    file_dict = {}\n",
    "\n",
    "    # Regex to capture the base name and part number\n",
    "    pattern = re.compile(r'(.+)_part(\\d+)\\.csv$')\n",
    "\n",
    "    # Walk through all directories and files in the root directory\n",
    "    for dirpath, _, filenames in os.walk(root_dir):\n",
    "        for file in filenames:\n",
    "            match = pattern.search(file)\n",
    "            if match:\n",
    "                base_name = match.group(1)\n",
    "                part_num = int(match.group(2))\n",
    "                # Append the file path to the list in the dictionary\n",
    "                if base_name not in file_dict:\n",
    "                    file_dict[base_name] = []\n",
    "                file_dict[base_name].append((part_num, os.path.join(dirpath, file)))\n",
    "\n",
    "    # Process each base name separately\n",
    "    for base_name, files in file_dict.items():\n",
    "        # Sort files by the part number\n",
    "        files.sort()\n",
    "        # Read and concatenate all DataFrames\n",
    "        df_list = [pd.read_csv(file_path) for _, file_path in files]\n",
    "        merged_df = pd.concat(df_list, ignore_index=True)\n",
    "        # Save the merged DataFrame\n",
    "        output_filename = os.path.join(root_dir, f\"{base_name}.csv\")\n",
    "        merged_df.to_csv(output_filename, index=False)\n",
    "        print(f\"Merged file saved as: {output_filename}\")\n",
    "\n",
    "# Usage\n",
    "root_directory = './dataset/processed/PRISM2D_MouseEmbryo'  # Change to your directory path\n",
    "merge_csv_files(root_directory)\n",
    "\n",
    "root_directory = './dataset/processed/PRISM2D_HCC'  # Change to your directory path\n",
    "merge_csv_files(root_directory)"
   ]
  }
 ],
 "metadata": {
  "language_info": {
   "name": "python"
  }
 },
 "nbformat": 4,
 "nbformat_minor": 2
}
