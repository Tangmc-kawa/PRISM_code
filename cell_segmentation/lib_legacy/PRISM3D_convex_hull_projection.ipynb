{
 "cells": [
  {
   "cell_type": "code",
   "execution_count": 1,
   "metadata": {},
   "outputs": [
    {
     "name": "stderr",
     "output_type": "stream",
     "text": [
      "c:\\Users\\Mingchuan\\anaconda3\\envs\\cell-typing\\lib\\site-packages\\numpy\\_distributor_init.py:30: UserWarning: loaded more than 1 DLL from .libs:\n",
      "c:\\Users\\Mingchuan\\anaconda3\\envs\\cell-typing\\lib\\site-packages\\numpy\\.libs\\libopenblas.EL2C6PLE4ZYW3ECEVIV3OXXGRN2NRFM2.gfortran-win_amd64.dll\n",
      "c:\\Users\\Mingchuan\\anaconda3\\envs\\cell-typing\\lib\\site-packages\\numpy\\.libs\\libopenblas64__v0.3.21-gcc_10_3_0.dll\n",
      "  warnings.warn(\"loaded more than 1 DLL from .libs:\"\n"
     ]
    }
   ],
   "source": [
    "import os\n",
    "from pathlib import Path\n",
    "import pandas as pd\n",
    "import numpy as np\n",
    "\n",
    "from tifffile import TiffFile, imwrite\n",
    "from scipy.spatial import ConvexHull\n",
    "from numba import njit\n",
    "from concurrent.futures import ThreadPoolExecutor"
   ]
  },
  {
   "cell_type": "code",
   "execution_count": null,
   "metadata": {},
   "outputs": [],
   "source": [
    "CHANNELS = ['cy5', 'TxRed', 'cy3', 'FAM']\n",
    "BASE_DIR = Path('E:/TMC/PRISM_pipeline/dataset/processed')\n",
    "RUN_ID = '20230227_test'\n",
    "src_dir = BASE_DIR / f'{RUN_ID}_processed'\n",
    "stc_dir = src_dir / 'stitched'\n",
    "read_dir = src_dir / 'readout'\n",
    "seg_dir = src_dir / 'segmented'\n",
    "cel_typ_dir = src_dir / 'analysis_cell_typing'\n",
    "os.makedirs(seg_dir, exist_ok=True)"
   ]
  },
  {
   "cell_type": "markdown",
   "metadata": {},
   "source": [
    "# read rna info and dapi to get proper shape"
   ]
  },
  {
   "cell_type": "code",
   "execution_count": 2,
   "metadata": {},
   "outputs": [],
   "source": [
    "def extract_points(rna_info):\n",
    "    cell_points = {}\n",
    "\n",
    "    # Iterate through the DataFrame and store the cell index at the corresponding x, y, z position in the output array\n",
    "    cell_index_set = sorted([int(_) for _ in rna_info[\"Cell Index\"].unique()])\n",
    "    for index in cell_index_set:\n",
    "        cell_points[index] = []\n",
    "\n",
    "    for index, row in rna_info.iterrows():\n",
    "        z, x, y = int(row[\"z_in_pix\"]), int(row[\"x_in_pix\"]), int(row[\"y_in_pix\"])\n",
    "        cell_index = row[\"Cell Index\"]\n",
    "        cell_points[cell_index].append([z, x, y])\n",
    "    return cell_points"
   ]
  },
  {
   "cell_type": "code",
   "execution_count": 3,
   "metadata": {},
   "outputs": [
    {
     "name": "stdout",
     "output_type": "stream",
     "text": [
      "shape=(121, 1929, 6415); min_shape=(116, 1926, 6410); cell_num=8420\n"
     ]
    }
   ],
   "source": [
    "# get the shape of output image\n",
    "with TiffFile(seg_dir/'dapi_predict.tif') as tif:\n",
    "    image = tif.asarray()\n",
    "    shape = image.shape\n",
    "\n",
    "# read rna df and process of points\n",
    "rna_info = pd.read_csv(read_dir/'mapped_genes_preprocessed.csv')\n",
    "zscale, xscale, yscale = (1/3.36, 1, 1)\n",
    "rna_info[\"z_in_pix\"] *= zscale\n",
    "rna_info[\"x_in_pix\"] *= xscale\n",
    "rna_info[\"y_in_pix\"] *= yscale\n",
    "rna_info[\"z_in_pix\"] = [int(_) for _ in rna_info[\"z_in_pix\"]]\n",
    "min_shape = (rna_info[\"z_in_pix\"].max(), rna_info[\"x_in_pix\"].max(), rna_info[\"y_in_pix\"].max())\n",
    "\n",
    "input_cells = extract_points(rna_info=rna_info)\n",
    "\n",
    "print(f\"shape={shape}; min_shape={min_shape}; cell_num={len(input_cells.keys())}\")"
   ]
  },
  {
   "cell_type": "markdown",
   "metadata": {},
   "source": [
    "# Fill the convex"
   ]
  },
  {
   "cell_type": "code",
   "execution_count": 4,
   "metadata": {},
   "outputs": [],
   "source": [
    "@njit\n",
    "def get_filled_hull_numba(mask, equations):\n",
    "    ran = mask.shape\n",
    "    for y in range(ran[2]):\n",
    "        for x in range(ran[1]):\n",
    "            for z in range(ran[0]):\n",
    "                inside_hull = True\n",
    "                for i in range(equations.shape[0]):\n",
    "                    plane = equations[i]\n",
    "                    if plane[0] * z + plane[1] * x + plane[2] * y + plane[3] > 0:\n",
    "                        inside_hull = False\n",
    "                        break\n",
    "                if inside_hull:\n",
    "                    mask[z, x, y] = True\n",
    "    return mask\n",
    "\n",
    "\n",
    "def get_filled_hull(hull, shape):\n",
    "    mask = np.zeros(shape, dtype=bool)\n",
    "    mask = get_filled_hull_numba(mask, hull.equations)\n",
    "\n",
    "    return mask"
   ]
  },
  {
   "cell_type": "code",
   "execution_count": 19,
   "metadata": {},
   "outputs": [],
   "source": [
    "# set the rule for gray scale\n",
    "gray_scale = dict()\n",
    "\n",
    "cell_info = pd.read_csv(read_dir/'cell_info.csv', index_col=0)\n",
    "# tmp_category = [line.strip() for line in open(cel_typ_dir/'annotated_subtype.txt', 'r')]\n",
    "# for _, subtype in enumerate(tmp_category):\n",
    "#     for cell_index in cell_info[cell_info.subtype==subtype].index:\n",
    "#         gray_scale[cell_index] = _ + 1\n",
    "\n",
    "for cell_index in cell_info[cell_info.subtype!='other'].index:\n",
    "    gray_scale[cell_index] = cell_index + 1"
   ]
  },
  {
   "cell_type": "code",
   "execution_count": 17,
   "metadata": {},
   "outputs": [],
   "source": [
    "# import scanpy as sc\n",
    "\n",
    "# adata = sc.read_h5ad(os.path.join(workdir, 'cell_typing', 'direct', 'adata.h5ad'))\n",
    "# adata.obs.index = [int(_) for _ in adata.obs.index]\n",
    "# cell_info = adata.obs.copy()\n",
    "# tmp_category = [line.strip() for line in open(os.path.join(workdir, 'cell_typing', 'direct', 'annotated_subtype.txt'), 'r')]"
   ]
  },
  {
   "cell_type": "code",
   "execution_count": 18,
   "metadata": {},
   "outputs": [],
   "source": [
    "# gray_scale = dict()\n",
    "# for _, subtype in enumerate(tmp_category):\n",
    "#     for cell_index in cell_info[cell_info.subtype==subtype].index:\n",
    "#         gray_scale[cell_index] = _ + 1"
   ]
  },
  {
   "cell_type": "code",
   "execution_count": 21,
   "metadata": {},
   "outputs": [],
   "source": [
    "labels = list(cell_info.index)\n",
    "filled_hull = np.zeros(shape, dtype=np.uint16)\n",
    "def process_label(label):\n",
    "    points = np.array(input_cells[label])\n",
    "    scan_range = np.array([np.min(points, axis=0), np.max(points, axis=0) + 1])\n",
    "    hull = ConvexHull(points - np.min(points, axis=0))\n",
    "\n",
    "    mask = get_filled_hull(hull, tuple(scan_range[1] - scan_range[0]))\n",
    "    filled_hull[scan_range[0][0] : scan_range[1][0], \n",
    "                scan_range[0][1] : scan_range[1][1], \n",
    "                scan_range[0][2] : scan_range[1][2]][mask] = gray_scale[label]\n",
    "\n",
    "with ThreadPoolExecutor(max_workers=16) as executor:\n",
    "    executor.map(process_label, labels)\n",
    "\n",
    "imwrite(seg_dir/'cell_convex.tif', filled_hull)"
   ]
  },
  {
   "cell_type": "markdown",
   "metadata": {},
   "source": [
    "## Single cell projection "
   ]
  },
  {
   "cell_type": "code",
   "execution_count": 21,
   "metadata": {},
   "outputs": [],
   "source": [
    "single_cell_dir = src_dir/'analysis_subcellular'"
   ]
  },
  {
   "cell_type": "code",
   "execution_count": 22,
   "metadata": {},
   "outputs": [
    {
     "name": "stderr",
     "output_type": "stream",
     "text": [
      "C:\\Users\\Mingchuan\\AppData\\Local\\Temp\\ipykernel_19256\\216743827.py:2: DtypeWarning: Columns (6) have mixed types. Specify dtype option on import or set low_memory=False.\n",
      "  rna_df = pd.read_csv(os.path.join(workdir, 'mapped_genes_processed.csv'), index_col=0)\n"
     ]
    }
   ],
   "source": [
    "cell_info = pd.read_csv(cel_typ_dir/'cell_Info.csv', index_col=0)\n",
    "rna_df = pd.read_csv(read_dir/'mapped_genes_processed.csv', index_col=0)"
   ]
  },
  {
   "cell_type": "code",
   "execution_count": 23,
   "metadata": {},
   "outputs": [],
   "source": [
    "import tifffile\n",
    "\n",
    "with tifffile.TiffFile(seg_dir/'dapi_predict.tif') as tif:\n",
    "    dapi_predict = np.sign(tif.asarray()).astype(np.uint8)\n",
    "with tifffile.TiffFile(seg_dir/'cell_convex.tif') as tif:\n",
    "    cell_convex = np.sign(tif.asarray()).astype(np.uint8)"
   ]
  },
  {
   "cell_type": "code",
   "execution_count": 24,
   "metadata": {},
   "outputs": [],
   "source": [
    "type_of_interest = [line.strip() for line in open(os.path.join(workdir, 'cell_typing', 'annotated_subtype.txt'), 'r')]\n",
    "cell_info['subtype'] = pd.Categorical(cell_info['subtype'], categories=type_of_interest, ordered=True)"
   ]
  },
  {
   "cell_type": "code",
   "execution_count": 28,
   "metadata": {},
   "outputs": [],
   "source": [
    "from tqdm import tqdm\n",
    "gene_order_list = ['Gapdh','Slc1a3', 'Slc17a7', 'Snap25',\n",
    "             'Rasgrf2','Rgs4', 'Prox1', 'Plcxd2', 'Vxn', 'Pcp4', 'Nr4a2', 'Ctgf',\n",
    "             'Gad1', 'Gad2', 'Pvalb', 'Sst', 'Vip', 'Lamp5',\n",
    "             'Aqp4', 'Apod', 'Plp1', 'Cx3cr1', 'Pmch', 'Gfap',\n",
    "             'Cck', 'Mbp', 'Rprm', 'Enpp2', 'Nov', 'Rorb', \n",
    "             ]"
   ]
  },
  {
   "cell_type": "code",
   "execution_count": 29,
   "metadata": {},
   "outputs": [
    {
     "name": "stderr",
     "output_type": "stream",
     "text": [
      "Ex-thalamus:   0%|          | 0/2429 [00:00<?, ?it/s]"
     ]
    },
    {
     "name": "stderr",
     "output_type": "stream",
     "text": [
      "Ex-thalamus:   2%|▏         | 59/2429 [00:37<24:01,  1.64it/s]"
     ]
    },
    {
     "name": "stdout",
     "output_type": "stream",
     "text": [
      "cell_105 centroid out of bound.\n"
     ]
    },
    {
     "name": "stderr",
     "output_type": "stream",
     "text": [
      "Ex-thalamus:  37%|███▋      | 910/2429 [08:04<09:40,  2.62it/s]"
     ]
    },
    {
     "name": "stdout",
     "output_type": "stream",
     "text": [
      "cell_2462 centroid out of bound.\n"
     ]
    },
    {
     "name": "stderr",
     "output_type": "stream",
     "text": [
      "Ex-thalamus:  43%|████▎     | 1050/2429 [09:18<10:06,  2.27it/s]"
     ]
    },
    {
     "name": "stdout",
     "output_type": "stream",
     "text": [
      "cell_2705 centroid out of bound.\n"
     ]
    },
    {
     "name": "stderr",
     "output_type": "stream",
     "text": [
      "Ex-thalamus:  65%|██████▍   | 1571/2429 [13:47<04:53,  2.93it/s]"
     ]
    },
    {
     "name": "stdout",
     "output_type": "stream",
     "text": [
      "cell_5161 centroid out of bound.\n"
     ]
    },
    {
     "name": "stderr",
     "output_type": "stream",
     "text": [
      "Ex-thalamus:  66%|██████▌   | 1599/2429 [13:56<03:17,  4.21it/s]"
     ]
    },
    {
     "name": "stdout",
     "output_type": "stream",
     "text": [
      "cell_5605 centroid out of bound.\n"
     ]
    },
    {
     "name": "stderr",
     "output_type": "stream",
     "text": [
      "Ex-thalamus:  70%|███████   | 1702/2429 [14:49<06:13,  1.95it/s]"
     ]
    },
    {
     "name": "stdout",
     "output_type": "stream",
     "text": [
      "cell_5822 centroid out of bound.\n"
     ]
    },
    {
     "name": "stderr",
     "output_type": "stream",
     "text": [
      "Ex-thalamus:  79%|███████▉  | 1923/2429 [16:44<02:39,  3.18it/s]"
     ]
    },
    {
     "name": "stdout",
     "output_type": "stream",
     "text": [
      "cell_6609 centroid out of bound.\n"
     ]
    },
    {
     "name": "stderr",
     "output_type": "stream",
     "text": [
      "Ex-thalamus:  94%|█████████▍| 2290/2429 [19:59<00:57,  2.40it/s]"
     ]
    },
    {
     "name": "stdout",
     "output_type": "stream",
     "text": [
      "cell_7758 centroid out of bound.\n"
     ]
    },
    {
     "name": "stderr",
     "output_type": "stream",
     "text": [
      "Ex-thalamus:  99%|█████████▊| 2395/2429 [20:49<00:07,  4.79it/s]"
     ]
    },
    {
     "name": "stdout",
     "output_type": "stream",
     "text": [
      "cell_8297 centroid out of bound.\n"
     ]
    },
    {
     "name": "stderr",
     "output_type": "stream",
     "text": [
      "Ex-thalamus: 100%|██████████| 2429/2429 [21:02<00:00,  1.92it/s]\n",
      "In-Pvalb: 100%|██████████| 707/707 [06:25<00:00,  1.84it/s]\n",
      "In-Sst: 100%|██████████| 433/433 [03:34<00:00,  2.02it/s]\n",
      "In-Vip:  97%|█████████▋| 339/351 [02:59<00:05,  2.09it/s]"
     ]
    },
    {
     "name": "stdout",
     "output_type": "stream",
     "text": [
      "cell_8263 centroid out of bound.\n"
     ]
    },
    {
     "name": "stderr",
     "output_type": "stream",
     "text": [
      "In-Vip: 100%|██████████| 351/351 [03:04<00:00,  1.90it/s]\n",
      "Glial-Astrocyte:  38%|███▊      | 252/657 [01:41<02:02,  3.31it/s]"
     ]
    },
    {
     "name": "stdout",
     "output_type": "stream",
     "text": [
      "cell_4354 centroid out of bound.\n"
     ]
    },
    {
     "name": "stderr",
     "output_type": "stream",
     "text": [
      "Glial-Astrocyte:  55%|█████▌    | 363/657 [02:21<01:18,  3.73it/s]"
     ]
    },
    {
     "name": "stdout",
     "output_type": "stream",
     "text": [
      "cell_5340 centroid out of bound.\n"
     ]
    },
    {
     "name": "stderr",
     "output_type": "stream",
     "text": [
      "Glial-Astrocyte:  73%|███████▎  | 480/657 [03:07<00:42,  4.15it/s]"
     ]
    },
    {
     "name": "stdout",
     "output_type": "stream",
     "text": [
      "cell_6937 centroid out of bound.\n"
     ]
    },
    {
     "name": "stderr",
     "output_type": "stream",
     "text": [
      "Glial-Astrocyte: 100%|██████████| 657/657 [04:08<00:00,  2.65it/s]\n",
      "Glial-Microglia: 100%|██████████| 205/205 [01:33<00:00,  2.19it/s]\n",
      "Glial-Oligodendrocyte:  31%|███▏      | 185/588 [01:17<02:06,  3.19it/s]"
     ]
    },
    {
     "name": "stdout",
     "output_type": "stream",
     "text": [
      "cell_3174 centroid out of bound.\n"
     ]
    },
    {
     "name": "stderr",
     "output_type": "stream",
     "text": [
      "Glial-Oligodendrocyte:  38%|███▊      | 221/588 [01:33<02:33,  2.40it/s]"
     ]
    },
    {
     "name": "stdout",
     "output_type": "stream",
     "text": [
      "cell_3648 centroid out of bound.\n"
     ]
    },
    {
     "name": "stderr",
     "output_type": "stream",
     "text": [
      "Glial-Oligodendrocyte:  58%|█████▊    | 340/588 [02:16<01:28,  2.82it/s]"
     ]
    },
    {
     "name": "stdout",
     "output_type": "stream",
     "text": [
      "cell_4890 centroid out of bound.\n"
     ]
    },
    {
     "name": "stderr",
     "output_type": "stream",
     "text": [
      "Glial-Oligodendrocyte: 100%|██████████| 588/588 [03:46<00:00,  2.60it/s]\n"
     ]
    }
   ],
   "source": [
    "from scipy.ndimage import zoom\n",
    "import warnings\n",
    "warnings.filterwarnings(\"ignore\", category=UserWarning, module=\"tifffile\")\n",
    "\n",
    "\n",
    "# valid_cells = cell_info.loc[valid_index]\n",
    "valid_cells = cell_info.copy()\n",
    "for _, tmp_cell_type in enumerate(type_of_interest):\n",
    "    out_path = os.path.join(workdir, 'subcellular_analysis', 'single_cell_projection_in_out', f'{_+1}_{tmp_cell_type}')\n",
    "    os.makedirs(out_path, exist_ok=True)\n",
    "    for index in tqdm(valid_cells[valid_cells['subtype']==tmp_cell_type].index, desc=tmp_cell_type):\n",
    "        # if len(rna_df[rna_df['Cell Index']==index])<10:\n",
    "        #     continue\n",
    "        centroid = valid_cells[['ce_z_in_pix','ce_x_in_pix','ce_y_in_pix']].loc[index].values\n",
    "        cell_rnas = rna_df[rna_df['Cell Index']==index]\n",
    "        min_pos = np.min(cell_rnas[['z_in_pix','x_in_pix','y_in_pix']].values, axis=0)\n",
    "        max_pos = np.max(cell_rnas[['z_in_pix','x_in_pix','y_in_pix']].values, axis=0)\n",
    "\n",
    "        shape = max_pos - min_pos + 40\n",
    "        shape=np.uint16(shape)\n",
    "        cell_array = np.zeros(shape=shape, dtype=np.uint8)\n",
    "\n",
    "\n",
    "        nucleus_array = dapi_predict[\n",
    "            int((min_pos[0]-20)//3.36): int((max_pos[0]+20)//3.36), \n",
    "            int(min_pos[1] - 20): int(max_pos[1] + 20), \n",
    "            int(min_pos[2] - 20): int(max_pos[2] + 20)\n",
    "            ].astype(np.uint8)\n",
    "        \n",
    "        convex_array = cell_convex[\n",
    "            int((min_pos[0]-20)//3.36): int((max_pos[0]+20)//3.36), \n",
    "            int(min_pos[1] - 20): int(max_pos[1] + 20), \n",
    "            int(min_pos[2] - 20): int(max_pos[2] + 20)\n",
    "            ].astype(np.uint8)\n",
    "\n",
    "        zoom_factor = (shape[0] / (int((max_pos[0]+20)//3.36) - int((min_pos[0]-20)//3.36)), 1, 1)\n",
    "        nucleus_array = zoom(nucleus_array, zoom_factor, order=3)\n",
    "        convex_array = zoom(convex_array, zoom_factor, order=3)\n",
    "        \n",
    "        centroid = centroid - min_pos + 20\n",
    "        centroid[0] = int(centroid[0])\n",
    "        centroid = np.uint16(centroid)\n",
    "        \n",
    "        try:\n",
    "            cell_array[centroid[0], centroid[1], centroid[2]] = 50\n",
    "        except:\n",
    "            print(f'cell_{index} centroid out of bound.')\n",
    "            # continue\n",
    "\n",
    "        for _, gene in enumerate(gene_order_list):\n",
    "            gene_rnas = cell_rnas[cell_rnas['Gene'] == gene][['z_in_pix','x_in_pix','y_in_pix']].values\n",
    "            in_nu = cell_rnas[cell_rnas['Gene'] == gene][['in_nu']].values\n",
    "            for pos, in_nu_tmp in zip(gene_rnas, in_nu):\n",
    "                pos = np.uint16(pos-min_pos+20)\n",
    "                if in_nu_tmp[0]:\n",
    "                    cell_array[pos[0], pos[1], pos[2]] = _ + 1\n",
    "                else:\n",
    "                    cell_array[pos[0], pos[1], pos[2]] = _ + 51\n",
    "        \n",
    "        tifffile.imwrite(os.path.join(out_path, f'{index},{len(cell_rnas)},1.tif'), cell_array)\n",
    "        tifffile.imwrite(os.path.join(out_path, f'{index},{len(cell_rnas)},2.tif'), nucleus_array)\n",
    "        tifffile.imwrite(os.path.join(out_path, f'{index},{len(cell_rnas)},3.tif'), convex_array)"
   ]
  }
 ],
 "metadata": {
  "kernelspec": {
   "display_name": "image_process",
   "language": "python",
   "name": "python3"
  },
  "language_info": {
   "codemirror_mode": {
    "name": "ipython",
    "version": 3
   },
   "file_extension": ".py",
   "mimetype": "text/x-python",
   "name": "python",
   "nbconvert_exporter": "python",
   "pygments_lexer": "ipython3",
   "version": "3.8.17"
  },
  "orig_nbformat": 4
 },
 "nbformat": 4,
 "nbformat_minor": 2
}
