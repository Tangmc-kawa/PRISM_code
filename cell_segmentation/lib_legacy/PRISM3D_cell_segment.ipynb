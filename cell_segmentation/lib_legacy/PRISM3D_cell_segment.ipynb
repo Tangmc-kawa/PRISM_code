{
 "cells": [
  {
   "cell_type": "code",
   "execution_count": 1,
   "metadata": {},
   "outputs": [
    {
     "name": "stderr",
     "output_type": "stream",
     "text": [
      "c:\\Users\\Mingchuan\\anaconda3\\envs\\cell-typing\\lib\\site-packages\\numpy\\_distributor_init.py:30: UserWarning: loaded more than 1 DLL from .libs:\n",
      "c:\\Users\\Mingchuan\\anaconda3\\envs\\cell-typing\\lib\\site-packages\\numpy\\.libs\\libopenblas.EL2C6PLE4ZYW3ECEVIV3OXXGRN2NRFM2.gfortran-win_amd64.dll\n",
      "c:\\Users\\Mingchuan\\anaconda3\\envs\\cell-typing\\lib\\site-packages\\numpy\\.libs\\libopenblas64__v0.3.21-gcc_10_3_0.dll\n",
      "  warnings.warn(\"loaded more than 1 DLL from .libs:\"\n"
     ]
    }
   ],
   "source": [
    "import os\n",
    "from pathlib import Path\n",
    "import numpy as np\n",
    "import pandas as pd\n",
    "from tqdm import tqdm\n",
    "from scipy.spatial import KDTree\n",
    "\n",
    "\n",
    "CHANNELS = ['cy5', 'TxRed', 'cy3', 'FAM']\n",
    "BASE_DIR = Path('E:/TMC/PRISM_pipeline/dataset/processed')\n",
    "RUN_ID = '20230227_test'\n",
    "src_dir = BASE_DIR / f'{RUN_ID}_processed'\n",
    "stc_dir = src_dir / 'stitched'\n",
    "read_dir = src_dir / 'readout'\n",
    "seg_dir = src_dir / 'segmented'\n",
    "os.makedirs(read_dir, exist_ok=True)"
   ]
  },
  {
   "cell_type": "markdown",
   "metadata": {},
   "source": [
    "## load files and preprocess"
   ]
  },
  {
   "cell_type": "code",
   "execution_count": 3,
   "metadata": {},
   "outputs": [],
   "source": [
    "# fun remove duplicates\n",
    "def remove_duplicates(coordinates):\n",
    "    tree = KDTree(coordinates)\n",
    "    pairs = tree.query_pairs(2)\n",
    "    neighbors = {} #dictionary of neighbors\n",
    "    \n",
    "    for i,j in pairs: #iterate over all pairs\n",
    "        if i not in neighbors: neighbors[i] = set([j])\n",
    "        else: neighbors[i].add(j)\n",
    "        \n",
    "        if j not in neighbors: neighbors[j] = set([i])\n",
    "        else: neighbors[j].add(i)\n",
    "\n",
    "    keep = []\n",
    "    discard = set() # a list would work, but I use a set for fast member testing with `in`\n",
    "    nodes = set([s[0] for s in pairs]+[s[1] for s in pairs])\n",
    "    for node in nodes:\n",
    "        if node not in discard: # if node already in discard set: skip\n",
    "            keep.append(node) # add node to keep list\n",
    "            discard.update(neighbors.get(node,set())) #add node's neighbors to discard set\n",
    "    centroids_simplified = np.delete(coordinates, list(discard), axis=0)\n",
    "    return centroids_simplified\n",
    "\n",
    "\n",
    "def load_rnas(centroids, input_dir=read_dir/'mapped_genes.csv', preprocess=True):\n",
    "    # load rnas\n",
    "    rna_raw = pd.read_csv(input_dir)\n",
    "    if not preprocess:\n",
    "        rna_df = rna_raw.copy()\n",
    "        rna_df = rna_df.loc[:, ~rna_df.columns.str.contains('^Unnamed')]\n",
    "        print(rna_df)\n",
    "\n",
    "    else:\n",
    "        rna_raw = rna_raw[['x_in_pix','y_in_pix','z_in_pix','Gene']]\n",
    "        print(f'ori_rna_num:\\t{len(rna_raw)}')\n",
    "\n",
    "        df = rna_raw[['x_in_pix','y_in_pix','z_in_pix','Gene']]\n",
    "        df_reduced = pd.DataFrame()\n",
    "        for gene in tqdm(set(df['Gene']), desc='deduplicating'):\n",
    "            df_gene = df[df['Gene'] == gene]\n",
    "            coordinates = df_gene[['x_in_pix','y_in_pix','z_in_pix']].values\n",
    "            coordinates = remove_duplicates(coordinates)\n",
    "            df_gene_reduced = pd.DataFrame(coordinates, columns=['x_in_pix','y_in_pix','z_in_pix'])\n",
    "            df_gene_reduced['Gene'] = gene\n",
    "            df_reduced = pd.concat([df_reduced, df_gene_reduced], axis=0)\n",
    "        print(f'dedu_rna_num:\\t{df_reduced.shape[0]}')\n",
    "\n",
    "\n",
    "        # assign rna to nearest centroid\n",
    "        rna_df = df_reduced.copy()\n",
    "        rna_df['z_in_pix'] *= 3.36 # scale z to xy\n",
    "        rna_pos = rna_df[['z_in_pix', 'x_in_pix','y_in_pix']].to_numpy()\n",
    "        tree = KDTree(centroids)\n",
    "        _, indices = tree.query(rna_pos, k=1, distance_upper_bound=100)\n",
    "        rna_df['Cell Index'] = indices\n",
    "        rna_df = rna_df[rna_df['Cell Index'] < centroids.shape[0]]\n",
    "\n",
    "        # rm other\n",
    "        rna_df = rna_df[rna_df['Gene']!='Other']\n",
    "        num = len(rna_df['Cell Index'].unique())\n",
    "        print(f'rm_oth_rna_num:\\t{rna_df.shape[0]}')\n",
    "        print(f'cell_num:\\t{num}')\n",
    "        print(rna_df.loc[:5])\n",
    "\n",
    "        rna_df.to_csv(input_dir.replace('.csv', '_preprocessed.csv'), index=False)\n",
    "\n",
    "    return rna_df\n",
    "\n",
    "\n",
    "def create_exp_matrix(rna_df):\n",
    "    match_df = rna_df.copy()\n",
    "    match_df['Count'] = np.ones(len(match_df))\n",
    "    match_df_group = match_df[['Cell Index','Gene','Count']].groupby(['Cell Index','Gene']).count()\n",
    "    matrix = match_df_group.unstack().fillna(0)\n",
    "    matrix.columns = matrix.columns.droplevel()\n",
    "    matrix.columns.name = 'Gene'\n",
    "    matrix.index.name = 'Cell Index'\n",
    "    return matrix"
   ]
  },
  {
   "cell_type": "code",
   "execution_count": 5,
   "metadata": {},
   "outputs": [
    {
     "name": "stdout",
     "output_type": "stream",
     "text": [
      "centroid_num:\t8556\n"
     ]
    }
   ],
   "source": [
    "# read cell centroid\n",
    "centroids = pd.read_csv(seg_dir/'dapi_predict.csv', index_col=0).to_numpy(dtype=np.float64)\n",
    "centroids[:,0] *= 3.36\n",
    "centroids[:,1] *= 1\n",
    "centroids[:,2] *= 1\n",
    "print(f'centroid_num:\\t{len(centroids)}')"
   ]
  },
  {
   "cell_type": "code",
   "execution_count": 11,
   "metadata": {},
   "outputs": [
    {
     "name": "stdout",
     "output_type": "stream",
     "text": [
      "        x_in_pix  y_in_pix  z_in_pix   Gene  Cell Index  in_nu\n",
      "0           1753      3756     53.76  Nr4a2        7023  False\n",
      "1            346       655    107.52  Nr4a2         213   True\n",
      "2           1444      5474    137.76  Nr4a2        6034   True\n",
      "3            965       438    191.52  Nr4a2        3185  False\n",
      "4            704       192    117.60  Nr4a2        1724   True\n",
      "...          ...       ...       ...    ...         ...    ...\n",
      "235027      1113      3002    248.64    Nov        4005  False\n",
      "235028      1351      5115    104.16    Nov        5976  False\n",
      "235029      1701      3348    201.60    Nov        6933  False\n",
      "235030      1166      2349     90.72    Nov        3866  False\n",
      "235031       770      4685    110.88    Nov        2845  False\n",
      "\n",
      "[235032 rows x 6 columns]\n"
     ]
    }
   ],
   "source": [
    "# rad rna information\n",
    "rna_df = load_rnas(centroids=centroids, input_dir=seg_dir/'mapped_genes.csv', preprocess=False)"
   ]
  },
  {
   "cell_type": "code",
   "execution_count": 12,
   "metadata": {},
   "outputs": [],
   "source": [
    "## replace gene names\n",
    "PRISM_list = [f'PRISM_{_}' for _ in range(1,31)]\n",
    "gene_order_list = ['Gapdh','Slc1a3', 'Slc17a7', 'Snap25',\n",
    "             'Rasgrf2','Rgs4', 'Prox1', 'Plcxd2', 'Vxn', 'Pcp4', 'Nr4a2', 'Ctgf',\n",
    "             'Gad1', 'Gad2', 'Pvalb', 'Sst', 'Vip', 'Lamp5',\n",
    "             'Aqp4', 'Apod', 'Plp1', 'Cx3cr1', 'Pmch', 'Gfap',\n",
    "             'Cck', 'Mbp', 'Rprm', 'Enpp2', 'Nov', 'Rorb', \n",
    "             ]\n",
    "\n",
    "gene_list = list(pd.read_csv(r'E:\\TMC\\cell_typing\\dataset_spatial\\PRISM_mousebrain\\var.csv')['gene_names'])\n",
    "replace = {PRISM_list[_]:gene_list[_] for _ in range(len(PRISM_list))}\n",
    "rna_df['Gene'] = rna_df['Gene'].replace(replace)\n",
    "rna_df['Gene'] = rna_df['Gene'].replace({'3110035E14Rik':'Vxn'})\n",
    "rna_df['Gene'] = pd.Categorical(rna_df['Gene'], categories=gene_order_list, ordered=True)"
   ]
  },
  {
   "cell_type": "code",
   "execution_count": 13,
   "metadata": {},
   "outputs": [],
   "source": [
    "matrix = create_exp_matrix(rna_df)\n",
    "matrix.to_csv(seg_dir/'expression_matrix.csv')"
   ]
  }
 ],
 "metadata": {
  "kernelspec": {
   "display_name": "cell-typing",
   "language": "python",
   "name": "python3"
  },
  "language_info": {
   "codemirror_mode": {
    "name": "ipython",
    "version": 3
   },
   "file_extension": ".py",
   "mimetype": "text/x-python",
   "name": "python",
   "nbconvert_exporter": "python",
   "pygments_lexer": "ipython3",
   "version": "3.8.17"
  }
 },
 "nbformat": 4,
 "nbformat_minor": 2
}
