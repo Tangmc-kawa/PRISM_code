{
 "cells": [
  {
   "cell_type": "code",
   "execution_count": 1,
   "metadata": {},
   "outputs": [
    {
     "name": "stderr",
     "output_type": "stream",
     "text": [
      "c:\\Users\\Mingchuan\\anaconda3\\envs\\cell-typing\\lib\\site-packages\\numpy\\_distributor_init.py:30: UserWarning: loaded more than 1 DLL from .libs:\n",
      "c:\\Users\\Mingchuan\\anaconda3\\envs\\cell-typing\\lib\\site-packages\\numpy\\.libs\\libopenblas.EL2C6PLE4ZYW3ECEVIV3OXXGRN2NRFM2.gfortran-win_amd64.dll\n",
      "c:\\Users\\Mingchuan\\anaconda3\\envs\\cell-typing\\lib\\site-packages\\numpy\\.libs\\libopenblas64__v0.3.21-gcc_10_3_0.dll\n",
      "  warnings.warn(\"loaded more than 1 DLL from .libs:\"\n"
     ]
    },
    {
     "ename": "ModuleNotFoundError",
     "evalue": "No module named 'multi_channel_readout'",
     "output_type": "error",
     "traceback": [
      "\u001b[1;31m---------------------------------------------------------------------------\u001b[0m",
      "\u001b[1;31mModuleNotFoundError\u001b[0m                       Traceback (most recent call last)",
      "Cell \u001b[1;32mIn[1], line 6\u001b[0m\n\u001b[0;32m      4\u001b[0m \u001b[38;5;28;01mimport\u001b[39;00m \u001b[38;5;21;01mpandas\u001b[39;00m \u001b[38;5;28;01mas\u001b[39;00m \u001b[38;5;21;01mpd\u001b[39;00m\n\u001b[0;32m      5\u001b[0m \u001b[38;5;28;01mfrom\u001b[39;00m \u001b[38;5;21;01mskimage\u001b[39;00m\u001b[38;5;21;01m.\u001b[39;00m\u001b[38;5;21;01mio\u001b[39;00m \u001b[38;5;28;01mimport\u001b[39;00m imread\n\u001b[1;32m----> 6\u001b[0m \u001b[38;5;28;01mfrom\u001b[39;00m \u001b[38;5;21;01mmulti_channel_readout\u001b[39;00m \u001b[38;5;28;01mimport\u001b[39;00m divide_main, extract_signal, read_intensity\n\u001b[0;32m      9\u001b[0m CHANNELS \u001b[38;5;241m=\u001b[39m [\u001b[38;5;124m'\u001b[39m\u001b[38;5;124mcy5\u001b[39m\u001b[38;5;124m'\u001b[39m, \u001b[38;5;124m'\u001b[39m\u001b[38;5;124mTxRed\u001b[39m\u001b[38;5;124m'\u001b[39m, \u001b[38;5;124m'\u001b[39m\u001b[38;5;124mcy3\u001b[39m\u001b[38;5;124m'\u001b[39m, \u001b[38;5;124m'\u001b[39m\u001b[38;5;124mFAM\u001b[39m\u001b[38;5;124m'\u001b[39m]\n\u001b[0;32m     10\u001b[0m BASE_DIR \u001b[38;5;241m=\u001b[39m Path(\u001b[38;5;124m'\u001b[39m\u001b[38;5;124mE:/TMC/PRISM_pipeline/dataset/processed\u001b[39m\u001b[38;5;124m'\u001b[39m)\n",
      "\u001b[1;31mModuleNotFoundError\u001b[0m: No module named 'multi_channel_readout'"
     ]
    }
   ],
   "source": [
    "import os\n",
    "from pathlib import Path\n",
    "import numpy as np\n",
    "import pandas as pd\n",
    "from skimage.io import imread\n",
    "from multi_channel_readout import divide_main, extract_signal, read_intensity\n",
    "\n",
    "\n",
    "CHANNELS = ['cy5', 'TxRed', 'cy3', 'FAM']\n",
    "BASE_DIR = Path('E:/TMC/PRISM_pipeline/dataset/processed')\n",
    "RUN_ID = '20230227_test'\n",
    "src_dir = BASE_DIR / f'{RUN_ID}_processed'\n",
    "stc_dir = src_dir / 'stitched'\n",
    "read_dir = src_dir / 'readout'\n",
    "os.makedirs(read_dir, exist_ok=True)"
   ]
  },
  {
   "cell_type": "code",
   "execution_count": null,
   "metadata": {},
   "outputs": [],
   "source": [
    "image_shape = [1] + list(imread(stc_dir/'cyc_1_cy5.tif').shape)\n",
    "print('image_shape: ({})'.format(', '.join(map(str, image_shape))))"
   ]
  },
  {
   "cell_type": "markdown",
   "metadata": {},
   "source": [
    "## spot extraction"
   ]
  },
  {
   "cell_type": "code",
   "execution_count": null,
   "metadata": {},
   "outputs": [
    {
     "name": "stdout",
     "output_type": "stream",
     "text": [
      "image_shape(z, x, y): 1, 33865, 36118\n",
      "n_tile: 16; \n",
      "x_slice_num: 4; y_slice_num: 4;\n",
      "block_x: 8966; block_y: 9529; overlap: 500;\n"
     ]
    },
    {
     "name": "stderr",
     "output_type": "stream",
     "text": [
      "tile: 100%|██████████| 16/16 [06:06<00:00, 22.93s/it]\n"
     ]
    }
   ],
   "source": [
    "def extract_intensity(pad_x, cut_x, pad_y, cut_y, x_pos, y_pos, x_num, y_num, overlap, channels=CHANNELS):\n",
    "    os.makedirs(read_dir/'tmp', exist_ok=True)\n",
    "    image_dict = {}\n",
    "    coordinate_dict = {}\n",
    "    for channel in channels:\n",
    "        coordinate_dict[channel], image_dict[channel] = extract_signal(imread(stc_dir/f'cyc_1_{channel}.tif'), pad_x, cut_x, pad_y, cut_y)\n",
    "    intensity = pd.concat([read_intensity(image_dict, coordinates) for coordinates in coordinate_dict.values()])\n",
    "    intensity['X'] = intensity['X'] + pad_x\n",
    "    intensity['Y'] = intensity['Y'] + pad_y\n",
    "    intensity.to_csv(read_dir/'tmp'/f'intensity_block_{x_pos}_{y_pos}.csv')\n",
    "\n",
    "divide_main(func=extract_intensity, shape=image_shape, max_volume=10**8, overlap=500)"
   ]
  },
  {
   "cell_type": "markdown",
   "metadata": {},
   "source": [
    "## intensity file stitch"
   ]
  },
  {
   "cell_type": "code",
   "execution_count": null,
   "metadata": {},
   "outputs": [
    {
     "name": "stdout",
     "output_type": "stream",
     "text": [
      "n_tile: 16; \n",
      "x_slice_num: 4; y_slice_num: 4;\n",
      "block_x: 8966; block_y: 9529; overlap: 500;\n"
     ]
    },
    {
     "name": "stderr",
     "output_type": "stream",
     "text": [
      "tile: 100%|██████████| 16/16 [00:02<00:00,  7.14it/s]\n"
     ]
    }
   ],
   "source": [
    "global intensity\n",
    "intensity = pd.DataFrame()\n",
    "\n",
    "def stitch_all_block(pad_x, cut_x, pad_y, cut_y, x_pos, y_pos, x_num, y_num, overlap):\n",
    "    global intensity\n",
    "    tmp_intensity = pd.read_csv(read_dir/'tmp'/f'intensity_block_{x_pos}_{y_pos}.csv', index_col=0)\n",
    "\n",
    "    xmin, xmax = pad_x + overlap//2, pad_x + cut_x - overlap//4\n",
    "    if x_pos == 1: xmin = 0\n",
    "    elif x_pos == x_num: xmax = pad_x + cut_x\n",
    "    ymin, ymax = pad_y + overlap//2, pad_y + cut_y - overlap//4\n",
    "    if y_pos == 1: ymin = 0\n",
    "    elif y_pos == y_num: ymax = pad_y + cut_y\n",
    "    tmp_intensity = tmp_intensity[(tmp_intensity['Y']>=ymin)&(tmp_intensity['Y']<=ymax)&\n",
    "                                  (tmp_intensity['X']>=xmin)&(tmp_intensity['X']<=xmax)]\n",
    "\n",
    "    intensity = pd.concat([intensity, tmp_intensity])\n",
    "\n",
    "divide_main(func=stitch_all_block, shape=image_shape, max_volume=10**8, overlap=500)\n",
    "intensity = intensity.rename(columns={'cy5':'R', 'TxRed':'Ye', 'cy3':'G', 'FAM':'B'})\n",
    "intensity.to_csv(read_dir / 'intensity_all.csv')"
   ]
  },
  {
   "cell_type": "markdown",
   "metadata": {},
   "source": [
    "## remove duplicate"
   ]
  },
  {
   "cell_type": "code",
   "execution_count": null,
   "metadata": {},
   "outputs": [],
   "source": [
    "from multi_channel_readout import remove_duplicates\n",
    "\n",
    "intensity['ID'] = intensity['Y'] * 10**7 + intensity['X']\n",
    "intensity = intensity.drop_duplicates(subset=['Y','X'])\n",
    "\n",
    "df = intensity[['Y','X','R', 'Ye', 'B', 'G']]\n",
    "df_reduced = pd.DataFrame()\n",
    "coordinates = df[['Y','X']].values\n",
    "coordinates = remove_duplicates(coordinates)\n",
    "df_reduced = pd.DataFrame(coordinates, columns=['Y','X'])\n",
    "\n",
    "df_reduced['ID'] = df_reduced['Y'] * 10**7 + df_reduced['X']\n",
    "intensity = intensity[intensity['ID'].isin(df_reduced['ID'])]\n",
    "\n",
    "intensity_all = intensity.drop(columns=['ID'])"
   ]
  },
  {
   "cell_type": "code",
   "execution_count": null,
   "metadata": {},
   "outputs": [],
   "source": [
    "# crosstalk elimination\n",
    "intensity_all['B'] = intensity_all['B'] - intensity_all['G'] * 0.25 \n",
    "intensity_all = np.maximum(intensity_all, 0)\n",
    "\n",
    "# Scale\n",
    "intensity_all['Scaled_R'] = intensity_all['R']\n",
    "intensity_all['Scaled_Ye'] = intensity_all['Ye']\n",
    "intensity_all['Scaled_G'] = intensity_all['G'] * 2.5\n",
    "intensity_all['Scaled_B'] = intensity_all['B'] #* 4/3\n",
    "\n",
    "intensity_all.to_csv(read_dir/'intensity_all.csv')"
   ]
  }
 ],
 "metadata": {
  "interpreter": {
   "hash": "82cb6b17021893cb2b4e620d0a16eb5becf80e4817ff65497a2c4eee97509f8f"
  },
  "kernelspec": {
   "display_name": "Python 3.8.8 64-bit ('base': conda)",
   "language": "python",
   "name": "python3"
  },
  "language_info": {
   "codemirror_mode": {
    "name": "ipython",
    "version": 3
   },
   "file_extension": ".py",
   "mimetype": "text/x-python",
   "name": "python",
   "nbconvert_exporter": "python",
   "pygments_lexer": "ipython3",
   "version": "3.8.17"
  },
  "orig_nbformat": 4
 },
 "nbformat": 4,
 "nbformat_minor": 2
}
