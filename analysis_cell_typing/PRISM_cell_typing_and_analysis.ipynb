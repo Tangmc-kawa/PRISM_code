{
 "cells": [
  {
   "cell_type": "markdown",
   "metadata": {},
   "source": [
    "# Gene Expression Analysis"
   ]
  },
  {
   "cell_type": "markdown",
   "metadata": {},
   "source": [
    "## Environment"
   ]
  },
  {
   "cell_type": "code",
   "execution_count": null,
   "metadata": {},
   "outputs": [],
   "source": [
    "# Loading the Packages\n",
    "%reload_ext autoreload\n",
    "%autoreload 2\n",
    "\n",
    "import os\n",
    "from pathlib import Path\n",
    "import warnings\n",
    "warnings.filterwarnings('ignore')\n",
    "from tqdm import tqdm\n",
    "\n",
    "import numpy as np\n",
    "import pandas as pd\n",
    "\n",
    "import matplotlib.pyplot as plt\n",
    "import seaborn as sns\n",
    "\n",
    "import scanpy as sc"
   ]
  },
  {
   "cell_type": "code",
   "execution_count": null,
   "metadata": {},
   "outputs": [],
   "source": [
    "%load_ext autoreload\n",
    "%autoreload 2\n",
    "package_path = r'E:\\TMC\\PRISM_Code\\analysis_cell_typing'\n",
    "if package_path not in sys.path: sys.path.append(package_path)\n",
    "\n",
    "# cell-typing\n",
    "from cell_typing import QC_plot, general_preprocess, preprocess_of_UMAP, UMAP_genes_plot, UMAP_obs_plot, annotate\n",
    "# spatial\n",
    "from spatial import create_hull, show_cluster, ROI_mask_load\n",
    "# correlation analysis\n",
    "from correlation import matrix_for_heatmap"
   ]
  },
  {
   "cell_type": "code",
   "execution_count": null,
   "metadata": {},
   "outputs": [],
   "source": [
    "BASE_DIR = Path('/PRISM_code/dataset/_example_dataset/processed')\n",
    "RUN_ID = '_example_dataset'\n",
    "src_dir = BASE_DIR / f'{RUN_ID}_processed'\n",
    "stc_dir = src_dir / 'stitched'\n",
    "read_dir = src_dir / 'readout'\n",
    "seg_dir = src_dir / 'segmented'\n",
    "cell_typ_dir = src_dir/\"analysis_celltyping\"\n",
    "spatial_dir = src_dir/'analysis_spatial'\n",
    "os.makedirs(cell_typ_dir, exist_ok=True)"
   ]
  },
  {
   "cell_type": "markdown",
   "metadata": {},
   "source": [
    "## load exp data"
   ]
  },
  {
   "cell_type": "code",
   "execution_count": null,
   "metadata": {},
   "outputs": [],
   "source": [
    "# load expression matrix\n",
    "adata = sc.AnnData(pd.read_csv(seg_dir/\"expression_matrix.csv\", index_col=0))\n",
    "adata.var.index = adata.var.index.str.upper()\n",
    "adata.obs['dataset'] = [\"PRISM3D\"] * len(adata)\n",
    "adata.obs['tissue'] = ['mousebrain_HP'] * len(adata)\n",
    "adata.raw = adata\n",
    "gene_list = adata.var.index"
   ]
  },
  {
   "cell_type": "code",
   "execution_count": null,
   "metadata": {},
   "outputs": [],
   "source": [
    "# load spatial information\n",
    "centroid = pd.read_csv(seg_dir/'dapi_predict.csv', index_col=0)\n",
    "centroid_sub = centroid.loc[adata.obs.index]\n",
    "adata.obsm['spatial'] = np.array([centroid_sub['y_in_pix'], centroid_sub['x_in_pix']]).T\n",
    "adata.obsm['spatial3d'] = np.array([centroid_sub['x_in_pix'], \n",
    "                                    centroid_sub['y_in_pix'], \n",
    "                                    centroid_sub['z_in_pix']*3.36]).T"
   ]
  },
  {
   "cell_type": "markdown",
   "metadata": {},
   "source": [
    "## Preprocess"
   ]
  },
  {
   "cell_type": "code",
   "execution_count": null,
   "metadata": {},
   "outputs": [],
   "source": [
    "# process of gene name\n",
    "adata, origin_cell_num, filtered_cell_num = general_preprocess(adata, min_genes=1, min_counts=6, max_counts=150, min_cells=1, auto_filter=False)\n",
    "\n",
    "# copy the meta data of adata\n",
    "adata_meta = adata.copy()"
   ]
  },
  {
   "cell_type": "markdown",
   "metadata": {},
   "source": [
    "# direct leiden\n"
   ]
  },
  {
   "cell_type": "markdown",
   "metadata": {},
   "source": [
    "## process"
   ]
  },
  {
   "cell_type": "code",
   "execution_count": null,
   "metadata": {},
   "outputs": [],
   "source": [
    "adata = adata_meta.copy()\n",
    "# preprocess of UMAP\n",
    "adata = preprocess_of_UMAP(adata)\n",
    "\n",
    "# compute pca\n",
    "sc.tl.pca(adata)\n",
    "sc.pl.pca_variance_ratio(adata, log=False)"
   ]
  },
  {
   "cell_type": "code",
   "execution_count": null,
   "metadata": {},
   "outputs": [],
   "source": [
    "# select the num of pc\n",
    "n_pcs=20\n",
    "sc.tl.pca(adata, n_comps=n_pcs)                                                                               "
   ]
  },
  {
   "cell_type": "code",
   "execution_count": null,
   "metadata": {},
   "outputs": [],
   "source": [
    "# Run UMAP\n",
    "sc.pp.neighbors(adata, n_neighbors=50, n_pcs=n_pcs)\n",
    "sc.tl.umap(adata)"
   ]
  },
  {
   "cell_type": "code",
   "execution_count": null,
   "metadata": {},
   "outputs": [],
   "source": [
    "# Run Leiden cluster\n",
    "sc.tl.leiden(adata, resolution=1)"
   ]
  },
  {
   "cell_type": "markdown",
   "metadata": {},
   "source": [
    "## overview"
   ]
  },
  {
   "cell_type": "markdown",
   "metadata": {},
   "source": [
    "### cell num of each leiden cluster"
   ]
  },
  {
   "cell_type": "code",
   "execution_count": null,
   "metadata": {},
   "outputs": [],
   "source": [
    "a = [len(adata[adata.obs.leiden == _]) for _ in adata.obs.leiden.unique()]\n",
    "fig, ax = plt.subplots(figsize=(7,3))\n",
    "sns.histplot(a, bins=30, stat='count', alpha=1, kde=True,\n",
    "            edgecolor='white', linewidth=0.5,\n",
    "            # log=True, \n",
    "            ax=ax,\n",
    "            line_kws=dict(color='black', alpha=0.7, linewidth=1.5, label='KDE'),\n",
    "            # binrange=[0,100]\n",
    "            )\n",
    "plt.show()\n",
    "\n",
    "adata_thre = adata[adata.obs.leiden.isin([_ for _ in adata.obs.leiden.unique() if len(adata[adata.obs.leiden == _]) > 100])]"
   ]
  },
  {
   "cell_type": "markdown",
   "metadata": {},
   "source": [
    "### boxplot"
   ]
  },
  {
   "cell_type": "code",
   "execution_count": null,
   "metadata": {},
   "outputs": [],
   "source": [
    "unknown_cluster = [str(_) for _ in sorted([int(_) for _ in adata.obs.leiden.unique()])]\n",
    "fig, ax = plt.subplots(ncols=1, nrows=len(unknown_cluster),figsize =(25, 100))\n",
    "for _, cluster_num  in enumerate(unknown_cluster):\n",
    "    data = adata[adata.obs['leiden'] == cluster_num].X\n",
    "    ax[_].boxplot(data, flierprops={'marker': 'o', 'markersize': 2, 'markerfacecolor': 'fuchsia'})\n",
    "    ax[_].set_xticklabels(list(adata.var_names))\n",
    "    ax[_].set_title(f'cluster{cluster_num}')\n",
    "plt.show()"
   ]
  },
  {
   "cell_type": "markdown",
   "metadata": {},
   "source": [
    "### umap by gene"
   ]
  },
  {
   "cell_type": "code",
   "execution_count": null,
   "metadata": {},
   "outputs": [],
   "source": [
    "UMAP_genes_plot(adata, FOI=os.path.split(src_dir)[-1], save=False, datatype='direct', dataset=[\"PRISM3D\"], size=3)"
   ]
  },
  {
   "cell_type": "markdown",
   "metadata": {},
   "source": [
    "### umap by leiden"
   ]
  },
  {
   "cell_type": "code",
   "execution_count": null,
   "metadata": {},
   "outputs": [],
   "source": [
    "UMAP_obs_plot(adata, FOI=os.path.split(src_dir)[-1], color='leiden', save=False, out_path='', datatype='direct')\n",
    "QC_plot(adata, hue='leiden')"
   ]
  },
  {
   "cell_type": "markdown",
   "metadata": {},
   "source": [
    "# harmony combine"
   ]
  },
  {
   "cell_type": "markdown",
   "metadata": {},
   "source": [
    "## load sc data"
   ]
  },
  {
   "cell_type": "code",
   "execution_count": null,
   "metadata": {},
   "outputs": [],
   "source": [
    "adata_sc = sc.read_h5ad(cell_typ_dir/'dataset_sc_rnaseq'/'sc_data_mousebrain'/'cache'/'l1_hippocampus.h5ad')\n",
    "adata_sc.var.index = adata_sc.var.index.str.upper()\n",
    "index_series = pd.Series(adata_sc.var.index)\n",
    "index_series = index_series.replace({'3110035E14RIK': 'VXN'})\n",
    "adata_sc.var.index = pd.Index(index_series)\n",
    "adata_sc.var_names_make_unique()\n",
    "adata_sc.obs['dataset'] = ['mousebrain_HP'] * len(adata_sc)"
   ]
  },
  {
   "cell_type": "code",
   "execution_count": null,
   "metadata": {},
   "outputs": [],
   "source": [
    "# process of gene name\n",
    "adata_sc, origin_cell_num, filtered_cell_num = general_preprocess(adata_sc, min_genes=500, min_counts=6, max_counts=150, min_cells=1, auto_filter=True)\n",
    "\n",
    "# copy the meta data of adata\n",
    "adata_sc_meta = adata_sc.copy()"
   ]
  },
  {
   "cell_type": "code",
   "execution_count": null,
   "metadata": {},
   "outputs": [],
   "source": [
    "list_of_variable_names = adata.var_names\n",
    "adata_sc_subset = adata_sc[:, list_of_variable_names]\n",
    "adata_sc_subset = preprocess_of_UMAP(adata_sc_subset)"
   ]
  },
  {
   "cell_type": "markdown",
   "metadata": {},
   "source": [
    "## process"
   ]
  },
  {
   "cell_type": "code",
   "execution_count": null,
   "metadata": {},
   "outputs": [],
   "source": [
    "combine_adata = adata.concatenate(adata_sc_subset, batch_key=\"dataset\", batch_categories=[\"PRISM3D\", \"mousebrain_HP\"])\n",
    "\n",
    "print(\"origin_gene_num:\", len(adata.var.index))\n",
    "print(\"combine_gene_num:\", len(combine_adata.var.index))\n",
    "print(\"Genes_not_matched:\", ','.join(list(set(adata.var.index) - set(combine_adata.var.index))))"
   ]
  },
  {
   "cell_type": "code",
   "execution_count": null,
   "metadata": {},
   "outputs": [],
   "source": [
    "sc.tl.pca(combine_adata, n_comps=29)\n",
    "sc.pl.pca_variance_ratio(combine_adata, log=False)\n",
    "\n",
    "h_pcs = 20\n",
    "sc.tl.pca(combine_adata, n_comps=h_pcs)\n",
    "sc_cell_num = len(combine_adata) - len(adata)\n",
    "print(combine_adata)"
   ]
  },
  {
   "cell_type": "code",
   "execution_count": null,
   "metadata": {},
   "outputs": [],
   "source": [
    "import scanpy.external as sce\n",
    "\n",
    "sce.pp.harmony_integrate(\n",
    "    combine_adata,\n",
    "    \"dataset\",\n",
    "    \"X_pca\",\n",
    "    \"X_pca_harmony\",\n",
    "    max_iter_harmony=30,\n",
    "    # max_iter_kmeans=30,\n",
    ")"
   ]
  },
  {
   "cell_type": "code",
   "execution_count": null,
   "metadata": {},
   "outputs": [],
   "source": [
    "neighbor = 100\n",
    "sc.pp.neighbors(combine_adata, n_neighbors=neighbor, use_rep=\"X_pca_harmony\")\n",
    "sc.tl.umap(combine_adata)"
   ]
  },
  {
   "cell_type": "code",
   "execution_count": null,
   "metadata": {},
   "outputs": [],
   "source": [
    "leiden_resolution=1\n",
    "sc.tl.leiden(combine_adata, resolution=leiden_resolution)"
   ]
  },
  {
   "cell_type": "markdown",
   "metadata": {},
   "source": [
    "## overview"
   ]
  },
  {
   "cell_type": "markdown",
   "metadata": {},
   "source": [
    "### cell num of each leiden cluster"
   ]
  },
  {
   "cell_type": "code",
   "execution_count": null,
   "metadata": {},
   "outputs": [],
   "source": [
    "combine_adata_exp = combine_adata[combine_adata.obs.dataset == 'PRISM3D']\n",
    "a = [len(combine_adata_exp[combine_adata_exp.obs.leiden == _]) for _ in combine_adata_exp.obs.leiden.unique()]\n",
    "fig, ax = plt.subplots(figsize=(7,3))\n",
    "sns.histplot(a, bins=30, stat='count', \n",
    "             alpha=1, edgecolor='white', linewidth=0.5, ax=ax,\n",
    "             kde=True, line_kws=dict(color='black', alpha=0.7, linewidth=1.5, label='KDE'),\n",
    "            )\n",
    "plt.show()\n",
    "\n",
    "combine_adata_exp_thre = combine_adata_exp[combine_adata_exp.obs.leiden.isin([_ for _ in combine_adata_exp.obs.leiden.unique() if len(combine_adata_exp[combine_adata_exp.obs.leiden == _]) > 100])]"
   ]
  },
  {
   "cell_type": "markdown",
   "metadata": {},
   "source": [
    "### boxplot"
   ]
  },
  {
   "cell_type": "code",
   "execution_count": null,
   "metadata": {},
   "outputs": [],
   "source": [
    "unknown_cluster = [str(_) for _ in sorted([int(_) for _ in combine_adata.obs.leiden.unique()])]\n",
    "fig, ax = plt.subplots(ncols=1, nrows=len(unknown_cluster),figsize =(25, 100))\n",
    "for _, cluster_num  in enumerate(unknown_cluster):\n",
    "    data = combine_adata[combine_adata.obs['leiden'] == cluster_num].X\n",
    "    ax[_].boxplot(data, flierprops={'marker': 'o', 'markersize': 2, 'markerfacecolor': 'fuchsia'})\n",
    "    ax[_].set_xticklabels(list(combine_adata.var_names))\n",
    "    ax[_].set_title(f'cluster{cluster_num}')\n",
    "plt.show()"
   ]
  },
  {
   "cell_type": "markdown",
   "metadata": {},
   "source": [
    "### umap by gene"
   ]
  },
  {
   "cell_type": "code",
   "execution_count": null,
   "metadata": {},
   "outputs": [],
   "source": [
    "UMAP_genes_plot(combine_adata, FOI=os.path.split(src_dir)[-1], save=False, datatype='harmony', dataset=['PRISM3D'], size=2)"
   ]
  },
  {
   "cell_type": "markdown",
   "metadata": {},
   "source": [
    "### umap by leiden"
   ]
  },
  {
   "cell_type": "code",
   "execution_count": null,
   "metadata": {},
   "outputs": [],
   "source": [
    "UMAP_obs_plot(combine_adata, FOI=os.path.split(src_dir)[-1], color='leiden', save=False, out_path=cell_typ_dir, datatype='harmony', DOI=['PRISM3D', 'mousebrain_HP'], size=5)"
   ]
  },
  {
   "cell_type": "markdown",
   "metadata": {},
   "source": [
    "## annotate interested clusters"
   ]
  },
  {
   "cell_type": "markdown",
   "metadata": {},
   "source": [
    "### relabel mapping"
   ]
  },
  {
   "cell_type": "code",
   "execution_count": null,
   "metadata": {},
   "outputs": [],
   "source": [
    "cluster_dict = {\n",
    "    \"Ex-CA1\":[7],\n",
    "    \"Ex-CA2\":[12,],\n",
    "    \"Ex-CA3\":[11],\n",
    "    \"Ex-DG\":[3],\n",
    "\n",
    "    \"Ex-MH\":[9],\n",
    "    \"Ex-PMCH+\":[22],\n",
    "    \"Ex-thalamus\":[15], \n",
    "\n",
    "    \"Glial-Microglia\":[13],\n",
    "    \"Glial-Astrocyte\":[5],\n",
    "    \"Glial-Oligodendrocyte\":[0],\n",
    "    \n",
    "    \"In-Pvalb\":[18],\n",
    "    \"In-Sst\":[8],\n",
    "    \"In-Vip\":[16],\n",
    "    \"In_Lamp5\":[6], \n",
    "}\n",
    "\n",
    "cluster_rough_dict = {\n",
    "    \"Ex\":[],\n",
    "    \"In\":[],\n",
    "    \"Glial\":[],    \n",
    "}\n",
    "for rough_type in cluster_rough_dict.keys():\n",
    "    for fine_type in cluster_dict.keys():\n",
    "        if rough_type in fine_type:\n",
    "            cluster_rough_dict[rough_type] += cluster_dict[fine_type]"
   ]
  },
  {
   "cell_type": "markdown",
   "metadata": {},
   "source": [
    "### spatial preview"
   ]
  },
  {
   "cell_type": "code",
   "execution_count": null,
   "metadata": {},
   "outputs": [],
   "source": [
    "combine_adata_st = combine_adata[combine_adata.obs.dataset == 'PRISM3D']\n",
    "combine_adata_st.obs.index = [int(_.split('-')[0]) for _ in combine_adata_st.obs.index]\n",
    "centroid = pd.read_csv(os.path.join(seg_dir, 'dapi_predict.csv'), index_col=0)\n",
    "centroid_sub = centroid.loc[combine_adata_st.obs.index]\n",
    "combine_adata_st.obsm['spatial'] = np.array([centroid_sub['y_in_pix'], \n",
    "                                            centroid_sub['x_in_pix']]).T\n",
    "combine_adata_st.obsm['spatial3d'] = np.array([centroid_sub['x_in_pix'], \n",
    "                                               centroid_sub['y_in_pix'], \n",
    "                                               centroid_sub['z_in_pix']*3.36]).T"
   ]
  },
  {
   "cell_type": "code",
   "execution_count": null,
   "metadata": {},
   "outputs": [],
   "source": [
    "from mpl_toolkits.mplot3d import Axes3D\n",
    "import matplotlib.gridspec as gridspec\n",
    "\n",
    "group = 0\n",
    "\n",
    "fig = plt.figure(figsize=(12, 5))\n",
    "gs = gridspec.GridSpec(1, 10)\n",
    "\n",
    "ax_2d = fig.add_subplot(gs[0, :5])\n",
    "ax_2d.invert_yaxis()\n",
    "sc.pl.embedding(combine_adata_st[combine_adata_st.obs.leiden == str(group)], \n",
    "                basis=\"spatial\", color=\"leiden\", palette=['brown'],\n",
    "                size=30, alpha=1, ax=ax_2d, show=False)\n",
    "\n",
    "ax_3d = fig.add_subplot(gs[0, 5:], projection='3d', )\n",
    "sc.pl.embedding(combine_adata_st[combine_adata_st.obs.leiden == str(group)], \n",
    "                basis=\"spatial3d\", projection=\"3d\", color=\"leiden\", palette=['brown'],\n",
    "                size=1, alpha=1, ax=ax_3d, show=False)\n",
    "\n",
    "# Set view angle\n",
    "elev, azim = 90, 0\n",
    "ax_3d.view_init(elev=elev, azim=azim)\n",
    "\n",
    "plt.tight_layout()\n",
    "plt.show()"
   ]
  },
  {
   "cell_type": "markdown",
   "metadata": {},
   "source": [
    "### relabel of num and cluster name"
   ]
  },
  {
   "cell_type": "code",
   "execution_count": null,
   "metadata": {},
   "outputs": [],
   "source": [
    "# rename leidens based on cluster_dict\n",
    "combine_adata_st = annotate(combine_adata_st, cluster_dict, in_leiden='leiden', out_leiden='leiden_subtype', out_type='subtype')\n",
    "combine_adata_st = annotate(combine_adata_st, cluster_rough_dict, in_leiden='leiden', out_leiden='leiden_type', out_type='type')\n",
    "combine_adata_st.obs = combine_adata_st.obs.dropna(axis=1)"
   ]
  },
  {
   "cell_type": "code",
   "execution_count": null,
   "metadata": {},
   "outputs": [],
   "source": [
    "for cell_type in cluster_dict.keys():\n",
    "    print(f'{cell_type}: {combine_adata_st[combine_adata_st.obs.subtype == cell_type].obs.subtype.count()}')\n",
    "\n",
    "print('total_exempt_other:',len(combine_adata_st[combine_adata_st.obs.subtype.isin(cluster_dict.keys())]))\n",
    "# print('total_exempt_other:',len(adata[adata.obs.type!='other']))\n",
    "print('total:',len(combine_adata_st))"
   ]
  },
  {
   "cell_type": "markdown",
   "metadata": {},
   "source": [
    "# Plot1: umap and projection after threshold\n"
   ]
  },
  {
   "cell_type": "markdown",
   "metadata": {},
   "source": [
    "## dotplot for type and subtype"
   ]
  },
  {
   "cell_type": "code",
   "execution_count": null,
   "metadata": {},
   "outputs": [],
   "source": [
    "adata_st_reordered = sc.read_h5ad(cell_typ_dir/'adata.h5ad')\n",
    "adata_raw_reordered = sc.read_h5ad(seg_dir/'adata_reordered.h5ad')\n",
    "\n",
    "adata_tmp = adata_raw_reordered.copy()\n",
    "adata_tmp.obs = adata_st_reordered.obs.copy()\n",
    "adata_tmp.raw = None  # remember that raw counts will be used to plot dotplots when it exists."
   ]
  },
  {
   "cell_type": "code",
   "execution_count": null,
   "metadata": {},
   "outputs": [],
   "source": [
    "tmp_var_names = [\n",
    "    'HBV', 'AFP', 'GPC3', 'MKI67', 'PECAM1', 'EPCAM', 'ACTA2',\n",
    "    'FOXP3',\n",
    "    'CD3D', 'CD4', 'PDCD1', 'CTLA4', 'CXCL13', 'NCAM1', 'GZMA', 'GZMB', 'PRF1', 'CD8A',\n",
    "    'CD79A', 'MS4A1',\n",
    "    'LILRA4',\n",
    "    'CLEC9A', 'CD1C', 'LYVE1',\n",
    "    'C1QA', 'FCGR3A', 'S100A8', 'CSF3R',\n",
    "    'MZB1', 'SLC4A10', 'CPA3']\n",
    "\n",
    "\n",
    "tmp_category = [\n",
    "    'Liver','Tumor','Endo','Ep','CAF',\n",
    "    'T_reg','T_proliferation','NK','CD4+','CD8+','B',\n",
    "    'DC','Macrophage','Monocyte','Neutrophil','Mait','Mast']\n",
    "\n",
    "tmp = adata_tmp[adata_tmp.obs.type != 'other']\n",
    "tmp.obs.type = pd.Categorical(tmp.obs.type, categories=tmp_category)\n",
    "\n",
    "fig, ax = plt.subplots(figsize=(12, 10))\n",
    "sc.pl.dotplot(tmp,var_names=tmp_var_names,\n",
    "              groupby='type',vmax=5,ax=ax,show=False)\n",
    "plt.show()\n",
    "# plt.savefig(cell_typ_dir/r'1_dotplot_type.pdf', bbox_inches = 'tight')\n",
    "# plt.savefig(cell_typ_dir/r'1_dotplot_type.png', bbox_inches = 'tight', dpi=300)"
   ]
  },
  {
   "cell_type": "code",
   "execution_count": null,
   "metadata": {},
   "outputs": [],
   "source": [
    "tmp_var_names = [\n",
    "    'HBV', 'AFP', 'GPC3', 'MKI67', 'PECAM1', 'EPCAM', 'ACTA2',\n",
    "    'FOXP3',\n",
    "    'CD3D', 'CD4', 'CTLA4', 'PDCD1', 'CXCL13',\n",
    "    'CD8A', 'NCAM1', 'GZMA', 'GZMB', 'PRF1',\n",
    "    'CD79A', 'MS4A1',\n",
    "    'LILRA4',\n",
    "    'CLEC9A', 'CD1C', 'LYVE1',\n",
    "    'C1QA', 'FCGR3A', 'S100A8', 'CSF3R',\n",
    "    'MZB1', 'SLC4A10', 'CPA3']\n",
    "\n",
    "tmp_category = [\n",
    "    'Liver_normal', 'Tumor_AFP+', 'Tumor_GPC3+', 'Tumor_proliferation',\n",
    "    'Endo_PECAM1+', 'Ep_EPCAM+', 'CAF_ACTA2+',\n",
    "    'T_reg', 'T_proliferation',\n",
    "    \"T_CD4+_other\", \"T_CD4+, CTLA4+\", \"T_CD4+, PD1+, CTLA4+\", \"T_CD4+, PD1+\",\n",
    "    # \"T_CD4+, PD1+, CXCL13+\",\n",
    "    \"T_CD4+, CXCL13+\",\n",
    "    \"T_CD8+, GZMA+, CXCL13+\", \"T_CD8+, PD1+\", \"T_CD8+_other\",\n",
    "    \"Cyto_T_CD4+\", 'NK_NCAM1+',\n",
    "    'B_CD79A+', 'B_MS4A1+',\n",
    "    # 'B_CD79A+, MS4A1+',\n",
    "    'pDC_LILRA4+', 'cDC1_CLEC9A+', 'cDC2_CD1C+',\n",
    "    # 'Macrophage_C1QA+',\n",
    "    'Macrophage_LYVE1+',\n",
    "    'Monocyte_CD16+', 'Monocyte_CD14+, CD16+', 'Monocyte_CD14+',\n",
    "    'Neutrophil_CSF3R+, S100A8+', 'Neutrophil_CSF3R+',\n",
    "    'Mait_SLC4A10+', 'Mast_CPA3+'\n",
    "]\n",
    "\n",
    "tmp = adata_tmp[adata_tmp.obs.subtype != 'other']\n",
    "tmp.obs.subtype = tmp.obs.subtype.replace(\n",
    "    \"T_CD4+, PD1+, CXCL13+\", \"T_CD4+, CXCL13+\")\n",
    "\n",
    "tmp.obs.subtype = pd.Categorical(tmp.obs.subtype, categories=tmp_category)\n",
    "\n",
    "fig, ax = plt.subplots(figsize=(14, 12))\n",
    "sc.pl.dotplot(tmp, var_names=tmp_var_names,\n",
    "              groupby='subtype', vmax=5, ax=ax, show=False)\n",
    "plt.show()\n",
    "# plt.savefig(cell_typ_dir/r'1_dotplot_subtype.pdf', bbox_inches='tight')\n",
    "# plt.savefig(cell_typ_dir/r'1_dotplot_subtype.png', bbox_inches='tight', dpi=300)"
   ]
  },
  {
   "cell_type": "markdown",
   "metadata": {},
   "source": [
    "## umap colored by genes, cluster and dataset"
   ]
  },
  {
   "cell_type": "code",
   "execution_count": null,
   "metadata": {},
   "outputs": [],
   "source": [
    "type_colormap = {\n",
    "    'Liver':(1,0.392,0),\n",
    "    'Tumor':(0.751,0.491,0),\n",
    "    'Endo':(1,0,1),\n",
    "    'Ep':(0,1,0),\n",
    "    'CAF':(0,0,1),\n",
    "    'DC':(1,0.259,0),\n",
    "    'Mait':(1,0,0.434),\n",
    "    'Mast':(1,0,0),\n",
    "    'Monocyte':(0,0.471,1),\n",
    "    'Neutrophil':(1,1,0),\n",
    "    'Macrophage':(0.7,1,0),\n",
    "    'CD4+':(0.5,0.5,0.5),\n",
    "    'CD8+':(1,0.8,0),\n",
    "    'T_reg':(0,1,0.672),\n",
    "    'T_proliferation':(0,1,0.636),\n",
    "    'B':(0,1,1),\n",
    "    'NK':(1,0,0),\n",
    "    'other':(0.9,0.9,0.9),\n",
    "}\n",
    "\n",
    "subtype_colormap = dict()\n",
    "for subtype in cluster_dict.keys():\n",
    "    for rough_type in type_colormap.keys():\n",
    "        if rough_type in subtype:\n",
    "            subtype_colormap[subtype] = type_colormap[rough_type]\n",
    "            break"
   ]
  },
  {
   "cell_type": "code",
   "execution_count": null,
   "metadata": {},
   "outputs": [],
   "source": [
    "tmp = combine_adata_st[~combine_adata_st.obs['tmp_leiden'].isin(['-2', '-1'])]\n",
    "UMAP_obs_plot(adata=tmp, color='type', palette=type_colormap,\n",
    "              save=True, out_path=cell_typ_dir,\n",
    "              dpi=300, datatype='harmony', legend_loc='right margin')\n",
    "\n",
    "# UMAP_genes_plot(adata=tmp,\n",
    "# FOI=FOI, save=False, out_path=r'./', datatype='harmony', dataset=['PRISM_HCC'])"
   ]
  },
  {
   "cell_type": "markdown",
   "metadata": {},
   "source": [
    "## plot gene distribution of each cluster"
   ]
  },
  {
   "cell_type": "code",
   "execution_count": null,
   "metadata": {},
   "outputs": [],
   "source": [
    "for cluster_num in [str(_) for _ in []]:\n",
    "    cluster=combine_adata_st[combine_adata_st.obs['leiden']==cluster_num].X\n",
    "    fig, ax = plt.subplots(figsize=(20, 4))\n",
    "    plt.boxplot(cluster, labels=combine_adata_st.var_names)\n",
    "    fig.tight_layout()\n",
    "    fig.suptitle(f'distribution of cluster{cluster_num}')\n",
    "    plt.show()"
   ]
  },
  {
   "cell_type": "markdown",
   "metadata": {},
   "source": [
    "# Plot2: spatial projection"
   ]
  },
  {
   "cell_type": "markdown",
   "metadata": {},
   "source": [
    "## 3d projection"
   ]
  },
  {
   "cell_type": "code",
   "execution_count": null,
   "metadata": {},
   "outputs": [],
   "source": [
    "import matplotlib.pyplot as plt\n",
    "# import numpy as np\n",
    "from skimage import filters\n",
    "from PIL import Image\n",
    "import io\n",
    "import gc\n",
    "\n",
    "step = 255//len(cluster_rough_dict)\n",
    "colors = [(1,1,1) for _ in range(step, 256, step)]\n",
    "\n",
    "cluster_image = {}\n",
    "for _ in cluster_rough_dict.keys():\n",
    "    cluster_image[_] = np.zeros([10860, 12480, 20], dtype=bool)\n",
    "\n",
    "for layer_num in range(20):\n",
    "    print(f'layer{layer_num+1}')\n",
    "    tmp_adata = combine_adata_st[combine_adata_st.obs['layer']==f'layer{layer_num}']\n",
    "    tmp_adata = tmp_adata[tmp_adata.obs.tmp_leiden != '-2']\n",
    "    tmp_adata.obs.index = [_.split('-')[0] for _ in tmp_adata.obs.index]\n",
    "\n",
    "    hulls, type_indices = create_hull(tmp_adata, clus_obs=\"leiden_type\", cont_thre=7,\n",
    "                                        rna_pos = pd.read_csv(f\"E:\\TMC\\cell_typing\\exp_dataset\\PRISM_HCC_of_20_slides\\S_{layer_num+1}_rna_labeled.csv\"))\n",
    "\n",
    "    for _, cluster_name in enumerate(cluster_rough_dict.keys()):\n",
    "        # Create a Matplotlib figure\n",
    "        fig, ax = plt.subplots()\n",
    "        show_cluster(hulls, type_indices, cluster_list=[_], cluster_colormap=colors, linewidth=0.3, \n",
    "                    ax=ax,\n",
    "                    show=False , save=False, \n",
    "                    )\n",
    "\n",
    "        # Convert the colorful plot to grayscale\n",
    "        ax.xaxis.set_visible(False)\n",
    "        ax.yaxis.set_visible(False)\n",
    "        # Remove the title\n",
    "        ax.set_title('')\n",
    "        # Remove the axis labels\n",
    "        ax.set_xlabel('')\n",
    "        ax.set_ylabel('')\n",
    "        # Remove the grid lines\n",
    "        # ax.grid(False)\n",
    "        ax.axis('off')\n",
    "\n",
    "        # Set the figure to use 8-bit grayscale\n",
    "        fig.set_facecolor('black')\n",
    "        fig.set_figwidth(40)\n",
    "        fig.set_figheight(35)\n",
    "        fig.set_dpi(1000)\n",
    "\n",
    "        # Render the figure to a PIL Image\n",
    "        buf = io.BytesIO()\n",
    "        fig.savefig(buf, dpi=400, bbox_inches='tight', format='png')\n",
    "        buf.seek(0)\n",
    "        \n",
    "        img = Image.open(buf).convert('L')  # Convert to grayscale\n",
    "        img_array = np.array(img)\n",
    "        thresholded_array = img_array >= 128\n",
    "        \n",
    "        cluster_image[cluster_name][:, :, _] = thresholded_array\n",
    "\n",
    "        plt.close(fig=fig)       \n",
    "        img.close()\n",
    "        buf.close()"
   ]
  },
  {
   "cell_type": "code",
   "execution_count": null,
   "metadata": {},
   "outputs": [],
   "source": [
    "import tifffile as tiff\n",
    "for a, _ in enumerate(cluster_image.keys()):\n",
    "    tmp = np.where(cluster_image[_], 255, 0).astype(np.uint8)\n",
    "    tiff.imwrite(f\"E:/TMC/cell_typing/results/2023.9.19-9.22_PRISM_HCC_20_layers_min_counts=7, max_counts=200, min_genes=2/projection/trial3/channel{a}_{_}.tif\", np.transpose(tmp, (2, 0, 1)))"
   ]
  },
  {
   "cell_type": "markdown",
   "metadata": {},
   "source": [
    "## 2d projection"
   ]
  },
  {
   "cell_type": "code",
   "execution_count": null,
   "metadata": {},
   "outputs": [],
   "source": [
    "# plot type cluster\n",
    "for layer_num in range(20):\n",
    "    tmp_adata = combine_adata_st[combine_adata_st.obs['layer']\n",
    "                                 == f'layer{layer_num}']\n",
    "    tmp_adata = tmp_adata[tmp_adata.obs.tmp_leiden != '-2']\n",
    "    tmp_adata.obs.index = [_.split('-')[0] for _ in tmp_adata.obs.index]\n",
    "    hulls, type_indices = create_hull(tmp_adata, clus_obs=\"leiden_type\", cont_thre=7,\n",
    "                                      rna_pos=pd.read_csv(f\"E:\\TMC\\cell_typing\\exp_dataset\\PRISM_HCC_of_20_slides\\S_{layer_num+1}_rna_labeled.csv\"))\n",
    "\n",
    "    ncols = int(-(-len(cluster_rough_dict)**(1/2)//1))\n",
    "    nrows = -(-len(cluster_rough_dict)//ncols)\n",
    "    fig, ax = plt.subplots(nrows=nrows, ncols=ncols,\n",
    "                           figsize=(ncols*4, nrows*4))\n",
    "    for cluster_num, cluster_type in enumerate(cluster_rough_dict.keys()):\n",
    "        show_cluster(hulls, type_indices, cluster_list=[cluster_num], cluster_colormap=[\"red\"] * 200, linewidth=0.3,\n",
    "                     ax=ax[cluster_num // ncols][cluster_num % ncols],\n",
    "                     show=False, save=False, name=cluster_type)\n",
    "        ax[cluster_num // ncols][cluster_num % ncols].set_xlabel(\"\")\n",
    "        ax[cluster_num // ncols][cluster_num % ncols].set_ylabel(\"\")\n",
    "        ax[cluster_num // ncols][cluster_num % ncols].set_xticks([])\n",
    "        ax[cluster_num // ncols][cluster_num % ncols].set_yticks([])\n",
    "    fig.suptitle(\n",
    "        f'Projection_of_layer{layer_num+1}, cell_num={len(tmp_adata)}\\n\\n', fontsize=20)\n",
    "    plt.tight_layout()\n",
    "    plt.savefig(\n",
    "        f'e:\\TMC\\cell_typing\\results\\2023.9.19-9.22_PRISM_HCC_20_layers_min_counts=7, max_counts=200, min_genes=2\\projection\\{cluster_num}_{cluster_type}_projection.png')\n",
    "    # plt.show()"
   ]
  },
  {
   "cell_type": "code",
   "execution_count": null,
   "metadata": {},
   "outputs": [],
   "source": [
    "# plot subtype cluster\n",
    "for layer_num in range(20):\n",
    "    tmp_adata = combine_adata_st[combine_adata_st.obs['layer']\n",
    "                                 == f'layer{layer_num}']\n",
    "    tmp_adata = tmp_adata[tmp_adata.obs.tmp_leiden != '-2']\n",
    "    tmp_adata.obs.index = [_.split('-')[0] for _ in tmp_adata.obs.index]\n",
    "    hulls, type_indices = create_hull(tmp_adata, clus_obs=\"leiden_subtype\", cont_thre=7,\n",
    "                                      rna_pos=pd.read_csv(f\"E:\\TMC\\cell_typing\\exp_dataset\\PRISM_HCC_of_20_slides\\S_{layer_num+1}_rna_labeled.csv\"))\n",
    "\n",
    "    ncols = int(-(-len(cluster_dict)**(1/2)//1))\n",
    "    nrows = -(-len(cluster_dict)//ncols)\n",
    "    fig, ax = plt.subplots(nrows=nrows, ncols=ncols,\n",
    "                           figsize=(ncols*4, nrows*4))\n",
    "    for cluster_num, cluster_type in enumerate(cluster_dict.keys()):\n",
    "        show_cluster(hulls, type_indices, cluster_list=[cluster_num], cluster_colormap=[\"red\"] * 200, linewidth=0.3,\n",
    "                     ax=ax[cluster_num // ncols][cluster_num % ncols],\n",
    "                     show=False, save=False, name=cluster_type)\n",
    "        ax[cluster_num // ncols][cluster_num % ncols].set_xlabel(\"\")\n",
    "        ax[cluster_num // ncols][cluster_num % ncols].set_ylabel(\"\")\n",
    "        ax[cluster_num // ncols][cluster_num % ncols].set_xticks([])\n",
    "        ax[cluster_num // ncols][cluster_num % ncols].set_yticks([])\n",
    "    fig.suptitle(\n",
    "        f'Projection_of_layer{layer_num+1}, cell_num={len(tmp_adata)}\\n\\n', fontsize=20)\n",
    "    plt.tight_layout()\n",
    "    plt.show()"
   ]
  },
  {
   "cell_type": "markdown",
   "metadata": {},
   "source": [
    "## subsample of AFP"
   ]
  },
  {
   "cell_type": "code",
   "execution_count": null,
   "metadata": {},
   "outputs": [],
   "source": [
    "adata_tumor_plot_AFP_subsample = sc.pp.subsample(\n",
    "    combine_adata_st[combine_adata_st.obs.subtype == 'Tumor_AFP+'], n_obs=45730, copy=True)\n",
    "\n",
    "\n",
    "adata_tumor_plot_GPC3 = combine_adata_st[combine_adata_st.obs.subtype == 'Tumor_GPC3+']\n",
    "\n",
    "adata_tumor_plot = combine_adata_st[combine_adata_st.obs.index.isin(list(\n",
    "    adata_tumor_plot_AFP_subsample.obs.index)+list(adata_tumor_plot_GPC3.obs.index))]\n",
    "\n",
    "adata_tumor_plot.write(\n",
    "    spatial_dir/r'2023.10.6_adata_AFPsubsampled_and_GPC3+.h5ad')"
   ]
  },
  {
   "cell_type": "code",
   "execution_count": null,
   "metadata": {},
   "outputs": [],
   "source": [
    "from collections import Counter\n",
    "before_filter = Counter(list(adata_tumor_plot_AFP_subsample.obs['layer']))\n",
    "after_filter = Counter(list(adata_tumor_plot_GPC3.obs['layer']))\n",
    "\n",
    "data = dict(sorted(before_filter.items(), key=lambda d: int(\n",
    "    d[0].replace('layer', '')), reverse=False))\n",
    "courses = list(data.keys())\n",
    "values = list(data.values())\n",
    "fig = plt.figure(figsize=(15, 3))\n",
    "# creating the bar plot\n",
    "plt.bar(courses, values)\n",
    "\n",
    "data = dict(sorted(after_filter.items(), key=lambda d: int(\n",
    "    d[0].replace('layer', '')), reverse=False))\n",
    "courses = list(data.keys())\n",
    "values = list(data.values())\n",
    "fig = plt.figure(figsize=(15, 3))\n",
    "# creating the bar plot\n",
    "plt.bar(courses, values)\n",
    "\n",
    "courses = list(data.keys())\n",
    "values = [list(dict(sorted(before_filter.items(), key=lambda d: int(d[0].replace('layer', '')), reverse=False)).values())[_]/list(dict(sorted(after_filter.items(), key=lambda d: int(\n",
    "    d[0].replace('layer', '')), reverse=False)).values())[_] for _ in range(len(list(dict(sorted(after_filter.items(), key=lambda d: int(d[0].replace('layer', '')), reverse=False)).values())))]\n",
    "fig = plt.figure(figsize=(15, 3))\n",
    "# creating the bar plot\n",
    "plt.bar(courses, values)"
   ]
  },
  {
   "cell_type": "markdown",
   "metadata": {},
   "source": [
    "## density of cell"
   ]
  },
  {
   "cell_type": "code",
   "execution_count": null,
   "metadata": {},
   "outputs": [],
   "source": [
    "# 48000, 40000\n",
    "adata_tumor_plot_GPC3 = combine_adata_st[combine_adata_st.obs.subtype == 'Tumor_GPC3+']\n",
    "adata_tumor_plot_AFP = combine_adata_st[combine_adata_st.obs.subtype == 'Tumor_AFP+']\n",
    "\n",
    "downsample = 200\n",
    "\n",
    "for layer in tqdm(range(20), desc=f'layer'):\n",
    "    images = {'AFP':np.zeros((40000//downsample, 48000//downsample), dtype=np.uint8), 'GPC3':np.zeros((40000//downsample, 48000//downsample), dtype=np.uint8)}\n",
    "\n",
    "    tmp = adata_tumor_plot_AFP[adata_tumor_plot_AFP.obs.layer == f'layer{layer}']\n",
    "    for cell in tmp.obs.index:\n",
    "        x = max(0, int(tmp.obs.X_pos.loc[cell]/downsample))\n",
    "        y = max(0, int(tmp.obs.Y_pos.loc[cell]/downsample))\n",
    "        images['AFP'][y, x] += 1\n",
    "\n",
    "    tmp = adata_tumor_plot_GPC3[adata_tumor_plot_GPC3.obs.layer == f'layer{layer}']\n",
    "    for cell in tmp.obs.index:\n",
    "        x = max(0, int(tmp.obs.X_pos.loc[cell]/downsample))\n",
    "        y = max(0, int(tmp.obs.Y_pos.loc[cell]/downsample))\n",
    "        images['GPC3'][y, x] += 1\n",
    "\n",
    "    for celltype in images.keys():\n",
    "        io.imsave(spatial_dir/rf'2023.10.6_AFPsubsample_downsize_layer{layer + 1}_{celltype}.tif',\n",
    "                images[celltype].astype(np.uint8))"
   ]
  },
  {
   "cell_type": "markdown",
   "metadata": {},
   "source": [
    "## spatial projection by HBV"
   ]
  },
  {
   "cell_type": "code",
   "execution_count": null,
   "metadata": {},
   "outputs": [],
   "source": [
    "combine_adata_st.obs['HBV_content'] = [0]*len(combine_adata_st)\n",
    "\n",
    "for layer in range(20):\n",
    "    tmp1 = combine_adata_st[combine_adata_st.obs.layer == f'layer{layer}']\n",
    "    tmp1_index = tmp1.obs.index\n",
    "    tmp1.obs.index = [_.split('-')[0] for _ in tmp1.obs.index]\n",
    "\n",
    "    tmp2 = adata[adata.obs.layer == f'layer{layer}']\n",
    "    tmp2.obs.index = [_.split('-')[0] for _ in tmp2.obs.index]\n",
    "\n",
    "    tmp2 = tmp2[tmp1.obs.index]\n",
    "\n",
    "    combine_adata_st.obs['HBV_content'][tmp1_index] = pd.Series([_[0] for _ in tmp2[:,'HBV'].X],index=tmp1_index)"
   ]
  },
  {
   "cell_type": "code",
   "execution_count": null,
   "metadata": {},
   "outputs": [],
   "source": [
    "from scipy.signal import argrelextrema\n",
    "\n",
    "fig, ax = plt.subplots(ncols=1,nrows=1,figsize=(20,5))\n",
    "a=combine_adata_st[combine_adata_st.obs.HBV_content!=0].obs['HBV_content']\n",
    "sns.histplot(a, bins=100, stat='count', alpha=1, kde=True,\n",
    "            edgecolor='white', linewidth=0.5,\n",
    "            # log=True,\n",
    "            ax=ax,\n",
    "            line_kws=dict(color='black', alpha=0.7, linewidth=1.5, label='KDE'),\n",
    "            # binrange=[0,100]\n",
    "            )\n",
    "y=ax.get_lines()[0].get_ydata()\n",
    "maxima = [float(j/len(y)*(max(a)-min(a))+min(a)) for j in argrelextrema(-np.array(y), np.less)[0]]\n",
    "\n",
    "for submaxima in maxima:\n",
    "    ax.axvline(x=submaxima, color='r', alpha=0.5, linestyle='--')\n",
    "    \n",
    "plt.tight_layout()\n",
    "plt.show()"
   ]
  },
  {
   "cell_type": "markdown",
   "metadata": {},
   "source": [
    "### devide by counts"
   ]
  },
  {
   "cell_type": "code",
   "execution_count": null,
   "metadata": {},
   "outputs": [],
   "source": [
    "HBV_grade = {\n",
    "    0: 1,\n",
    "    1: 2,\n",
    "    2: 3,\n",
    "    3: 4,\n",
    "    4: 5,\n",
    "    5: 6,\n",
    "    6: 7,\n",
    "    7: 8,\n",
    "    8: 9,\n",
    "    9: 10,\n",
    "    10: 20,\n",
    "    11: 30,\n",
    "    12: 40,\n",
    "    13: 50,\n",
    "    14: 60,\n",
    "}\n",
    "\n",
    "# HBV_grade = sorted(HBV_grade.items(), key=lambda x: -x[1])\n",
    "\n",
    "# combine_adata_st.obs.leiden['HBV_grade'] = pd.Categorical([0]*len(combine_adata_st), categories=list(ROI_mask.keys()) + ['other'], ordered=False)\n",
    "combine_adata_st.obs[\"HBV_grade\"] = [-2] * len(combine_adata_st)\n",
    "for cell in tqdm(combine_adata_st.obs.index):\n",
    "    for grade, value in HBV_grade.items():\n",
    "        if combine_adata_st.obs['HBV_content'].loc[cell] >= value:\n",
    "            combine_adata_st.obs['HBV_grade'].loc[cell] = grade"
   ]
  },
  {
   "cell_type": "markdown",
   "metadata": {},
   "source": [
    "### devide by percentile"
   ]
  },
  {
   "cell_type": "code",
   "execution_count": null,
   "metadata": {},
   "outputs": [],
   "source": [
    "tmp = combine_adata_st[combine_adata_st.obs.HBV_content != 0]\n",
    "# tmp = tmp[tmp.obs.tmp_leiden != '-2']\n",
    "content = list(tmp.obs.HBV_content)\n",
    "np.percentile(content, [34,57,78])"
   ]
  },
  {
   "cell_type": "code",
   "execution_count": null,
   "metadata": {},
   "outputs": [],
   "source": [
    "HBV_grade = {\n",
    "    0: 1,\n",
    "    1: 2,\n",
    "    2: 4,\n",
    "}\n",
    "\n",
    "# HBV_grade = sorted(HBV_grade.items(), key=lambda x: -x[1])\n",
    "\n",
    "# combine_adata_st.obs.leiden['HBV_grade'] = pd.Categorical([0]*len(combine_adata_st), categories=list(ROI_mask.keys()) + ['other'], ordered=False)\n",
    "combine_adata_st.obs[\"HBV_grade_4\"] = [-2] * len(combine_adata_st)\n",
    "for cell in tqdm(combine_adata_st.obs.index):\n",
    "    for grade, value in HBV_grade.items():\n",
    "        if combine_adata_st.obs['HBV_content'].loc[cell] >= value:\n",
    "            combine_adata_st.obs['HBV_grade_4'].loc[cell] = grade"
   ]
  },
  {
   "cell_type": "markdown",
   "metadata": {},
   "source": [
    "### devide by detailed percentile"
   ]
  },
  {
   "cell_type": "code",
   "execution_count": null,
   "metadata": {},
   "outputs": [],
   "source": [
    "tmp = combine_adata_st[combine_adata_st.obs.HBV_content != 0]\n",
    "# tmp = tmp[tmp.obs.tmp_leiden != '-2']\n",
    "content = list(tmp.obs.HBV_content)\n",
    "content = sorted(content)\n",
    "# np.percentile(content, [34,57,74,83,85,90,93,96,97,98,98.5,99])"
   ]
  },
  {
   "cell_type": "code",
   "execution_count": null,
   "metadata": {},
   "outputs": [],
   "source": [
    "for i in range(20):\n",
    "    print(i+1, content.index(i+1)/len(content))"
   ]
  },
  {
   "cell_type": "code",
   "execution_count": null,
   "metadata": {},
   "outputs": [],
   "source": [
    "HBV_grade = {\n",
    "    0: 1,\n",
    "    1: 2,\n",
    "    2: 3,\n",
    "    3: 4,\n",
    "    4: 5,\n",
    "    5: 6,\n",
    "    6: 7,\n",
    "    7: 8,\n",
    "    8: 11,\n",
    "}\n",
    "\n",
    "# HBV_grade = sorted(HBV_grade.items(), key=lambda x: -x[1])\n",
    "\n",
    "# combine_adata_st.obs.leiden['HBV_grade'] = pd.Categorical([0]*len(combine_adata_st), categories=list(ROI_mask.keys()) + ['other'], ordered=False)\n",
    "combine_adata_st.obs[\"HBV_grade_detailed\"] = [-2] * len(combine_adata_st)\n",
    "for cell in tqdm(combine_adata_st.obs.index):\n",
    "    for grade, value in HBV_grade.items():\n",
    "        if combine_adata_st.obs['HBV_content'].loc[cell] >= value:\n",
    "            combine_adata_st.obs['HBV_grade_detailed'].loc[cell] = grade"
   ]
  },
  {
   "cell_type": "markdown",
   "metadata": {},
   "source": [
    "## spatial projection by AFP"
   ]
  },
  {
   "cell_type": "code",
   "execution_count": null,
   "metadata": {},
   "outputs": [],
   "source": [
    "combine_adata_st.obs['AFP_content'] = [0]*len(combine_adata_st)\n",
    "\n",
    "for layer in range(20):\n",
    "    tmp1 = combine_adata_st[combine_adata_st.obs.layer == f'layer{layer}']\n",
    "    tmp1_index = tmp1.obs.index\n",
    "    tmp1.obs.index = [_.split('-')[0] for _ in tmp1.obs.index]\n",
    "\n",
    "    tmp2 = adata[adata.obs.layer == f'layer{layer}']\n",
    "    tmp2.obs.index = [_.split('-')[0] for _ in tmp2.obs.index]\n",
    "\n",
    "    tmp2 = tmp2[tmp1.obs.index]\n",
    "\n",
    "    combine_adata_st.obs['AFP_content'][tmp1_index] = pd.Series([_[0] for _ in tmp2[:,'AFP'].X],index=tmp1_index)"
   ]
  },
  {
   "cell_type": "code",
   "execution_count": null,
   "metadata": {},
   "outputs": [],
   "source": [
    "fig, ax = plt.subplots(ncols=1, nrows=1, figsize=(20, 5))\n",
    "a = combine_adata_st[combine_adata_st.obs.AFP_content != 0].obs['AFP_content']\n",
    "sns.histplot(a, bins=100, stat='count', alpha=1, kde=True,\n",
    "             edgecolor='white', linewidth=0.5,\n",
    "             # log=True,\n",
    "             ax=ax, line_kws=dict(color='black', alpha=0.7,\n",
    "                                  linewidth=1.5, label='KDE'),\n",
    "             # binrange=[0,100]\n",
    "             )\n",
    "y = ax.get_lines()[0].get_ydata()\n",
    "maxima = [float(j/len(y)*(max(a)-min(a))+min(a))\n",
    "          for j in argrelextrema(-np.array(y), np.less)[0]]\n",
    "\n",
    "for submaxima in maxima:\n",
    "    ax.axvline(x=submaxima, color='r', alpha=0.5, linestyle='--')\n",
    "\n",
    "plt.tight_layout()\n",
    "plt.show()"
   ]
  },
  {
   "cell_type": "markdown",
   "metadata": {},
   "source": [
    "### devide by percentile"
   ]
  },
  {
   "cell_type": "code",
   "execution_count": null,
   "metadata": {},
   "outputs": [],
   "source": [
    "tmp = combine_adata_st[combine_adata_st.obs.AFP_content != 0]\n",
    "# tmp = tmp[tmp.obs.tmp_leiden != '-2']\n",
    "content = sorted(list(tmp.obs.AFP_content))"
   ]
  },
  {
   "cell_type": "code",
   "execution_count": null,
   "metadata": {},
   "outputs": [],
   "source": [
    "for i in range(20):\n",
    "    print(i+1, content.index(i+1)/len(content))"
   ]
  },
  {
   "cell_type": "code",
   "execution_count": null,
   "metadata": {},
   "outputs": [],
   "source": [
    "HBV_grade = {\n",
    "    0: 1,\n",
    "    1: 2,\n",
    "    2: 3,\n",
    "    3: 4,\n",
    "    4: 5,\n",
    "    5: 6,\n",
    "    6: 7,\n",
    "    7: 9,\n",
    "    8: 11,\n",
    "    9: 15,\n",
    "    10: 20,\n",
    "}\n",
    "\n",
    "# HBV_grade = sorted(HBV_grade.items(), key=lambda x: -x[1])\n",
    "\n",
    "# combine_adata_st.obs.leiden['HBV_grade'] = pd.Categorical([0]*len(combine_adata_st), categories=list(ROI_mask.keys()) + ['other'], ordered=False)\n",
    "combine_adata_st.obs[\"AFP_grade\"] = [-2] * len(combine_adata_st)\n",
    "for cell in tqdm(combine_adata_st.obs.index):\n",
    "    for grade, value in HBV_grade.items():\n",
    "        if combine_adata_st.obs['AFP_content'].loc[cell] >= value:\n",
    "            combine_adata_st.obs['AFP_grade'].loc[cell] = grade"
   ]
  },
  {
   "cell_type": "code",
   "execution_count": null,
   "metadata": {},
   "outputs": [],
   "source": [
    "combine_adata_st.write(spatial_dir/'2023.10.12_adata_AFP_content.h5ad')"
   ]
  },
  {
   "cell_type": "markdown",
   "metadata": {},
   "source": [
    "### devide by detailed percentile"
   ]
  },
  {
   "cell_type": "code",
   "execution_count": null,
   "metadata": {},
   "outputs": [],
   "source": [
    "tmp = combine_adata_st[combine_adata_st.obs.HBV_content != 0]\n",
    "# tmp = tmp[tmp.obs.tmp_leiden != '-2']\n",
    "content = list(tmp.obs.HBV_content)\n",
    "content = sorted(content)\n",
    "# np.percentile(content, [34,57,74,83,85,90,93,96,97,98,98.5,99])"
   ]
  },
  {
   "cell_type": "code",
   "execution_count": null,
   "metadata": {},
   "outputs": [],
   "source": [
    "for i in range(20):\n",
    "    print(i+1, content.index(i+1)/len(content))"
   ]
  },
  {
   "cell_type": "code",
   "execution_count": null,
   "metadata": {},
   "outputs": [],
   "source": [
    "HBV_grade = {\n",
    "    0: 1,\n",
    "    1: 2,\n",
    "    2: 3,\n",
    "    3: 4,\n",
    "    4: 5,\n",
    "    5: 6,\n",
    "    6: 7,\n",
    "    7: 8,\n",
    "    8: 11,\n",
    "}\n",
    "# HBV_grade = sorted(HBV_grade.items(), key=lambda x: -x[1])\n",
    "# combine_adata_st.obs.leiden['HBV_grade'] = pd.Categorical([0]*len(combine_adata_st), categories=list(ROI_mask.keys()) + ['other'], ordered=False)\n",
    "combine_adata_st.obs[\"HBV_grade_detailed\"] = [-2] * len(combine_adata_st)\n",
    "for cell in tqdm(combine_adata_st.obs.index):\n",
    "    for grade, value in HBV_grade.items():\n",
    "        if combine_adata_st.obs['HBV_content'].loc[cell] >= value:\n",
    "            combine_adata_st.obs['HBV_grade_detailed'].loc[cell] = grade"
   ]
  },
  {
   "cell_type": "markdown",
   "metadata": {},
   "source": [
    "# Plot3: cluster distribution of different regions"
   ]
  },
  {
   "cell_type": "markdown",
   "metadata": {},
   "source": [
    "## region of type"
   ]
  },
  {
   "cell_type": "code",
   "execution_count": null,
   "metadata": {},
   "outputs": [],
   "source": [
    "Region_mask = ROI_mask_load(input_path=spatial_dir/'area_cloud_for_analysis', save=False, blur=False,\n",
    "                            out_path=spatial_dir/'downstream_analysis')"
   ]
  },
  {
   "cell_type": "code",
   "execution_count": null,
   "metadata": {},
   "outputs": [],
   "source": [
    "from collections import Counter\n",
    "\n",
    "\n",
    "combine_adata_st.obs['region'] = pd.Categorical(['other']*len(combine_adata_st), categories=list(Region_mask.keys()) + ['other'], ordered=False)    \n",
    "for _, mask in Region_mask.items():\n",
    "    yrange = mask.shape[1]\n",
    "    for cell in tqdm(combine_adata_st[combine_adata_st.obs['leiden_type']!='-2'].obs.index, desc=_):\n",
    "        y = yrange - max(1,int(float(combine_adata_st.obs['Y_pos'].loc[cell])/100))\n",
    "        x = int(max(0,float(combine_adata_st.obs['X_pos'].loc[cell])/100))\n",
    "        z = int(combine_adata_st.obs['layer'].loc[cell].replace('layer',''))\n",
    "        # z = int(combine_adata_st[cell].obsm['spatial'][0][2]/10*0.1625/10*0.1625)\n",
    "        if mask[z, y, x]:\n",
    "            combine_adata_st.obs['region'].loc[cell] = _\n",
    "    \n",
    "    tmp_adata_st = combine_adata_st[combine_adata_st.obs.region == _]\n",
    "    tmp = Counter(tmp_adata_st[tmp_adata_st.obs.leiden_type != '-2'].obs.type)\n",
    "    df = pd.DataFrame(tmp, index=[0]).T\n",
    "    df.columns = [_]\n",
    "    Region_cluster = pd.concat([Region_cluster, df], axis=1)"
   ]
  },
  {
   "cell_type": "code",
   "execution_count": null,
   "metadata": {},
   "outputs": [],
   "source": [
    "Region_cluster = pd.DataFrame(index=list(cluster_rough_dict.keys()))\n",
    "for _, mask in Region_mask.items():\n",
    "    tmp_adata_st = combine_adata_st[combine_adata_st.obs.region == _]\n",
    "    tmp = Counter(tmp_adata_st[tmp_adata_st.obs.leiden_type != '-2'].obs.type)\n",
    "    df = pd.DataFrame(tmp, index=[0]).T\n",
    "    df.columns = [_]\n",
    "    Region_cluster = pd.concat([Region_cluster, df], axis=1)"
   ]
  },
  {
   "cell_type": "code",
   "execution_count": null,
   "metadata": {},
   "outputs": [],
   "source": [
    "Region_cluster_immune = Region_cluster[Region_cluster.index.isin(['Liver','Tumor','Endo','Ep','CAF'])]\n",
    "Region_cluster_nonimmune = Region_cluster[~Region_cluster.index.isin(['Liver','Tumor','Endo','Ep','CAF'])]"
   ]
  },
  {
   "cell_type": "code",
   "execution_count": null,
   "metadata": {},
   "outputs": [],
   "source": [
    "import matplotlib.ticker as mtick\n",
    "from matplotlib import cm\n",
    "from matplotlib.colors import LinearSegmentedColormap\n",
    "\n",
    "fig, ax = plt.subplots(ncols=2, nrows=1, figsize=(50, 10))\n",
    "# sc.pl.umap(\n",
    "#     combine_adata_st[~combine_adata_st.obs['leiden_type'].isin(['-2','0'])],\n",
    "#     size=1,\n",
    "#     color=\"type\",\n",
    "#     palette=type_colormap,\n",
    "#     # legend_loc=\"on data\",\n",
    "#     legend_fontweight=100,\n",
    "#     legend_fontsize=10,\n",
    "#     ax=ax[0],\n",
    "#     show=False,\n",
    "# )\n",
    "\n",
    "\n",
    "colors = [_ for _ in type_colormap.values()][:-1]\n",
    "cmap1 = LinearSegmentedColormap.from_list('my_colormap', colors[:5])\n",
    "cmap2 = LinearSegmentedColormap.from_list('my_colormap', colors[5:])\n",
    "\n",
    "df = Region_cluster_immune.T\n",
    "# df = df.drop('Liver', axis=1)\n",
    "df = df.div(df.sum(axis=1), axis=0) * 100\n",
    "df.plot(kind='bar', \n",
    "        stacked=True, \n",
    "        figsize=(20,10), \n",
    "        colormap=cmap1,\n",
    "        ax=ax[0]\n",
    "        )\n",
    "ax[0].yaxis.set_major_formatter(mtick.PercentFormatter())\n",
    "ax[0].set_title('content of different cluster on ROIs')\n",
    "# plt.legend(loc='upper center',\n",
    "#            bbox_to_anchor=(1.2, 1),\n",
    "#            ncols=1,\n",
    "#            )\n",
    "\n",
    "df = Region_cluster_nonimmune.T\n",
    "# df = df.drop('Liver', axis=1)\n",
    "df = df.div(df.sum(axis=1), axis=0) * 100\n",
    "df.plot(kind='bar', \n",
    "        stacked=True, \n",
    "        figsize=(20,10), \n",
    "        colormap=cmap2,\n",
    "        ax=ax[1]\n",
    "        )\n",
    "ax[1].yaxis.set_major_formatter(mtick.PercentFormatter())\n",
    "ax[1].set_title('content of different cluster on ROIs')\n",
    "# plt.legend(loc='upper center',\n",
    "#            bbox_to_anchor=(1.2, 1),\n",
    "#            ncols=1,\n",
    "#            )\n",
    "# plt.tight_layout()\n",
    "# plt.show()\n",
    "plt.savefig(r'E:\\TMC\\cell_typing\\results\\2023.9.28-_PRISM_HCC_final_downstream_analysis\\figures\\5_region_fraction.pdf')"
   ]
  },
  {
   "cell_type": "markdown",
   "metadata": {},
   "source": [
    "## ROI"
   ]
  },
  {
   "cell_type": "code",
   "execution_count": null,
   "metadata": {},
   "outputs": [],
   "source": [
    "combine_adata_st = sc.read_h5ad(spatial_dir/'adata_neighborhood_enrichment.h5ad')\n",
    "adata = sc.read_h5ad(spatial_dir/'adata_relayered.h5ad')"
   ]
  },
  {
   "cell_type": "code",
   "execution_count": null,
   "metadata": {},
   "outputs": [],
   "source": [
    "ROI_mask = ROI_mask_load(input_path=r'E:\\TMC\\cell_typing\\exp_dataset\\PRISM_HCC_of_20_slides\\psuedo3D_HCC_1_ROI', save=False, out_path=r'E:\\TMC\\cell_typing\\results\\2023.9.28-_PRISM_HCC_20layers_downstream_analysis')"
   ]
  },
  {
   "cell_type": "markdown",
   "metadata": {},
   "source": [
    "### ROI of gene"
   ]
  },
  {
   "cell_type": "code",
   "execution_count": null,
   "metadata": {},
   "outputs": [],
   "source": [
    "tmp = combine_adata_st[~combine_adata_st.obs.type.isin(['other'])]\n",
    "tmp = tmp[tmp.obs.ROI == 'ROI_1']"
   ]
  },
  {
   "cell_type": "code",
   "execution_count": null,
   "metadata": {},
   "outputs": [],
   "source": [
    "ROI_dict = pd.DataFrame(index=[f'ROI_{x+1}' for x in range(5)], columns=gene_list)\n",
    "for ROI in [f'ROI_{x+1}' for x in range(5)]:\n",
    "    ROI_of_gene_toplot = pd.DataFrame(index=[f'layer{x}' for x in range(20)],\n",
    "                                      columns=['cell_num']+gene_list)\n",
    "    for layer in tqdm(range(20), desc=ROI):\n",
    "        tmp1 = combine_adata_st[combine_adata_st.obs.layer == f'layer{layer}']\n",
    "        tmp1 = tmp1[tmp1.obs.ROI == ROI]\n",
    "        tmp1_index = tmp1.obs.index\n",
    "        tmp1.obs.index = [_.split('-')[0] for _ in tmp1.obs.index]\n",
    "\n",
    "        tmp2 = adata[adata.obs.layer == f'layer{layer}']\n",
    "        tmp2.obs.index = [_.split('-')[0] for _ in tmp2.obs.index]\n",
    "        tmp2 = tmp2[tmp1.obs.index]\n",
    "        \n",
    "        ROI_of_gene_toplot.loc[f'layer{layer}',:] = [len(tmp1)] + [np.sum([_[0] for _ in tmp2[:,gene].X]) for gene in gene_list]\n",
    "    \n",
    "    \n",
    "    ROI_dict.loc[ROI,:] = np.sum(ROI_of_gene_toplot[gene_list], axis=0)\n",
    "                                #  weights=ROI_of_gene_toplot['cell_num'], "
   ]
  },
  {
   "cell_type": "code",
   "execution_count": null,
   "metadata": {},
   "outputs": [],
   "source": [
    "df = ROI_dict.div(ROI_dict.sum(axis=1), axis=0) * 100\n",
    "# df = ROI_dict.copy()\n",
    "df[['HBV', 'AFP', 'GPC3', 'MKI67']].plot(kind='bar', \n",
    "        stacked=True, \n",
    "        figsize=(8,10), \n",
    "        # colormap=cmap1,\n",
    "        # ax=ax[0]\n",
    "        title='counts of different genes on ROIs'\n",
    "        )\n",
    "# ax[0].yaxis.set_major_formatter(mtick.PercentFormatter())\n",
    "# ax[0].set_title('content of different cluster on ROIs')"
   ]
  },
  {
   "cell_type": "markdown",
   "metadata": {},
   "source": [
    "### ROI of type"
   ]
  },
  {
   "cell_type": "code",
   "execution_count": null,
   "metadata": {},
   "outputs": [],
   "source": [
    "combine_adata_st.obs['X_pos'] = [0]*len(combine_adata_st)\n",
    "combine_adata_st.obs['Y_pos'] = [0]*len(combine_adata_st)\n",
    "\n",
    "for layer in range(20):\n",
    "    centroids = pd.read_csv(f'E:\\TMC\\cell_typing\\exp_dataset\\PRISM_HCC_of_20_slides\\S_{layer+1}_centroids.csv', header=0)\n",
    "    centroids.index = [str(_) for _ in centroids.index]\n",
    "    centroids.columns = ['Y','X']\n",
    "    tmp = combine_adata_st[combine_adata_st.obs.layer == f'layer{layer}']\n",
    "    tmp_index = tmp.obs.index\n",
    "    tmp.obs.index=[_.split('-')[0] for _ in tmp.obs.index]\n",
    "    combine_adata_st.obs['Y_pos'][tmp_index] = centroids.loc[tmp.obs.index]['Y']\n",
    "    combine_adata_st.obs['X_pos'][tmp_index] = centroids.loc[tmp.obs.index]['X']"
   ]
  },
  {
   "cell_type": "code",
   "execution_count": null,
   "metadata": {},
   "outputs": [],
   "source": [
    "from collections import Counter\n",
    "\n",
    "ROI_cluster = pd.DataFrame(index=list(cluster_rough_dict.keys()))\n",
    "\n",
    "combine_adata_st.obs['ROI'] = pd.Categorical(['other']*len(combine_adata_st), categories=list(ROI_mask.keys()) + ['other'], ordered=False)    \n",
    "for _, mask in ROI_mask.items():\n",
    "    yrange = mask.shape[0]\n",
    "    for cell in tqdm(combine_adata_st[combine_adata_st.obs['leiden_type']!='-2'].obs.index, desc=_):\n",
    "        if mask[yrange - max(1,int(float(combine_adata_st.obs['Y_pos'].loc[cell])/100)), int(max(0,float(combine_adata_st.obs['X_pos'].loc[cell])/100))]:\n",
    "            combine_adata_st.obs['ROI'].loc[cell] = _\n",
    "    \n",
    "    tmp_adata_st = combine_adata_st[combine_adata_st.obs.ROI == _]\n",
    "    tmp = Counter(tmp_adata_st[tmp_adata_st.obs.leiden_type != '-2'].obs.type)\n",
    "    df = pd.DataFrame(tmp, index=[0]).T\n",
    "    df.columns = [_]\n",
    "    ROI_cluster = pd.concat([ROI_cluster, df], axis=1)"
   ]
  },
  {
   "cell_type": "code",
   "execution_count": null,
   "metadata": {},
   "outputs": [],
   "source": [
    "from collections import Counter\n",
    "\n",
    "\n",
    "ROI_cluster = pd.DataFrame(index=list(cluster_rough_dict.keys()))\n",
    "for _, mask in ROI_mask.items():\n",
    "    tmp_adata_st = combine_adata_st[combine_adata_st.obs.ROI == _]\n",
    "    tmp = Counter(tmp_adata_st[tmp_adata_st.obs.leiden_type != '-2'].obs.type)\n",
    "    df = pd.DataFrame(tmp, index=[0]).T\n",
    "    df.columns = [_]\n",
    "    ROI_cluster = pd.concat([ROI_cluster, df], axis=1)"
   ]
  },
  {
   "cell_type": "code",
   "execution_count": null,
   "metadata": {},
   "outputs": [],
   "source": [
    "ROI_cluster_immune = ROI_cluster[ROI_cluster.index.isin(['Liver','Tumor','Endo','Ep','CAF'])]\n",
    "ROI_cluster_nonimmune = ROI_cluster[~ROI_cluster.index.isin(['Liver','Tumor','Endo','Ep','CAF'])]"
   ]
  },
  {
   "cell_type": "code",
   "execution_count": null,
   "metadata": {},
   "outputs": [],
   "source": [
    "import matplotlib.ticker as mtick\n",
    "from matplotlib.colors import LinearSegmentedColormap\n",
    "\n",
    "\n",
    "fig, ax = plt.subplots(ncols=2, nrows=1, figsize=(30, 10))\n",
    "# sc.pl.umap(\n",
    "#     combine_adata_st[~combine_adata_st.obs['leiden_type'].isin(['-2','0'])],\n",
    "#     size=1,\n",
    "#     color=\"type\",\n",
    "#     palette=type_colormap,\n",
    "#     # legend_loc=\"on data\",\n",
    "#     legend_fontweight=100,\n",
    "#     legend_fontsize=10,\n",
    "#     ax=ax[0],\n",
    "#     show=False,\n",
    "# )\n",
    "\n",
    "\n",
    "colors = [_ for _ in type_colormap.values()][:-1]\n",
    "cmap1 = LinearSegmentedColormap.from_list('my_colormap', colors[:5])\n",
    "cmap2 = LinearSegmentedColormap.from_list('my_colormap', colors[5:])\n",
    "\n",
    "df = ROI_cluster_immune.T\n",
    "# df = df.drop('Liver', axis=1)\n",
    "df = df.div(df.sum(axis=1), axis=0) * 100\n",
    "df.plot(kind='bar', \n",
    "        stacked=True, \n",
    "        figsize=(20,10), \n",
    "        colormap=cmap1,\n",
    "        ax=ax[0]\n",
    "        )\n",
    "ax[0].yaxis.set_major_formatter(mtick.PercentFormatter())\n",
    "ax[0].set_title('content of different cluster on ROIs')\n",
    "# plt.legend(loc='upper center',\n",
    "#            bbox_to_anchor=(1.2, 1),\n",
    "#            ncols=1,\n",
    "#            )\n",
    "\n",
    "df = ROI_cluster_nonimmune.T\n",
    "# df = df.drop('Liver', axis=1)\n",
    "df = df.div(df.sum(axis=1), axis=0) * 100\n",
    "df.plot(kind='bar', \n",
    "        stacked=True, \n",
    "        figsize=(20,10), \n",
    "        colormap=cmap2,\n",
    "        ax=ax[1]\n",
    "        )\n",
    "ax[1].yaxis.set_major_formatter(mtick.PercentFormatter())\n",
    "ax[1].set_title('content of different cluster on ROIs')\n",
    "# plt.legend(loc='upper center',\n",
    "#            bbox_to_anchor=(1.2, 1),\n",
    "#            ncols=1,\n",
    "#            )\n",
    "# plt.tight_layout()\n",
    "plt.show()\n",
    "# plt.savefig(r'E:\\TMC\\cell_typing\\results\\2023.9.28-_PRISM_HCC_final_downstream_analysis\\2023.10.8_revised_Roe, imaris new color\\4_ROI_fraction_type.pdf')"
   ]
  },
  {
   "cell_type": "markdown",
   "metadata": {},
   "source": [
    "### Ro/e"
   ]
  },
  {
   "cell_type": "code",
   "execution_count": null,
   "metadata": {},
   "outputs": [],
   "source": [
    "tmp = combine_adata_st.obs.subtype.replace({'T_CD8+':\"T_CD8+_other\",\"T_CD4+\":\"T_CD4+_other\"})\n",
    "combine_adata_st.obs.subtype = pd.Categorical(tmp, categories=tmp.unique())"
   ]
  },
  {
   "cell_type": "code",
   "execution_count": null,
   "metadata": {},
   "outputs": [],
   "source": [
    "type_of_interest = [\n",
    "    [\"Tumor_AFP+\"],\n",
    "    [\"Tumor_GPC3+\"],\n",
    "    [\"Tumor_proliferation\"],\n",
    "    [\"T_CD4+_other\"],\n",
    "    [\"T_CD4+, PD1+\"],\n",
    "    [\"T_CD4+, CXCL13+\", \"T_CD4+, PD1+, CXCL13+\"],\n",
    "    [\"T_CD8+, GZMA+, CXCL13+\"],\n",
    "    [\"T_CD4+, PD1+, CTLA4+\"],\n",
    "    [\"Cyto_T_CD4+\"],\n",
    "    [\"T_CD8+_other\"],\n",
    "    [\"T_CD4+, CTLA4+\"],\n",
    "    [\"T_CD8+, PD1+\"],\n",
    "    [\"T_reg\"],\n",
    "    [\"T_proliferation\"],\n",
    "    [\"B_CD79A+\"],\n",
    "    [\"B_MS4A1+\"],\n",
    "    [\"NK_NCAM1+\"],\n",
    "    [\"Endo_PECAM1+\"],\n",
    "    [\"Ep_EPCAM+\"],\n",
    "    [\"CAF_ACTA2+\"],\n",
    "    ]\n",
    "\n",
    "ROIs = [f'ROI_{i}' for i in [1,\n",
    "                             2,\n",
    "                             4,3,5]]\n",
    "R_oe = pd.DataFrame(columns=ROIs)\n",
    "R_oe['type_of_in'] = [str(_) for _ in type_of_interest]\n",
    "R_oe.set_index('type_of_in', inplace = True)\n",
    "\n",
    "adata_for_ROE = combine_adata_st[combine_adata_st.obs.ROI.isin(ROIs)]\n",
    "total_cell_num = len(adata_for_ROE)\n",
    "\n",
    "for subtype in type_of_interest:\n",
    "    # for region in ROI_mask.keys():\n",
    "    for region in ROIs:\n",
    "        adata_for_ROI = adata_for_ROE[adata_for_ROE.obs.ROI == region]\n",
    "        adata_for_ROI_subtype = adata_for_ROI[adata_for_ROI.obs.subtype.isin(subtype)]\n",
    "\n",
    "        observed_num = len(adata_for_ROI_subtype)\n",
    "        expect_num = (len(adata_for_ROE[adata_for_ROE.obs.ROI==region]) * len(adata_for_ROE[adata_for_ROE.obs.subtype.isin(subtype)]))/total_cell_num\n",
    "        # if expect_num == 0:\n",
    "        #     R_oe.loc[str(subtype), region] = 0\n",
    "        #     continue\n",
    "\n",
    "        R_oe.loc[str(subtype), region] = observed_num/expect_num"
   ]
  },
  {
   "cell_type": "code",
   "execution_count": null,
   "metadata": {},
   "outputs": [],
   "source": [
    "plt.figure(figsize=(10, 10))\n",
    "sns.heatmap(\n",
    "    [list(_) for _ in np.array(R_oe)],\n",
    "    cmap=\"coolwarm\",\n",
    "    xticklabels=R_oe.columns,\n",
    "    yticklabels=R_oe.index,\n",
    "    annot=True,\n",
    "    # vmax=2,\n",
    "    # vmin=-0.5,\n",
    ")\n",
    "plt.title(f\"ROE\")\n",
    "plt.show()\n",
    "# plt.savefig(r'E:\\TMC\\cell_typing\\results\\2023.9.28-_PRISM_HCC_final_downstream_analysis\\2023.10.8_revised_Roe, imaris new color\\4_ROI_Roe.pdf')\n",
    "# plt.yticks(np.arange(0.5, len(R_oe.index), 1), R_oe.index)\n",
    "# plt.xticks(np.arange(0.5, len(R_oe.columns), 1), R_oe.columns)"
   ]
  },
  {
   "cell_type": "markdown",
   "metadata": {},
   "source": [
    "## Type distribution on orientation"
   ]
  },
  {
   "cell_type": "code",
   "execution_count": null,
   "metadata": {},
   "outputs": [],
   "source": [
    "import math\n",
    "angle = math.atan(1/2)\n",
    "direction_vector = np.array([math.cos(angle), math.sin(angle)])\n",
    "\n",
    "xy_array = np.array([combine_adata_st.obs.X_pos, combine_adata_st.obs.Y_pos])\n",
    "xy_array = xy_array.T\n",
    "\n",
    "combine_adata_st.obs['direction_projection'] = xy_array@direction_vector\n",
    "\n",
    "# type_of_interest_for_orientation = [\n",
    "#     'CAF','Tumor','CD4+', 'CD8+', 'T_reg','NK', 'B', 'Monocyte','Neutrophil', 'Mait', 'Mast'\n",
    "# ]\n",
    "\n",
    "# subtype_of_interest_for_orientation = [\n",
    "#     \"Tumor_AFP+\",\n",
    "#     \"Tumor_GPC3+\",\n",
    "#     \"Tumor_proliferation\",\n",
    "#     \"CAF_ACTA2+\",\n",
    "#     \"Monocyte_CD14+\",\n",
    "#     \"Monocyte_CD14+, CD16+\",\n",
    "#     \"Monocyte_CD16+\",\n",
    "# ]\n",
    "\n",
    "type_of_interest = [_ for _ in cluster_dict.keys()]\n",
    "type_of_interest.remove('CAF_ACTA2+')\n",
    "type_of_interest = ['CAF_ACTA2+'] + type_of_interest\n",
    "\n",
    "\n",
    "fig, ax = plt.subplots(ncols=1,nrows=len(type_of_interest),figsize=(5,2*(len(type_of_interest))))\n",
    "for _, subtype in enumerate(type_of_interest):\n",
    "    a=combine_adata_st[combine_adata_st.obs.subtype==subtype].obs['direction_projection']\n",
    "    sns.histplot(a, bins=100, stat='density', alpha=1, kde=True,\n",
    "                edgecolor='white', linewidth=0.5,\n",
    "                color=subtype_colormap[subtype],\n",
    "                ax=ax[_],\n",
    "                line_kws=dict(color='black', alpha=0.7, linewidth=1.5, label='KDE'),\n",
    "                # binrange=[0,100]\n",
    "                )\n",
    "    ax[_].set_xlim(0,55000)\n",
    "    ax[_].legend([subtype])\n",
    "    if subtype == 'CAF_ACTA2+':\n",
    "        y = ax[_].get_lines()[0].get_ydata()\n",
    "        maxima = [float(_/len(y)*(max(a)-min(a))+min(a)) for _ in argrelextrema(-np.array(y), np.less)[0]]\n",
    "    for submaxima in maxima:\n",
    "        ax[_].axvline(x=submaxima, color='r', alpha=0.5, linestyle='--')\n",
    "\n",
    "# for _, subtype in enumerate(subtype_of_interest_for_orientation):\n",
    "#     _ += len(type_of_interest_for_orientation)\n",
    "#     a=combine_adata_st[combine_adata_st.obs.subtype==subtype].obs['direction_projection']\n",
    "#     sns.histplot(a, bins=100, stat='density', alpha=1, kde=True,\n",
    "#                 edgecolor='white', linewidth=0.5,\n",
    "#                 # log=True,\n",
    "#                 ax=ax[_],\n",
    "#                 line_kws=dict(color='black', alpha=0.7, linewidth=1.5, label='KDE'),\n",
    "#                 # binrange=[0,100]\n",
    "#                 )\n",
    "#     ax[_].set_xlim(0,55000)\n",
    "#     ax[_].legend([subtype])\n",
    "#     # y.append(ax[_].get_lines()[0].get_ydata())\n",
    "\n",
    "#     # if subtype == 'CAF':\n",
    "#     #     maxima = [float(j/len(y[_])*(max(a)-min(a))+min(a)) for j in argrelextrema(-np.array(y[_]), np.less)[0]]\n",
    "\n",
    "#     for submaxima in maxima:\n",
    "#         ax[_].axvline(x=submaxima, color='r', alpha=0.5, linestyle='--')\n",
    "\n",
    "plt.suptitle('angle={0:.2f}pi'.format(angle/math.pi))\n",
    "plt.tight_layout()\n",
    "# plt.savefig(r'E:\\TMC\\cell_typing\\results\\2023.9.28-_PRISM_HCC_final_downstream_analysis\\figures\\4_distribution_sep_by_CAF_all.pdf', bbox_inches = 'tight')\n",
    "plt.show()"
   ]
  },
  {
   "cell_type": "code",
   "execution_count": null,
   "metadata": {},
   "outputs": [],
   "source": [
    "import io\n",
    "import PySimpleGUI as sg\n",
    "from PIL import Image, ImageDraw, ImageTk\n",
    "\n",
    "# Function to convert the PIL image to a format that PySimpleGUI can display\n",
    "def convert_to_bytes(image):\n",
    "    with io.BytesIO() as buffer:\n",
    "        image.save(buffer, format=\"PNG\")\n",
    "        return buffer.getvalue()\n",
    "\n",
    "# Load the initial image and create a drawing object\n",
    "image_path = './dataset/PRISM30_mousebrain/figures/layer1.jpg'  # Replace with your image path\n",
    "original_image = Image.open(image_path)\n",
    "canvas_size = original_image.size\n",
    "\n",
    "# Create a separate mask image (initially transparent)\n",
    "mask = Image.new(\"RGBA\", canvas_size, (0, 0, 0, 0))\n",
    "draw = ImageDraw.Draw(mask)\n",
    "\n",
    "# Define the tab layout with a Canvas element\n",
    "tab_layout = [\n",
    "    [sg.Canvas(size=canvas_size, key='-CANVAS-')],\n",
    "    [sg.Button('Save', key='-SAVE-'), sg.Button('Exit', key='-EXIT-')]\n",
    "]\n",
    "\n",
    "# Create the main window layout with tabs\n",
    "layout = [\n",
    "    [sg.TabGroup([[sg.Tab('Drawing Tab', tab_layout)]])],\n",
    "]\n",
    "\n",
    "# Create the window\n",
    "window = sg.Window('Draw Semi-Transparent Mask', layout, finalize=True)\n",
    "canvas = window['-CANVAS-'].TKCanvas\n",
    "\n",
    "# Function to update the canvas with the blended image\n",
    "def update_canvas():\n",
    "    global tk_image\n",
    "    canvas.delete(\"all\")  # Clear the current image\n",
    "    # Blend the mask with the original image\n",
    "    blended_image = Image.alpha_composite(original_image.convert(\"RGBA\"), mask)\n",
    "    tk_image = ImageTk.PhotoImage(blended_image)\n",
    "    canvas.create_image(0, 0, image=tk_image, anchor='nw')\n",
    "\n",
    "# Draw the initial image on the canvas\n",
    "update_canvas()\n",
    "\n",
    "# Function to handle drawing\n",
    "def draw_circle(event):\n",
    "    x, y = event.x, event.y\n",
    "    radius = 10  # Adjust radius as needed\n",
    "    draw.ellipse((x-radius, y-radius, x+radius, y+radius), fill=(255, 0, 0, 128))  # Semi-transparent red\n",
    "    update_canvas()\n",
    "\n",
    "# Bind mouse events to the drawing function\n",
    "canvas.bind('<B1-Motion>', draw_circle)  # Draw on drag\n",
    "\n",
    "# Event loop\n",
    "while True:\n",
    "    event, values = window.read()\n",
    "    if event == sg.WIN_CLOSED or event == '-EXIT-':\n",
    "        break\n",
    "    elif event == '-SAVE-':\n",
    "        mask.save('path_to_save_mask.png')  # Replace with desired save path for mask\n",
    "\n",
    "window.close()\n"
   ]
  },
  {
   "cell_type": "code",
   "execution_count": null,
   "metadata": {},
   "outputs": [],
   "source": [
    "import math\n",
    "angle = math.atan(1/2)\n",
    "direction_vector = np.array([math.cos(angle), math.sin(angle)])\n",
    "\n",
    "xy_array = np.array([combine_adata_st.obs.X_pos, combine_adata_st.obs.Y_pos])\n",
    "xy_array = xy_array.T\n",
    "\n",
    "combine_adata_st.obs['direction_projection'] = xy_array@direction_vector\n",
    "\n",
    "type_of_interest_for_orientation = [\n",
    "    \"Tumor_AFP+\",\n",
    "    \"Tumor_GPC3+\",\n",
    "    \"Tumor_proliferation\",\n",
    "    \"CAF_ACTA2+\",\n",
    "    \"Monocyte_CD14+\",\n",
    "    \"Monocyte_CD14+, CD16+\",\n",
    "    \"Monocyte_CD16+\",\n",
    "]\n",
    "\n",
    "y=[]\n",
    "\n",
    "fig, ax = plt.subplots(ncols=1,nrows=len(type_of_interest_for_orientation),figsize=(5,2*len(type_of_interest_for_orientation)))\n",
    "for _, subtype in enumerate(type_of_interest_for_orientation):\n",
    "    a=combine_adata_st[combine_adata_st.obs.subtype==subtype].obs['direction_projection']\n",
    "    sns.histplot(a, bins=100, stat='density', alpha=1, kde=True,\n",
    "                edgecolor='white', linewidth=0.5,\n",
    "                # log=True,\n",
    "                ax=ax[_],\n",
    "                line_kws=dict(color='black', alpha=0.7, linewidth=1.5, label='KDE'),\n",
    "                # binrange=[0,100]\n",
    "                )\n",
    "    ax[_].set_xlim(0,55000)\n",
    "    ax[_].legend([subtype])\n",
    "    y.append(ax[_].get_lines()[0].get_ydata())\n",
    "\n",
    "    if subtype == 'CAF':\n",
    "        maxima = [float(j/len(y[_])*(max(a)-min(a))+min(a)) for j in argrelextrema(-np.array(y[_]), np.less)[0]]\n",
    "\n",
    "    for submaxima in maxima:\n",
    "        ax[_].axvline(x=submaxima, color='r', alpha=0.5, linestyle='--')\n",
    "    \n",
    "plt.suptitle('angle={0:.2f}pi'.format(angle/math.pi))\n",
    "plt.tight_layout()\n",
    "# plt.show()\n",
    "plt.savefig(r'E:\\TMC\\cell_typing\\results\\2023.9.28-_PRISM_HCC_final_downstream_analysis\\figures\\4_distribution_sep_by_CAF_TOI.pdf')\n",
    "\n",
    "print(f'maxima: {maxima}')"
   ]
  },
  {
   "cell_type": "code",
   "execution_count": null,
   "metadata": {},
   "outputs": [],
   "source": [
    "fig,ax = plt.subplots(ncols=1, nrows=1, figsize=(20,10))\n",
    "for line in y:\n",
    "    ax = plt.plot(line)\n",
    "\n",
    "plt.legend(type_of_interest_for_orientation)\n",
    "plt.show\n",
    "# plt.savefig(r'E:\\TMC\\cell_typing\\results\\2023.9.28-_PRISM_HCC_final_downstream_analysis\\figures\\4_distribution_sep_by_CAF_smoothed.pdf')"
   ]
  },
  {
   "cell_type": "markdown",
   "metadata": {},
   "source": [
    "# Plot4: quantitative spatial analysis"
   ]
  },
  {
   "cell_type": "code",
   "execution_count": null,
   "metadata": {},
   "outputs": [],
   "source": [
    "import squidpy as sq"
   ]
  },
  {
   "cell_type": "code",
   "execution_count": null,
   "metadata": {},
   "outputs": [],
   "source": [
    "combine_adata_st.obsm['spatial3d'] = np.array([combine_adata_st.obs.X_pos,combine_adata_st.obs.Y_pos,[int(_.replace('layer',''))*10/0.1625 for _ in combine_adata_st.obs.layer]]).T"
   ]
  },
  {
   "cell_type": "code",
   "execution_count": null,
   "metadata": {},
   "outputs": [],
   "source": [
    "fig, ax = plt.subplots(figsize=(20,5))\n",
    "sq.pl.spatial_scatter(combine_adata_st, shape=None, color=\"type\", size=0.1, ax=ax)\n",
    "ax.invert_yaxis()\n",
    "plt.show()"
   ]
  },
  {
   "cell_type": "code",
   "execution_count": null,
   "metadata": {},
   "outputs": [],
   "source": [
    "sc.pl.embedding(combine_adata_st, basis=\"spatial\", projection=\"3d\", color=\"type\", palette=type_colormap, size=0.1)"
   ]
  },
  {
   "cell_type": "code",
   "execution_count": null,
   "metadata": {},
   "outputs": [],
   "source": [
    "sq.gr.spatial_neighbors(combine_adata_st, coord_type=\"generic\", spatial_key=\"spatial3d\")"
   ]
  },
  {
   "cell_type": "markdown",
   "metadata": {},
   "source": [
    "## Plot: spatial neighborhood enrichment"
   ]
  },
  {
   "cell_type": "code",
   "execution_count": null,
   "metadata": {},
   "outputs": [],
   "source": [
    "combine_adata_st = sc.read_h5ad(cell_typ_dir/'adata_PRISM_HCC_3D_pseudo_harmony.h5ad')"
   ]
  },
  {
   "cell_type": "code",
   "execution_count": null,
   "metadata": {},
   "outputs": [],
   "source": [
    "type_reorder = ['Tumor', 'Liver', 'DC', 'T_proliferation', 'Mast', 'CAF', 'Endo', 'Neutrophil', 'CD8+', 'NK', 'Monocyte', 'CD4+', 'Mait', 'Macrophage', 'T_reg', 'B', 'Ep', 'other']\n",
    "\n",
    "tmp = combine_adata_st.copy()\n",
    "tmp.obs.type = pd.Categorical(tmp.obs.type, categories=type_reorder)\n",
    "tmp.obs.subtype = tmp.obs.subtype.replace({'T_CD4+, PD1+, CXCL13+':'T_CD4+, CXCL13+'})\n",
    "tmp.obs.subtype = pd.Categorical(tmp.obs.subtype, categories=tmp.obs.subtype.unique())"
   ]
  },
  {
   "cell_type": "code",
   "execution_count": null,
   "metadata": {},
   "outputs": [],
   "source": [
    "sq.gr.nhood_enrichment(tmp, cluster_key=\"type\")\n",
    "sq.gr.nhood_enrichment(tmp, cluster_key=\"subtype\")"
   ]
  },
  {
   "cell_type": "code",
   "execution_count": null,
   "metadata": {},
   "outputs": [],
   "source": [
    "fig, ax = plt.subplots(figsize=(10, 10))\n",
    "sq.pl.nhood_enrichment(tmp, cluster_key=\"type\", cmap=\"coolwarm\",\n",
    "                       vmin=-100, vmax=100, ax=ax)\n",
    "plt.show()\n",
    "# plt.savefig(r'E:\\TMC\\cell_typing\\results\\2023.9.28-_PRISM_HCC_final_downstream_analysis\\figures\\neighbor.pdf')"
   ]
  },
  {
   "cell_type": "code",
   "execution_count": null,
   "metadata": {},
   "outputs": [],
   "source": [
    "tmp = combine_adata_st.copy()\n",
    "subtype_reorder = [\n",
    "    'Liver_normal',\n",
    "    'Tumor_AFP+',\n",
    "    'Tumor_GPC3+',\n",
    "    'Tumor_proliferation',\n",
    "    'Endo_PECAM1+',\n",
    "    'Ep_EPCAM+',\n",
    "    'CAF_ACTA2+',\n",
    "    'T_reg',\n",
    "    'T_proliferation',\n",
    "    \"T_CD4+_other\",\n",
    "    \n",
    "    \"T_CD4+, CTLA4+\",\n",
    "    \"T_CD4+, PD1+, CTLA4+\",\n",
    "   \n",
    "    \"T_CD4+, PD1+\",\n",
    "    \"T_CD4+, CXCL13+\",\n",
    "    \"T_CD8+, GZMA+, CXCL13+\",\n",
    "    \"T_CD8+, PD1+\",\n",
    "\n",
    "    \"T_CD8+_other\",\n",
    "    \n",
    "    \"Cyto_T_CD4+\",\n",
    "    'NK_NCAM1+',\n",
    "    \n",
    "    'B_CD79A+',\n",
    "    'B_MS4A1+',\n",
    "    \n",
    "    'pDC_LILRA4+',\n",
    "    'cDC1_CLEC9A+',\n",
    "    'cDC2_CD1C+',\n",
    "    \n",
    "    'Macrophage_LYVE1+',\n",
    "    \n",
    "    'Monocyte_CD16+',\n",
    "    'Monocyte_CD14+, CD16+',\n",
    "    'Monocyte_CD14+',\n",
    "\n",
    "    'Neutrophil_CSF3R+, S100A8+',\n",
    "    'Neutrophil_CSF3R+',\n",
    "    \n",
    "    'Mait_SLC4A10+',\n",
    "    'Mast_CPA3+',\n",
    "    'other',\n",
    "    ]\n",
    "\n",
    "tmp.obs.subtype = tmp.obs.subtype.replace({'T_CD4+, PD1+, CXCL13+':'T_CD4+, CXCL13+'})\n",
    "tmp.obs.subtype = pd.Categorical(tmp.obs.subtype, categories=subtype_reorder)"
   ]
  },
  {
   "cell_type": "code",
   "execution_count": null,
   "metadata": {},
   "outputs": [],
   "source": [
    "sq.gr.nhood_enrichment(tmp, cluster_key=\"subtype\")"
   ]
  },
  {
   "cell_type": "code",
   "execution_count": null,
   "metadata": {},
   "outputs": [],
   "source": [
    "fig, ax = plt.subplots(figsize=(10, 10))\n",
    "sq.pl.nhood_enrichment(tmp, cluster_key=\"subtype\", method='ward', cmap=\"coolwarm\",\n",
    "                       vmin=-100, vmax=100, ax=ax)\n",
    "plt.show()"
   ]
  },
  {
   "cell_type": "markdown",
   "metadata": {},
   "source": [
    "### validation by projection"
   ]
  },
  {
   "cell_type": "code",
   "execution_count": null,
   "metadata": {},
   "outputs": [],
   "source": [
    "tmp.obsm['spatial'].max(axis=0)"
   ]
  },
  {
   "cell_type": "code",
   "execution_count": null,
   "metadata": {},
   "outputs": [],
   "source": [
    "from spatial import downsize_to_tif\n",
    "\n",
    "\n",
    "neighbor_type_toplot = ['Tumor_AFP+',]\n",
    "for subtype in neighbor_type_toplot:\n",
    "    points = tmp[tmp.obs.subtype == subtype].obsm['spatial']\n",
    "    downsize_to_tif(points=points, max_point_values=[1169.23076923, 38920.96604114, 47526.29253084,],\n",
    "                    out_path=cell_typ_dir/f'neighbor_enrichment_projection_{subtype}.tif', binsize=200)"
   ]
  },
  {
   "cell_type": "markdown",
   "metadata": {},
   "source": [
    "## Plot: spatial auto correlation"
   ]
  },
  {
   "cell_type": "code",
   "execution_count": null,
   "metadata": {},
   "outputs": [],
   "source": [
    "sq.gr.co_occurrence(tmp, cluster_key=\"subtype\")"
   ]
  },
  {
   "cell_type": "code",
   "execution_count": null,
   "metadata": {},
   "outputs": [],
   "source": [
    "sq.pl.co_occurrence(tmp, cluster_key=\"subtype\", clusters=\"Tumor_AFP+\")"
   ]
  },
  {
   "cell_type": "markdown",
   "metadata": {},
   "source": [
    "## Plot interaction matrix"
   ]
  },
  {
   "cell_type": "code",
   "execution_count": null,
   "metadata": {},
   "outputs": [],
   "source": [
    "sq.gr.interaction_matrix(tmp, cluster_key=\"subtype\")"
   ]
  },
  {
   "cell_type": "code",
   "execution_count": null,
   "metadata": {},
   "outputs": [],
   "source": [
    "sq.pl.interaction_matrix(tmp, cluster_key=\"subtype\",\n",
    "                         vmin=0, vmax=50000, method='centroid')"
   ]
  },
  {
   "cell_type": "markdown",
   "metadata": {},
   "source": [
    "## Plot gene autocorrelation"
   ]
  },
  {
   "cell_type": "code",
   "execution_count": null,
   "metadata": {},
   "outputs": [],
   "source": [
    "tmp_slice = tmp[tmp.obs.layer=='layer10']\n",
    "sq.gr.spatial_autocorr(tmp_slice, mode=\"moran\")\n",
    "tmp_slice.uns[\"moranI\"].head(10)"
   ]
  },
  {
   "cell_type": "markdown",
   "metadata": {},
   "source": [
    "# Plot5: heatmap"
   ]
  },
  {
   "cell_type": "markdown",
   "metadata": {},
   "source": [
    "## cluster of sc data"
   ]
  },
  {
   "cell_type": "code",
   "execution_count": null,
   "metadata": {},
   "outputs": [],
   "source": [
    "# adata_sc_subset = adata_sc1_subset.concatenate(adata_sc2_subset, adata_sc3_subset, batch_key=\"dataset\", batch_categories=[\"GSE151530\", \"GSE140228\", \"CNP0000650\"])\n",
    "# adata_sc_subset = combine_adata[combine_adata.obs.dataset.isin(['GSE151530','GSE140228','CNP0000650'])]"
   ]
  },
  {
   "cell_type": "code",
   "execution_count": null,
   "metadata": {},
   "outputs": [],
   "source": [
    "import scanpy.external as sce\n",
    "\n",
    "\n",
    "adata_sc_subset = adata_sc_subset[:, list_of_variable_names]\n",
    "sc.tl.pca(adata_sc_subset, n_comps=29)\n",
    "sc.pl.pca_variance_ratio(adata_sc_subset, log=False)\n",
    "\n",
    "h_pcs = 29\n",
    "sc.tl.pca(adata_sc_subset, n_comps=h_pcs)\n",
    "print(adata_sc_subset)\n",
    "\n",
    "sce.pp.harmony_integrate(adata_sc_subset, \"dataset\",\n",
    "                         \"X_pca\", \"X_pca_harmony\", max_iter_harmony=30)\n",
    "neighbor = 50\n",
    "sc.pp.neighbors(adata_sc_subset, n_neighbors=neighbor, use_rep=\"X_pca_harmony\")\n",
    "sc.tl.umap(adata_sc_subset)"
   ]
  },
  {
   "cell_type": "code",
   "execution_count": null,
   "metadata": {},
   "outputs": [],
   "source": [
    "leiden_resolution=1\n",
    "sc.tl.leiden(adata_sc_subset, resolution=leiden_resolution)"
   ]
  },
  {
   "cell_type": "code",
   "execution_count": null,
   "metadata": {},
   "outputs": [],
   "source": [
    "UMAP_genes_plot(adata=adata_sc_subset, size=1, save=False, out_path=cell_typ_dir)\n",
    "UMAP_obs_plot(adata=adata_sc_subset, color='leiden', save=False, out_path=cell_typ_dir, datasets=['GSE151530','GSE140228','CNP0000650'])\n",
    "sc.pl.dotplot(adata_sc_subset, var_names=adata_sc_subset.var.index, groupby='leiden')"
   ]
  },
  {
   "cell_type": "markdown",
   "metadata": {},
   "source": [
    "## calculate of coor matrix"
   ]
  },
  {
   "cell_type": "code",
   "execution_count": null,
   "metadata": {},
   "outputs": [],
   "source": [
    "combine_adata_st = sc.read_h5ad(r'e:\\TMC\\cell_typing\\results\\2023.9.28-_PRISM_HCC_final_downstream_analysis\\2023.10.3_20layers_corr&neighbor_enrichment\\adata_neighborhood_enrichment.h5ad')\n",
    "adata_sc_subset = sc.read_h5ad(r'E:\\TMC\\cell_typing\\results\\2023.8.21-_PRISM_HCC_one_layer\\2023.10.12_leiden_final_typed\\adata_sc_subset_retyped.h5ad')\n",
    "adata = sc.read_h5ad(r'E:\\TMC\\cell_typing\\results\\2023.9.19-9.22_PRISM_HCC_20_layers_min_counts=7, max_counts=200, min_genes=2\\direct\\adata_temp.h5ad')"
   ]
  },
  {
   "cell_type": "code",
   "execution_count": null,
   "metadata": {},
   "outputs": [],
   "source": [
    "adata_sc_subset = sc.read_h5ad(r'E:\\TMC\\cell_typing\\results\\2023.8.21-_PRISM_HCC_one_layer\\2023.10.12_leiden_final_typed\\adata_sc_subset_res=4,retyped_by_zch.h5ad')"
   ]
  },
  {
   "cell_type": "code",
   "execution_count": null,
   "metadata": {},
   "outputs": [],
   "source": [
    "cluster_of_intere = list(cluster_rough_dict.keys())\n",
    "raw_data_matrix, sc_data_matrix, corr_matrix = matrix_for_heatmap(\n",
    "    combine_adata_st, \n",
    "    adata_sc_subset, \n",
    "    combine_adata_st, \n",
    "    obs_1=\"type\", \n",
    "    obs_2=\"type\", \n",
    "    cluster_of_intere=cluster_of_intere, \n",
    "    sc_cluster_of_intere=cluster_of_intere, \n",
    "    save=False, \n",
    "    whole=False\n",
    "    )"
   ]
  },
  {
   "cell_type": "markdown",
   "metadata": {},
   "source": [
    "## plot heatmaps"
   ]
  },
  {
   "cell_type": "markdown",
   "metadata": {},
   "source": [
    "### exp data"
   ]
  },
  {
   "cell_type": "code",
   "execution_count": null,
   "metadata": {},
   "outputs": [],
   "source": [
    "raw_plot = raw_data_matrix.copy()\n",
    "for i in range(raw_plot.shape[1]):\n",
    "    raw_plot[:, i] = raw_plot[:, i] / np.linalg.norm(raw_plot[:, i])\n",
    "# for i in range(raw_plot.shape[0]):\n",
    "#     raw_plot[i, :] = raw_plot[i, :] / np.linalg.norm(raw_plot[i, :])\n",
    "\n",
    "plt.figure(figsize=(raw_plot.shape[1], raw_plot.shape[0]))\n",
    "sns.heatmap(\n",
    "    raw_plot,\n",
    "    cmap=\"coolwarm\",\n",
    "    annot=True,\n",
    "    xticklabels=list(adata.var_names),\n",
    "    # yticklabels=ystick,\n",
    "    # vmax=2, vmin=-0.5,\n",
    ")\n",
    "plt.title(f\"PRISM_raw_cluster_gene_mean_expression_heatmap\")\n",
    "# np.savetxt(f\"{cell_typ_dir}/PRISM_raw_cluster_gene_mean_expression_heatmap.csv\", raw_plot,delimiter=\",\")\n",
    "# plt.savefig(f\"{cell_typ_dir}/PRISM_raw_cluster_gene_mean_expression_heatmap.pdf\")\n",
    "plt.show()"
   ]
  },
  {
   "cell_type": "markdown",
   "metadata": {},
   "source": [
    "### sc data"
   ]
  },
  {
   "cell_type": "code",
   "execution_count": null,
   "metadata": {},
   "outputs": [],
   "source": [
    "sc_plot = sc_data_matrix.copy()\n",
    "for i in range(sc_plot.shape[0]):\n",
    "    sc_plot[i, :] = sc_plot[i, :] / np.linalg.norm(sc_plot[i, :])\n",
    "\n",
    "# for i in range(sc_plot.shape[1]):\n",
    "#     sc_plot[:, i] = sc_plot[:, i] / np.linalg.norm(sc_plot[:, i])\n",
    "\n",
    "plt.figure(figsize=(sc_plot.shape[1], sc_plot.shape[0]))\n",
    "sns.heatmap(\n",
    "    sc_plot,\n",
    "    cmap=\"coolwarm\",\n",
    "    annot=True,\n",
    "    # yticklabels=sc_clus_dict.keys(),\n",
    "    xticklabels=list(adata_sc_subset.var_names),\n",
    ")\n",
    "plt.title(f\"PRISM_sc_cluster_gene_mean_expression_heatmap\")\n",
    "\n",
    "np.savetxt(cell_typ_dir/\"PRISM_sc_cluster_gene_mean_expression_heatmap.csv\", sc_plot, delimiter=\",\")\n",
    "plt.savefig(cell_typ_dir/\"PRISM_sc_cluster_gene_mean_expression_heatmap.pdf\")\n",
    "plt.show()"
   ]
  },
  {
   "cell_type": "markdown",
   "metadata": {},
   "source": [
    "### exp_data vs. sc_data"
   ]
  },
  {
   "cell_type": "code",
   "execution_count": null,
   "metadata": {},
   "outputs": [],
   "source": [
    "# map_plot of raw vs. sc cluster\n",
    "map_plot = pd.DataFrame(corr_matrix, columns=cluster_of_intere, index=cluster_of_intere)\n",
    "df = map_plot.copy()\n",
    "# all_nan_columns = df.columns[df.isna().all()].tolist()\n",
    "# all_nan_rows = df.index[df.isna().all(axis=1)].tolist()\n",
    "# union_set = set(all_nan_columns).union(all_nan_rows)\n",
    "# df = df.drop(union_set, axis=0)\n",
    "# df = df.drop(union_set, axis=1)\n",
    "\n",
    "\n",
    "plt.figure(figsize=(24, 18))\n",
    "heatmap = sns.heatmap(\n",
    "    df,\n",
    "    cmap=\"coolwarm\",\n",
    "    annot=True,\n",
    "    # yticklabels=cluster_of_intere,\n",
    "    # xticklabels=cluster_of_intere,\n",
    "    # vmin=0,\n",
    "    # vmax=0.6,\n",
    ")\n",
    "# plt.show()\n",
    "df = pd.DataFrame(map_plot, columns=cluster_of_intere, index=cluster_of_intere)\n",
    "df.to_csv(r'E:\\TMC\\cell_typing\\results\\2023.9.28-_PRISM_HCC_final_downstream_analysis\\figures\\5_vs_subtype_heatmap_sc_retyped_by_zch_dropna_reordered.csv')\n",
    "plt.savefig(r'E:\\TMC\\cell_typing\\results\\2023.9.28-_PRISM_HCC_final_downstream_analysis\\figures\\5_vs_subtype_heatmap_sc_retyped_by_zch_dropna_reordered.pdf', bbox_inches = 'tight')"
   ]
  }
 ],
 "metadata": {
  "kernelspec": {
   "display_name": "cell-segmentation-typing",
   "language": "python",
   "name": "python3"
  },
  "language_info": {
   "codemirror_mode": {
    "name": "ipython",
    "version": 3
   },
   "file_extension": ".py",
   "mimetype": "text/x-python",
   "name": "python",
   "nbconvert_exporter": "python",
   "pygments_lexer": "ipython3",
   "version": "3.8.17"
  }
 },
 "nbformat": 4,
 "nbformat_minor": 4
}
