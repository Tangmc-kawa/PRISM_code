{
 "cells": [
  {
   "cell_type": "code",
   "execution_count": null,
   "metadata": {},
   "outputs": [],
   "source": [
    "import os \n",
    "from pathlib import Path\n",
    "import numpy as np\n",
    "import pandas as pd\n",
    "from tqdm import tqdm\n",
    "import matplotlib.pyplot as plt\n",
    "import seaborn as sns"
   ]
  },
  {
   "cell_type": "markdown",
   "metadata": {},
   "source": [
    "## load files and preprocess"
   ]
  },
  {
   "cell_type": "code",
   "execution_count": null,
   "metadata": {},
   "outputs": [],
   "source": [
    "BASE_DIR = Path('/PRISM_code/dataset/processed')\n",
    "RUN_ID = '_example_dataset'\n",
    "src_dir = BASE_DIR / f'{RUN_ID}_processed'\n",
    "stc_dir = src_dir / 'stitched'\n",
    "read_dir = src_dir / 'readout'\n",
    "seg_dir = src_dir / 'segmented'\n",
    "cell_typ_dir = src_dir / \"analysis_celltyping\"\n",
    "spatial_dir = src_dir / 'analysis_spatial'\n",
    "subcel_dir = src_dir / 'analysis_subcellular'\n",
    "os.makedirs(subcel_dir, exist_ok=True)"
   ]
  },
  {
   "cell_type": "code",
   "execution_count": null,
   "metadata": {},
   "outputs": [],
   "source": [
    "rna_df = pd.read_csv(read_dir/'mapped_genes_processed')\n",
    "gene_order_list = sorted(rna_df['Gene'].unique())\n",
    "\n",
    "# read cell centroid\n",
    "centroids = pd.read_csv(stc_dir/'dapi_predict.csv', index_col=0).to_numpy(dtype=np.float64)\n",
    "centroids[:,0] *= 3.36\n",
    "centroids[:,1] *= 1\n",
    "centroids[:,2] *= 1\n",
    "print(f'centroid_num:\\t{len(centroids)}')"
   ]
  },
  {
   "cell_type": "markdown",
   "metadata": {},
   "source": [
    "# cell info "
   ]
  },
  {
   "cell_type": "markdown",
   "metadata": {},
   "source": [
    "## cell_info: centroid"
   ]
  },
  {
   "cell_type": "code",
   "execution_count": null,
   "metadata": {},
   "outputs": [],
   "source": [
    "cell_info_dict = dict()\n",
    "cell_info_dict['Cell Index'] = []\n",
    "# cell_info_dict['ce_z_in_pix'] = []\n",
    "cell_info_dict['ce_x_in_pix'] = []\n",
    "cell_info_dict['ce_y_in_pix'] = []\n",
    "\n",
    "for index in rna_df['Cell Index'].unique():\n",
    "    z, x, y = centroids[index]\n",
    "    cell_info_dict['Cell Index'].append(int(index))\n",
    "    # cell_info_dict['ce_z_in_pix'].append(z)\n",
    "    cell_info_dict['ce_x_in_pix'].append(x)\n",
    "    cell_info_dict['ce_y_in_pix'].append(y)\n",
    "\n",
    "cell_info = pd.DataFrame(cell_info_dict)\n",
    "cell_info = cell_info.sort_values(by='Cell Index')\n",
    "cell_info = cell_info.set_index('Cell Index')"
   ]
  },
  {
   "cell_type": "markdown",
   "metadata": {},
   "source": [
    "## cell_info: cell type"
   ]
  },
  {
   "cell_type": "code",
   "execution_count": null,
   "metadata": {},
   "outputs": [],
   "source": [
    "import scanpy as sc\n",
    "\n",
    "adata = sc.read_h5ad(cell_typ_dir/'adata.h5ad')\n",
    "indices = [int(_) for _ in adata.obs.index]\n",
    "adata.obs.index = [_ - min(indices) for _ in indices]\n",
    "cell_info['type'] = adata.obs.type\n",
    "cell_info['subtype'] = adata.obs.subtype"
   ]
  },
  {
   "cell_type": "code",
   "execution_count": null,
   "metadata": {},
   "outputs": [],
   "source": [
    "cell_info = cell_info.loc[cell_info['type'].dropna().index]\n",
    "# cell_info = cell_info[cell_info['type']!='other']"
   ]
  },
  {
   "cell_type": "code",
   "execution_count": null,
   "metadata": {},
   "outputs": [],
   "source": [
    "cell_info.to_csv(cell_typ_dir/'cell_info.csv')"
   ]
  },
  {
   "cell_type": "markdown",
   "metadata": {},
   "source": [
    "## rna_info: in nucleus"
   ]
  },
  {
   "cell_type": "code",
   "execution_count": null,
   "metadata": {},
   "outputs": [],
   "source": [
    "import tifffile\n",
    "\n",
    "\n",
    "with tifffile.TiffFile(seg_dir/'dapi_predict.tif') as tif:\n",
    "    dapi_predict = tif.asarray()\n",
    "\n",
    "rna_df['in_nu'] = [False] * len(rna_df)\n",
    "for index in tqdm(rna_df.index):\n",
    "    tmp = rna_df[rna_df['Cell Index']==index].copy()\n",
    "    # tmp['z_in_pix'] /= 3.36\n",
    "\n",
    "    # positions = tmp[['z_in_pix','x_in_pix','y_in_pix']].values\n",
    "    positions = tmp[['x_in_pix','y_in_pix']].values\n",
    "    positions = np.uint16(positions)\n",
    "\n",
    "    results = []\n",
    "    for pos in positions:\n",
    "        z, y, x = pos\n",
    "        if z < dapi_predict.shape[0] and y < dapi_predict.shape[1] and x < dapi_predict.shape[2]:\n",
    "            # results.append(bool(dapi_predict[z, y, x]))\n",
    "            results.append(bool(dapi_predict[y, x]))\n",
    "        else:\n",
    "            results.append(None)  # Position out of bounds\n",
    "\n",
    "    rna_df['in_nu'].loc[tmp.index] = results"
   ]
  },
  {
   "cell_type": "markdown",
   "metadata": {},
   "source": [
    "## cell_info: in nucleus ratio"
   ]
  },
  {
   "cell_type": "code",
   "execution_count": null,
   "metadata": {},
   "outputs": [],
   "source": [
    "cell_info['in_nu'] = [0] * len(cell_info)\n",
    "for index in tqdm(cell_info.index):\n",
    "    centroid = centroids[index]\n",
    "    tmp_rnas = rna_df[rna_df['Cell Index']==index]\n",
    "    cell_info.loc[index, 'in_nu'] = len(tmp_rnas[tmp_rnas['in_nu']==True]) / len(tmp_rnas)"
   ]
  },
  {
   "cell_type": "markdown",
   "metadata": {},
   "source": [
    "## cell_info: polar"
   ]
  },
  {
   "cell_type": "code",
   "execution_count": null,
   "metadata": {},
   "outputs": [],
   "source": [
    "from scipy.spatial.distance import euclidean\n",
    "\n",
    "\n",
    "cell_info['polar'] = [0] * len(cell_info)\n",
    "for index in tqdm(cell_info.index):\n",
    "    centroid = centroids[index]\n",
    "    tmp_rnas = rna_df[rna_df['Cell Index']==index]\n",
    "    # cell_info.loc[index, 'polar'] = euclidean(centroid, np.mean(tmp_rnas[['z_in_pix','x_in_pix','y_in_pix']].values, axis=0))\n",
    "    cell_info.loc[index, 'polar'] = euclidean(centroid, np.mean(tmp_rnas[['x_in_pix','y_in_pix']].values, axis=0))"
   ]
  },
  {
   "cell_type": "markdown",
   "metadata": {},
   "source": [
    "## cell_info: average rna length and diameter of cells"
   ]
  },
  {
   "cell_type": "code",
   "execution_count": null,
   "metadata": {},
   "outputs": [],
   "source": [
    "from scipy.spatial import ConvexHull\n",
    "\n",
    "\n",
    "def cal_average_length(rnas, centroid):\n",
    "    distance = np.sqrt(np.diag((rnas - centroid) @ (rnas - centroid).T))\n",
    "    # print(distance)\n",
    "    mean_dis = np.mean(distance)\n",
    "    return mean_dis\n",
    "\n",
    "\n",
    "def calculate_diameter(points):\n",
    "    # Compute the convex hull\n",
    "    hull = ConvexHull(points)\n",
    "\n",
    "    # Extract the points forming the convex hull\n",
    "    hull_points = points[hull.vertices]\n",
    "\n",
    "    # Calculate the diameter (max distance between any two points in the hull)\n",
    "    diameter = max(np.linalg.norm(p1 - p2) for p1 in hull_points for p2 in hull_points)\n",
    "    return diameter\n",
    "    \n",
    "dis = []\n",
    "cell_radius = []\n",
    "\n",
    "\n",
    "for index in tqdm(cell_info.index, desc='average rna dis'):\n",
    "    tmp = rna_df[rna_df['Cell Index']==index]\n",
    "    if len(tmp) < 5:\n",
    "        dis.append(None)\n",
    "        cell_radius.append(None)\n",
    "        continue\n",
    "    else:\n",
    "        try:\n",
    "            # rnas = tmp[['z_in_pix','x_in_pix','y_in_pix']].values\n",
    "            rnas = tmp[['x_in_pix','y_in_pix']].values\n",
    "            centroid = centroids[index]\n",
    "            cell_radius.append(calculate_diameter(rnas)/2,)\n",
    "            dis.append(cal_average_length(rnas, centroid))\n",
    "            \n",
    "        except: \n",
    "            dis.append(None)\n",
    "            cell_radius.append(None)\n",
    "            continue\n",
    "\n",
    "cell_info['rna_ave_dis'] = dis\n",
    "cell_info['cell_radius'] = cell_radius"
   ]
  },
  {
   "cell_type": "markdown",
   "metadata": {},
   "source": [
    "## cell_info: cell size"
   ]
  },
  {
   "cell_type": "code",
   "execution_count": null,
   "metadata": {},
   "outputs": [],
   "source": [
    "import tifffile\n",
    "from tqdm import tqdm\n",
    "import warnings\n",
    "# Suppress all warnings\n",
    "warnings.filterwarnings('ignore')\n",
    "\n",
    "\n",
    "def extract_subarray_around_centroid(array, centroid, diffusion_distance=200):\n",
    "    \"\"\"\n",
    "    Extract a sub-array from a 3D array centered around a given centroid.\n",
    "    :param array: 3D numpy array.\n",
    "    :param centroid: Tuple (x, y, z) representing the centroid.\n",
    "    :param diffusion_distance: Distance to diffuse from the centroid in every direction.\n",
    "    :return: Sub-array centered around the centroid.\n",
    "    \"\"\"\n",
    "    z, x, y = centroid\n",
    "    z_min, z_max = max(z - diffusion_distance, 0), min(z + diffusion_distance, array.shape[0])\n",
    "    x_min, x_max = max(x - diffusion_distance, 0), min(x + diffusion_distance, array.shape[1])\n",
    "    y_min, y_max = max(y - diffusion_distance, 0), min(y + diffusion_distance, array.shape[2])\n",
    "    \n",
    "    return array[z_min: z_max, x_min: x_max, y_min: y_max], (z - z_min, x - x_min, y - y_min)\n",
    "\n",
    "\n",
    "def find_volume(array, centroid, target_label_mannual):\n",
    "    z, x, y = centroid\n",
    "    target_label = array[z, x, y]\n",
    "    out = False\n",
    "    if target_label == 0:\n",
    "        out=True\n",
    "        target_label = target_label_mannual\n",
    "\n",
    "    tmp_label, centroid = extract_subarray_around_centroid(array, centroid)\n",
    "    volume = np.sum(tmp_label == target_label)\n",
    "    return volume, out"
   ]
  },
  {
   "cell_type": "code",
   "execution_count": null,
   "metadata": {},
   "outputs": [],
   "source": [
    "# Load the image\n",
    "cell_convex = tifffile.imread(seg_dir/'cell_convex.tif')"
   ]
  },
  {
   "cell_type": "code",
   "execution_count": null,
   "metadata": {},
   "outputs": [],
   "source": [
    "cell_info['cell_volume'] = [np.nan] * len(cell_info)\n",
    "attention = []\n",
    "empty = []\n",
    "for index in tqdm(cell_info.index, desc='Convex volume'):\n",
    "    tmp = cell_info.loc[index]\n",
    "    tmp['ce_z_in_pix'] /= 3.36\n",
    "    centroid = [int(_) for _ in tmp[['ce_z_in_pix','ce_x_in_pix','ce_y_in_pix']].values]\n",
    "    \n",
    "    # Calculate the volume\n",
    "    volume, out = find_volume(cell_convex, centroid, target_label_mannual = index+1)\n",
    "    cell_info['cell_volume'].loc[index] = volume * 3.36\n",
    "    if out:\n",
    "        attention.append(index)\n",
    "    if volume == 0:\n",
    "        empty.append(index)"
   ]
  },
  {
   "cell_type": "markdown",
   "metadata": {},
   "source": [
    "## cell_info: nucleus size"
   ]
  },
  {
   "cell_type": "code",
   "execution_count": null,
   "metadata": {},
   "outputs": [],
   "source": [
    "import tifffile\n",
    "from tqdm import tqdm\n",
    "import warnings\n",
    "# Suppress all warnings\n",
    "warnings.filterwarnings('ignore')\n",
    "\n",
    "\n",
    "def extract_subarray_around_centroid(array, centroid, diffusion_distance=100):\n",
    "    \"\"\"\n",
    "    Extract a sub-array from a 3D array centered around a given centroid.\n",
    "    :param array: 3D numpy array.\n",
    "    :param centroid: Tuple (x, y, z) representing the centroid.\n",
    "    :param diffusion_distance: Distance to diffuse from the centroid in every direction.\n",
    "    :return: Sub-array centered around the centroid.\n",
    "    \"\"\"\n",
    "    z, x, y = centroid\n",
    "    z_min, z_max = max(z - diffusion_distance, 0), min(z + diffusion_distance, array.shape[0])\n",
    "    x_min, x_max = max(x - diffusion_distance, 0), min(x + diffusion_distance, array.shape[1])\n",
    "    y_min, y_max = max(y - diffusion_distance, 0), min(y + diffusion_distance, array.shape[2])\n",
    "    \n",
    "    return array[z_min: z_max, x_min: x_max, y_min: y_max], (z - z_min, x - x_min, y - y_min)\n",
    "\n",
    "\n",
    "def find_volume(array, centroid):\n",
    "    z, x, y = centroid\n",
    "    target_label = array[z, x, y]\n",
    "\n",
    "    if target_label == 0:\n",
    "        return np.nan\n",
    "    else:\n",
    "        tmp_label, centroid = extract_subarray_around_centroid(array, centroid)\n",
    "        volume = np.sum(tmp_label == target_label)\n",
    "        return volume"
   ]
  },
  {
   "cell_type": "code",
   "execution_count": null,
   "metadata": {},
   "outputs": [],
   "source": [
    "# Load the image\n",
    "dapi_predict = tifffile.imread(seg_dir/'dapi_predict.tif')"
   ]
  },
  {
   "cell_type": "code",
   "execution_count": null,
   "metadata": {},
   "outputs": [],
   "source": [
    "cell_info['nu_volume'] = [np.nan] * len(cell_info)\n",
    "for index in tqdm(cell_info.index, desc='Nucleus volume'):\n",
    "    tmp = cell_info.loc[index]\n",
    "    tmp['ce_z_in_pix'] /= 3.36\n",
    "    centroid = [int(_) for _ in tmp[['ce_z_in_pix','ce_x_in_pix','ce_y_in_pix']].values]\n",
    "    \n",
    "    # Calculate the volume\n",
    "    cell_info['nu_volume'].loc[index] = find_volume(dapi_predict, centroid) * 3.36"
   ]
  },
  {
   "cell_type": "markdown",
   "metadata": {},
   "source": [
    "## overview of key parameters"
   ]
  },
  {
   "cell_type": "code",
   "execution_count": null,
   "metadata": {},
   "outputs": [],
   "source": [
    "plt.figure(figsize=(10, 5))\n",
    "sns.histplot(cell_info['rna_ave_dis'], bins=100, alpha=0.3, kde=True, edgecolor=None)\n",
    "sns.histplot(cell_info['cell_radius'], bins=100, alpha=0.3, kde=True, edgecolor=None)\n",
    "# sns.histplot([np.cbrt((3 * volume) / (4 * np.pi)) for volume in cell_info['cell_volume']], bins=100, alpha=0.3, kde=True, edgecolor=None)\n",
    "sns.histplot([np.cbrt((3 * volume) / (4 * np.pi)) for volume in cell_info['nu_volume']], bins=100, alpha=0.3, kde=True, edgecolor=None)\n",
    "plt.legend(['rna_ave_dis', 'cell_radius', 'nu_radius_by_sphere',])\n",
    "plt.title(src_dir.split('/')[-1])\n",
    "plt.xlabel('pixel')\n",
    "plt.savefig(subcel_dir/'overview_of_key_parameters.png', bbox_inches = 'tight')"
   ]
  },
  {
   "cell_type": "markdown",
   "metadata": {},
   "source": [
    "## save info"
   ]
  },
  {
   "cell_type": "code",
   "execution_count": null,
   "metadata": {},
   "outputs": [],
   "source": [
    "rna_df.to_csv(read_dir/'mapped_genes_processed.csv')\n",
    "cell_info.to_csv(cell_typ_dir/'cell_info.csv')"
   ]
  },
  {
   "cell_type": "markdown",
   "metadata": {},
   "source": [
    "# gene/cell type specific analysis"
   ]
  },
  {
   "cell_type": "code",
   "execution_count": null,
   "metadata": {},
   "outputs": [],
   "source": [
    "rna_df = pd.read_csv(read_dir/'mapped_genes_processed.csv', index_col=0)\n",
    "cell_info = pd.read_csv(read_dir/'cell_info.csv', index_col=0)"
   ]
  },
  {
   "cell_type": "code",
   "execution_count": null,
   "metadata": {},
   "outputs": [],
   "source": [
    "# CTX\n",
    "type_of_interest = [ \n",
    "    'Ex-L2/3',\n",
    "    'Ex-L4',\n",
    "    'Ex-L5',\n",
    "    'Ex-L6a',\n",
    "    'Ex-L6b',\n",
    "\n",
    "    'In-Vip', \n",
    "    'In-Sst',\n",
    "    'In-Pvalb', \n",
    "\n",
    "    'Astrocyte', \n",
    "    'Microglia', \n",
    "    'Oligodendrocyte', \n",
    "    ]"
   ]
  },
  {
   "cell_type": "code",
   "execution_count": null,
   "metadata": {},
   "outputs": [],
   "source": [
    "# HT\n",
    "type_of_interest = [\n",
    "    \"Ex-1\",\n",
    "    \"Ex-2-Rorb\",\n",
    "    \"In-Sst\",\n",
    "    \"In-Pvalb\",\n",
    "    \"Astrocyte\",\n",
    "    \"Microglia\",\n",
    "    \"Oligodendrocyte\",\n",
    "    \"Pmch+\",\n",
    "]"
   ]
  },
  {
   "cell_type": "code",
   "execution_count": null,
   "metadata": {},
   "outputs": [],
   "source": [
    "# HP\n",
    "type_of_interest = [\n",
    "    \"Ex-1\",\n",
    "    \"Ex-2-CA3\",\n",
    "    \"Ex-3-CA1\",\n",
    "    \"Ex-4-DG\",\n",
    "    \"Ex-5-thalamus\",\n",
    "    \"Ex-6-MH\",\n",
    "    \"In-Pvalb\",\n",
    "    \"In-Sst\",\n",
    "    \"Astrocyte\",\n",
    "    \"Microglia\",\n",
    "    \"Oligodendrocyte\",\n",
    "]"
   ]
  },
  {
   "cell_type": "code",
   "execution_count": null,
   "metadata": {},
   "outputs": [],
   "source": [
    "# TH\n",
    "type_of_interest = [\n",
    "    \"Ex\",\n",
    "\n",
    "    \"In-Pvalb\",\n",
    "    \"In-Sst\",\n",
    "    \"In-Vip\",\n",
    "\n",
    "    \"Astrocyte\",\n",
    "    \"Microglia\",\n",
    "    \"Oligodendrocyte\",\n",
    "]"
   ]
  },
  {
   "cell_type": "markdown",
   "metadata": {},
   "source": [
    "## statistic analysis"
   ]
  },
  {
   "cell_type": "code",
   "execution_count": null,
   "metadata": {},
   "outputs": [],
   "source": [
    "from scipy.spatial.distance import euclidean\n",
    "\n",
    "\n",
    "cell_thre = 5\n",
    "rna_thre = 5\n",
    "\n",
    "mrna_dis = dict()\n",
    "mrna_dis_ratio = dict()\n",
    "mrna_in_nu_fraction = dict()\n",
    "mrna_polar = dict()\n",
    "\n",
    "valid_index = []\n",
    "\n",
    "for cell_type in tqdm(type_of_interest):\n",
    "    tmp_cell = cell_info[cell_info['type']==cell_type]\n",
    "\n",
    "    dis = []\n",
    "    dis_ratio = []\n",
    "    in_nu_fraction = []\n",
    "    tmp_index = []\n",
    "    polar = []\n",
    "\n",
    "    for gene in gene_order_list:\n",
    "        tmp = rna_df[rna_df['Gene'] == gene]\n",
    "        \n",
    "        dis_one_cell = []\n",
    "        dis_ratio_one_cell = []\n",
    "        in_nu_fractio_one_cell = []\n",
    "        polar_one_cell = []\n",
    "\n",
    "        for index in tmp_cell.index:\n",
    "            centroid = tmp_cell[['ce_z_in_pix','ce_x_in_pix','ce_y_in_pix']].loc[index].values\n",
    "            cell_radius = tmp_cell['cell_radius'].loc[index]\n",
    "            tmp_rnas = tmp[tmp['Cell Index']==index]\n",
    "            \n",
    "            if len(tmp_rnas) < rna_thre:\n",
    "                continue\n",
    "            else:\n",
    "                tmp_index.append(index)\n",
    "                dis_rna = [euclidean(centroid, point) for point in tmp_rnas[['z_in_pix','x_in_pix','y_in_pix']].values]\n",
    "                dis_one_cell.append(np.mean(dis_rna))\n",
    "                dis_ratio_one_cell.append(np.mean(dis_rna) / cell_radius)\n",
    "                in_nu_fractio_one_cell.append(len(tmp_rnas[tmp_rnas['in_nu']==True]) / len(tmp_rnas))\n",
    "                polar_one_cell.append(euclidean(centroid, np.mean(tmp_rnas[['z_in_pix','x_in_pix','y_in_pix']].values, axis=0)))\n",
    "\n",
    "        if len(dis_one_cell) < cell_thre:\n",
    "            dis.append(np.nan)\n",
    "            dis_ratio.append(np.nan) \n",
    "            in_nu_fraction.append(np.nan)\n",
    "            polar.append(np.nan)\n",
    "            \n",
    "        else:\n",
    "            valid_index += tmp_index\n",
    "            dis.append(np.mean(dis_one_cell))\n",
    "            dis_ratio.append(np.mean(dis_ratio_one_cell))\n",
    "            in_nu_fraction.append(np.mean(in_nu_fractio_one_cell))\n",
    "            polar.append(np.mean(polar_one_cell))\n",
    "            \n",
    "\n",
    "    mrna_dis[cell_type] = dis\n",
    "    mrna_dis_ratio[cell_type] = dis_ratio\n",
    "    mrna_in_nu_fraction[cell_type] = in_nu_fraction\n",
    "    mrna_polar[cell_type] = polar\n",
    "\n",
    "valid_index = sorted(list(set(valid_index)))"
   ]
  },
  {
   "cell_type": "markdown",
   "metadata": {},
   "source": [
    "### visulization: heatmap"
   ]
  },
  {
   "cell_type": "code",
   "execution_count": null,
   "metadata": {},
   "outputs": [],
   "source": [
    "fig, ax = plt.subplots(nrows=3, figsize=(12,12))\n",
    "in_nu_for_heat = pd.DataFrame(mrna_in_nu_fraction)\n",
    "in_nu_for_heat.index = gene_order_list\n",
    "# in_nu_for_heat = in_nu_for_heat.loc[gene_list]\n",
    "sns.heatmap(in_nu_for_heat.T, ax=ax[0], cmap='coolwarm')\n",
    "ax[0].set_title('In nucleus rna ratio of type and gene')\n",
    "\n",
    "# mrna_dis_ratio_for_heat = pd.DataFrame(mrna_dis_ratio)\n",
    "# mrna_dis_ratio_for_heat.index = rna_df['Gene'].unique()\n",
    "# sns.heatmap(mrna_dis_ratio_for_heat.T, ax=ax[1], cmap='coolwarm')\n",
    "# ax[1].set_title('rna_mean_distance/cell_radius of type and gene')\n",
    "\n",
    "mrna_dis_for_heat = pd.DataFrame(mrna_dis)\n",
    "mrna_dis_for_heat.index = gene_order_list\n",
    "# mrna_dis_for_heat = mrna_dis_for_heat.loc[gene_list]\n",
    "sns.heatmap(mrna_dis_for_heat.T, ax=ax[1], cmap='coolwarm')\n",
    "ax[1].set_title('rna mean distance of type and gene')\n",
    "\n",
    "mrna_polar_for_heat = pd.DataFrame(mrna_polar)\n",
    "mrna_polar_for_heat.index = gene_order_list\n",
    "# mrna_polar_for_heat = mrna_polar_for_heat.loc[gene_list]\n",
    "sns.heatmap(mrna_polar_for_heat.T, ax=ax[2], cmap='coolwarm')\n",
    "ax[2].set_title('rna polar of type and gene')\n",
    "\n",
    "plt.tight_layout()\n",
    "plt.show()"
   ]
  },
  {
   "cell_type": "markdown",
   "metadata": {},
   "source": [
    "### visualization: histplot"
   ]
  },
  {
   "cell_type": "code",
   "execution_count": null,
   "metadata": {},
   "outputs": [],
   "source": [
    "bins = 50\n",
    "fig, ax = plt.subplots(ncols=3, nrows=1, figsize=(20,4))\n",
    "ax[0].hist(cell_info['rna_ave_dis'], bins=bins)\n",
    "ax[0].set_title('rna_ave_dis')\n",
    "ax[1].hist(cell_info['polar'], bins=bins)\n",
    "ax[1].set_title('polar')\n",
    "ax[2].hist(cell_info['in_nu'], bins=bins)\n",
    "ax[2].set_title('in_nu')"
   ]
  },
  {
   "cell_type": "markdown",
   "metadata": {},
   "source": [
    "## Single cell projection "
   ]
  },
  {
   "cell_type": "code",
   "execution_count": null,
   "metadata": {},
   "outputs": [],
   "source": [
    "cell_info = pd.read_csv(cell_typ_dir/'cell_Info.csv', index_col=0)\n",
    "rna_df = pd.read_csv(read_dir/'mapped_genes_processed.csv', index_col=0)"
   ]
  },
  {
   "cell_type": "code",
   "execution_count": null,
   "metadata": {},
   "outputs": [],
   "source": [
    "import tifffile\n",
    "\n",
    "with tifffile.TiffFile(seg_dir/'dapi_predict.tif') as tif:\n",
    "    dapi_predict = np.sign(tif.asarray()).astype(np.uint8)\n",
    "with tifffile.TiffFile(seg_dir/'cell_convex.tif') as tif:\n",
    "    cell_convex = np.sign(tif.asarray()).astype(np.uint8)"
   ]
  },
  {
   "cell_type": "code",
   "execution_count": null,
   "metadata": {},
   "outputs": [],
   "source": [
    "type_of_interest = [line.strip() for line in open(cell_typ_dir/'annotated_subtype.txt', 'r')]\n",
    "cell_info['subtype'] = pd.Categorical(cell_info['subtype'], categories=type_of_interest, ordered=True)"
   ]
  },
  {
   "cell_type": "code",
   "execution_count": null,
   "metadata": {},
   "outputs": [],
   "source": [
    "from scipy.ndimage import zoom\n",
    "import warnings\n",
    "warnings.filterwarnings(\"ignore\", category=UserWarning, module=\"tifffile\")\n",
    "\n",
    "\n",
    "# valid_cells = cell_info.loc[valid_index]\n",
    "valid_cells = cell_info.copy()\n",
    "for _, tmp_cell_type in enumerate(type_of_interest):\n",
    "    out_path = subcel_dir/'single_cell_projection_in_out'/f'{_+1}_{tmp_cell_type}'\n",
    "    os.makedirs(out_path, exist_ok=True)\n",
    "    for index in tqdm(valid_cells[valid_cells['subtype']==tmp_cell_type].index, desc=tmp_cell_type):\n",
    "        # if len(rna_df[rna_df['Cell Index']==index])<10:\n",
    "        #     continue\n",
    "        centroid = valid_cells[['ce_z_in_pix','ce_x_in_pix','ce_y_in_pix']].loc[index].values\n",
    "        cell_rnas = rna_df[rna_df['Cell Index']==index]\n",
    "        min_pos = np.min(cell_rnas[['z_in_pix','x_in_pix','y_in_pix']].values, axis=0)\n",
    "        max_pos = np.max(cell_rnas[['z_in_pix','x_in_pix','y_in_pix']].values, axis=0)\n",
    "\n",
    "        shape = max_pos - min_pos + 40\n",
    "        shape=np.uint16(shape)\n",
    "        cell_array = np.zeros(shape=shape, dtype=np.uint8)\n",
    "\n",
    "\n",
    "        nucleus_array = dapi_predict[\n",
    "            int((min_pos[0]-20)//3.36): int((max_pos[0]+20)//3.36), \n",
    "            int(min_pos[1] - 20): int(max_pos[1] + 20), \n",
    "            int(min_pos[2] - 20): int(max_pos[2] + 20)\n",
    "            ].astype(np.uint8)\n",
    "        \n",
    "        convex_array = cell_convex[\n",
    "            int((min_pos[0]-20)//3.36): int((max_pos[0]+20)//3.36), \n",
    "            int(min_pos[1] - 20): int(max_pos[1] + 20), \n",
    "            int(min_pos[2] - 20): int(max_pos[2] + 20)\n",
    "            ].astype(np.uint8)\n",
    "\n",
    "        zoom_factor = (shape[0] / (int((max_pos[0]+20)//3.36) - int((min_pos[0]-20)//3.36)), 1, 1)\n",
    "        nucleus_array = zoom(nucleus_array, zoom_factor, order=3)\n",
    "        convex_array = zoom(convex_array, zoom_factor, order=3)\n",
    "        \n",
    "        centroid = centroid - min_pos + 20\n",
    "        centroid[0] = int(centroid[0])\n",
    "        centroid = np.uint16(centroid)\n",
    "        \n",
    "        try:\n",
    "            cell_array[centroid[0], centroid[1], centroid[2]] = 50\n",
    "        except:\n",
    "            print(f'cell_{index} centroid out of bound.')\n",
    "            # continue\n",
    "\n",
    "        for _, gene in enumerate(gene_order_list):\n",
    "            gene_rnas = cell_rnas[cell_rnas['Gene'] == gene][['z_in_pix','x_in_pix','y_in_pix']].values\n",
    "            in_nu = cell_rnas[cell_rnas['Gene'] == gene][['in_nu']].values\n",
    "            for pos, in_nu_tmp in zip(gene_rnas, in_nu):\n",
    "                pos = np.uint16(pos-min_pos+20)\n",
    "                if in_nu_tmp[0]:\n",
    "                    cell_array[pos[0], pos[1], pos[2]] = _ + 1\n",
    "                else:\n",
    "                    cell_array[pos[0], pos[1], pos[2]] = _ + 51\n",
    "        \n",
    "        tifffile.imwrite(os.path.join(out_path, f'{index},{len(cell_rnas)},1.tif'), cell_array)\n",
    "        tifffile.imwrite(os.path.join(out_path, f'{index},{len(cell_rnas)},2.tif'), nucleus_array)\n",
    "        tifffile.imwrite(os.path.join(out_path, f'{index},{len(cell_rnas)},3.tif'), convex_array)"
   ]
  },
  {
   "cell_type": "markdown",
   "metadata": {},
   "source": [
    "# In out exp matrix"
   ]
  },
  {
   "cell_type": "code",
   "execution_count": null,
   "metadata": {},
   "outputs": [],
   "source": [
    "workdir = './dataset/0704_CTX'"
   ]
  },
  {
   "cell_type": "code",
   "execution_count": null,
   "metadata": {},
   "outputs": [],
   "source": [
    "rna_df = pd.read_csv(os.path.join(workdir, 'mapped_genes_processed.csv'), index_col=0)\n",
    "cell_info = pd.read_csv(os.path.join(workdir, 'Cell_info.csv'), index_col=0)"
   ]
  },
  {
   "cell_type": "code",
   "execution_count": null,
   "metadata": {},
   "outputs": [],
   "source": [
    "import scanpy as sc\n",
    "\n",
    "\n",
    "def matrix_to_normalize_adata(rna_df, cell_info):\n",
    "    match_df = rna_df.copy()\n",
    "    match_df['Count'] = np.ones(len(match_df))\n",
    "    match_df_group = match_df[['Cell Index','Gene','Count']].groupby(['Cell Index','Gene']).count()\n",
    "    matrix = match_df_group.unstack().fillna(0)\n",
    "    matrix.columns = matrix.columns.droplevel()\n",
    "    matrix = matrix[matrix.index.isin(cell_info.index)]\n",
    "\n",
    "    adata = sc.AnnData(matrix)\n",
    "    adata.obs.index = [int(_) for _ in adata.obs.index]\n",
    "    adata.raw = adata.copy()\n",
    "\n",
    "    sc.pp.calculate_qc_metrics(adata, percent_top=None, inplace=True)\n",
    "    adata.obs.type = cell_info.type.loc[adata.obs.index]\n",
    "\n",
    "    adata.X = adata.raw.X.copy()\n",
    "\n",
    "    # Normalization scaling\n",
    "    sc.pp.normalize_total(adata, target_sum=1e6)\n",
    "    sc.pp.log1p(adata)\n",
    "\n",
    "    # Scale data to unit variance and zero mean\n",
    "    # sc.pp.regress_out(adata, [\"total_counts\"])\n",
    "    # sc.pp.scale(in_adata)\n",
    "    return adata"
   ]
  },
  {
   "cell_type": "code",
   "execution_count": null,
   "metadata": {},
   "outputs": [],
   "source": [
    "in_adata = matrix_to_normalize_adata(rna_df[rna_df['in_nu'] == True], cell_info)\n",
    "ou_adata = matrix_to_normalize_adata(rna_df[rna_df['in_nu'] == False], cell_info)"
   ]
  },
  {
   "cell_type": "code",
   "execution_count": null,
   "metadata": {},
   "outputs": [],
   "source": [
    "import matplotlib.pyplot as plt\n",
    "from scipy import stats\n",
    "\n",
    "\n",
    "def adjust_regress(x, y):\n",
    "    # Perform linear regression\n",
    "    x_adjust = []\n",
    "    y_adjust = []\n",
    "    for i in range(len(x)):\n",
    "        x_tmp = x[i]\n",
    "        y_tmp = y[i]\n",
    "        if 0 < (x_tmp ** 2 + y_tmp ** 2) ** (1/2) < 1005:\n",
    "            x_adjust.append(x_tmp)\n",
    "            y_adjust.append(y_tmp)\n",
    "    x_adjust = np.array(x_adjust)\n",
    "    y_adjust = np.array(y_adjust)\n",
    "    ## without intercept\n",
    "    slope = np.linalg.lstsq(x_adjust[:, np.newaxis], y_adjust, rcond=None)[0][0]\n",
    "    intercept = 0\n",
    "    \n",
    "    # ## with intercept\n",
    "    # slope, intercept, r_value, p_value, std_err = stats.linregress(x_adjust, y_adjust)\n",
    "    # line_x = np.linspace(min(x), max(x), 100)\n",
    "    # line_y = slope * line_x + intercept\n",
    "    return slope, intercept\n",
    "\n",
    "\n",
    "def draw_with_regress(x, y, slope, intercept, categories, cell_type, percentile=80, cmap='plasma', ax=None, show=False, ):\n",
    "    gene_num = len(categories)\n",
    "    # Choose a continuous colormap\n",
    "    cmap = plt.cm.get_cmap(cmap, gene_num)  # Replace 'viridis' with your preferred cmap\n",
    "    # Generate a list of 30 colors from the colormap\n",
    "    colors = cmap(np.linspace(0, 1, gene_num))\n",
    "    \n",
    "    if ax is None:\n",
    "        fig, ax = plt.subplots(figsize=(10, 10))\n",
    "    else:\n",
    "        ax=ax\n",
    "        \n",
    "    ylim_max = max(max(y) + 0.1, (max(x) + 0.1) / np.tan(np.radians(45)) * slope)\n",
    "    xlim_max = max((max(y) + 0.1) * np.tan(np.radians(45)) / slope, max(x) + 0.1)\n",
    "\n",
    "    # Prepare regression line data    \n",
    "    line_x = np.linspace(0, xlim_max, 100)\n",
    "    line_y = slope * line_x + intercept\n",
    "\n",
    "    # Plot the regression line\n",
    "    ax.plot(line_x, line_y, color='red')\n",
    "\n",
    "    # plot scatter of gene\n",
    "    for j in range(gene_num):\n",
    "        category = categories[j]\n",
    "        x_cat = [x[i] for i in range(len(x)) if categories[i] == category]\n",
    "        y_cat = [y[i] for i in range(len(y)) if categories[i] == category]\n",
    "        if x_cat[0] > np.percentile(x, percentile) or y_cat[0] > np.percentile(y, percentile):\n",
    "            ax.scatter(x_cat, y_cat, label=category, color=colors[j])\n",
    "            ax.text(x_cat[0], y_cat[0], category)\n",
    "        else:\n",
    "            ax.scatter(x_cat, y_cat, label=category, color='gray')\n",
    "\n",
    "    ## set x and y range\n",
    "    ax.set_xlim(0, xlim_max)\n",
    "    ax.set_ylim(0, ylim_max)\n",
    "\n",
    "    ax.set_title(f'{cell_type}')\n",
    "    ax.set_xlabel('in_nucleus')\n",
    "    ax.set_ylabel('out_nucleus')\n",
    "    # plt.legend()\n",
    "    if show:\n",
    "        plt.show()"
   ]
  },
  {
   "cell_type": "code",
   "execution_count": null,
   "metadata": {},
   "outputs": [],
   "source": [
    "cell_type_list = ['all'] + [_ for _ in cell_info.type.unique()]\n",
    "\n",
    "nrows = int(len(cell_type_list)**(1/2))\n",
    "ncols = - int( - len(cell_type_list) / nrows)\n",
    "\n",
    "fig, ax = plt.subplots(nrows=nrows, ncols=ncols, figsize=(ncols * 10, nrows * 10))\n",
    "for _, cell_type in enumerate(cell_type_list):\n",
    "    ax_tmp = ax if ncols==1 and nrows==1 else ax[_] if ncols==1 else ax[_//ncols][_%ncols]\n",
    "    if cell_type == 'all':\n",
    "        x = in_adata.X.mean(axis=0)\n",
    "        y = ou_adata.X.mean(axis=0)\n",
    "        # plt.legend()\n",
    "    else:\n",
    "        x = in_adata[in_adata.obs.type == cell_type].X.mean(axis=0)\n",
    "        y = ou_adata[ou_adata.obs.type == cell_type].X.mean(axis=0)\n",
    "    # ax_tmp = ax\n",
    "    slope, intercept = adjust_regress(x, y)\n",
    "    draw_with_regress(x, y, slope, intercept, cell_type=cell_type, categories=in_adata.var_names, percentile=70, cmap='plasma', show=False, ax=ax_tmp)\n",
    "\n",
    "plt.suptitle(workdir.split('/')[-1])\n",
    "# plt.tight_layout()\n",
    "plt.show()"
   ]
  },
  {
   "cell_type": "markdown",
   "metadata": {},
   "source": [
    "# In out Roe"
   ]
  },
  {
   "cell_type": "code",
   "execution_count": null,
   "metadata": {},
   "outputs": [],
   "source": [
    "cell_type_list = [_ for _ in cell_info.type.unique()]\n",
    "Roe = dict()\n",
    "for cell_type in cell_type_list:\n",
    "    Roe[cell_type] = dict()\n",
    "    rna_by_nu = rna_df[rna_df['in_nu'] == nu]\n",
    "    \n",
    "    for nu in [True, False]:\n",
    "        index = cell_info[cell_info['type']==cell_type].index\n",
    "        rna_by_type = rna_df[rna_df['Cell Index'].isin(index)]\n",
    "        Roe[cell_type][nu] = []\n",
    "        \n",
    "        for gene in gene_order_list:\n",
    "            rna_by_gene = rna_df[rna_df['Gene']==gene]\n",
    "            rna_by_gene_type = rna_by_type[rna_by_type['Gene']==gene]\n",
    "\n",
    "            rna_by_gene_type_nu = rna_by_gene_type[rna_by_gene_type['in_nu']==nu]\n",
    "            rna_by_gene_type_nu_expect = len(rna_by_gene) * len(rna_by_type) * len(rna_by_nu) / len(rna_df)**2\n",
    "\n",
    "            Roe[cell_type][nu].append(len(rna_by_gene_type_nu) / rna_by_gene_type_nu_expect)\n",
    "        \n",
    "    Roe[cell_type] = pd.DataFrame(Roe[cell_type])\n",
    "    Roe[cell_type].index = gene_order_list"
   ]
  },
  {
   "cell_type": "code",
   "execution_count": null,
   "metadata": {},
   "outputs": [],
   "source": [
    "cell_type_list"
   ]
  },
  {
   "cell_type": "code",
   "execution_count": null,
   "metadata": {},
   "outputs": [],
   "source": [
    "import seaborn as sns\n",
    "\n",
    "fig, ax = plt.subplots(ncols=len(cell_type_list[1:]), nrows=1, figsize=(len(cell_type_list[1:]) * 8, 10))\n",
    "\n",
    "for _, type_map in enumerate(cell_type_list[1: ]):    \n",
    "    data = Roe[type_map].copy()\n",
    "    data = data / np.sum(data, axis=0) \n",
    "    # data = (data.T / np.sum(data, axis=1)).T\n",
    "    data.columns = ['In', 'Out']\n",
    "\n",
    "    sns.heatmap(data, cmap='coolwarm', ax=ax[_])\n",
    "    ax[_].set_title(type_map)\n",
    "    \n",
    "\n",
    "plt.savefig(os.path.join(workdir, 'figures', f'3d_Roe_cut_by_celltype.pdf'), bbox_inches = 'tight')\n",
    "# plt.close()"
   ]
  },
  {
   "cell_type": "code",
   "execution_count": null,
   "metadata": {},
   "outputs": [],
   "source": [
    "Enrich_df = pd.DataFrame()\n",
    "In_df = pd.DataFrame()\n",
    "Out_df = pd.DataFrame()\n",
    "\n",
    "for cell_type in type_of_interest:\n",
    "# for cell_type in Roe.keys():\n",
    "    data = Roe[cell_type].copy()\n",
    "    Enrich_df[cell_type] = np.sum(data, axis=1)\n",
    "    data = data / np.sum(data, axis=0) \n",
    "    data = (data.T / np.sum(data, axis=1)).T\n",
    "    # data = data * 100\n",
    "    data.columns = ['In', 'Out']\n",
    "\n",
    "    In_df[cell_type] = data['In']\n",
    "    Out_df[cell_type] = data['Out']\n",
    "\n",
    "Enrich_df.index = data.index\n",
    "In_df.index = data.index\n",
    "Out_df.index = data.index\n",
    "\n",
    "Enrich_df = Enrich_df.T\n",
    "In_df = In_df.T\n",
    "Out_df = Out_df.T"
   ]
  },
  {
   "cell_type": "markdown",
   "metadata": {},
   "source": [
    "## Roe shown as dotplot"
   ]
  },
  {
   "cell_type": "code",
   "execution_count": null,
   "metadata": {},
   "outputs": [],
   "source": [
    "import matplotlib.pyplot as plt\n",
    "import seaborn as sns\n",
    "import pandas as pd\n",
    "import numpy as np\n",
    "\n",
    "# Create the dot plot\n",
    "fig, ax = plt.subplots(ncols=1, nrows=2, figsize=(15, 10))\n",
    "\n",
    "# We need to iterate over each cell type to plot\n",
    "for gene in Enrich_df.columns:\n",
    "    sns.scatterplot(x=[gene] * len(Enrich_df), y=Enrich_df.index, \n",
    "                    size=Enrich_df[gene], sizes=(5, 300), \n",
    "                    hue=In_df[gene], ax=ax[0],\n",
    "                    palette='Reds', legend=None)\n",
    "    \n",
    "ax[0].set_xticks([])\n",
    "ax[0].set_title('in_nu')\n",
    "\n",
    "# We need to iterate over each cell type to plot\n",
    "for gene in Enrich_df.columns:\n",
    "    sns.scatterplot(x=[gene] * len(Enrich_df), y=Enrich_df.index, \n",
    "                    size=Enrich_df[gene], sizes=(5, 300), \n",
    "                    hue=Out_df[gene], ax=ax[1],\n",
    "                    palette='Purples', legend=None)\n",
    "\n",
    "ax[1].set_title('out_nu')\n",
    "\n",
    "plt.ylabel('Cell Type')\n",
    "plt.xlabel('Gene Name')\n",
    "plt.xticks(rotation=-45)\n",
    "\n",
    "plt.suptitle(workdir.split('/')[-1])\n",
    "# plt.legend(title='Expression Level', bbox_to_anchor=(1.05, 1), loc=2)\n",
    "plt.show()\n",
    "# plt.savefig(r'E:\\TMC\\subcellular_analysis\\dataset\\0704_CTX\\figures\\nucleus_distribution_dotplot.pdf', bbox_inches = 'tight')\n"
   ]
  },
  {
   "cell_type": "code",
   "execution_count": null,
   "metadata": {},
   "outputs": [],
   "source": [
    "import matplotlib.pyplot as plt\n",
    "import seaborn as sns\n",
    "import pandas as pd\n",
    "import numpy as np\n",
    "\n",
    "# Create the dot plot\n",
    "fig, ax = plt.subplots(figsize=(15, 5))\n",
    "\n",
    "# We need to iterate over each cell type to plot\n",
    "for gene in Enrich_df.columns:\n",
    "    sns.scatterplot(x=[gene] * len(Enrich_df), y=Enrich_df.index, \n",
    "                    size=Enrich_df[gene], sizes=(20, 200), \n",
    "                    hue=In_df[gene] / Out_df[gene],\n",
    "                    palette='coolwarm', legend=None)\n",
    "\n",
    "plt.ylabel('Cell Type')\n",
    "plt.xlabel('Gene Name')\n",
    "plt.xticks(rotation=-45)\n",
    "\n",
    "plt.suptitle('CTX')\n",
    "# plt.legend(title='Expression Level', bbox_to_anchor=(1.05, 1), loc=2)\n",
    "plt.show()\n",
    "# plt.savefig(r'E:\\TMC\\subcellular_analysis\\dataset\\0704_CTX\\figures\\nucleus_distribution_dotplot_combine.pdf', bbox_inches = 'tight')\n"
   ]
  },
  {
   "cell_type": "markdown",
   "metadata": {},
   "source": [
    "# gene neighborhood analysis"
   ]
  },
  {
   "cell_type": "code",
   "execution_count": null,
   "metadata": {},
   "outputs": [],
   "source": [
    "cell_info = pd.read_csv(os.path.join(workdir, 'Cell_Info.csv'), index_col=0)\n",
    "rna_df = pd.read_csv(os.path.join(workdir, 'mapped_genes_processed.csv'), index_col=0)"
   ]
  },
  {
   "cell_type": "code",
   "execution_count": null,
   "metadata": {},
   "outputs": [],
   "source": [
    "def ave_with_na(x, y, weight_x=1, weight_y=1):\n",
    "    if x == np.nan:\n",
    "        return y\n",
    "    elif y ==np.nan:\n",
    "        return x\n",
    "    else:\n",
    "        return (x * weight_x + y * weight_y) / (weight_x + weight_y)"
   ]
  },
  {
   "cell_type": "code",
   "execution_count": null,
   "metadata": {},
   "outputs": [],
   "source": [
    "import numpy as np\n",
    "import matplotlib.pyplot as plt\n",
    "import seaborn as sns\n",
    "from scipy.spatial.distance import pdist, squareform\n",
    "\n",
    "type_relationships = np.zeros((len(gene_order_list), len(gene_order_list)))\n",
    "weight = np.zeros((len(gene_order_list), len(gene_order_list)))\n",
    "\n",
    "for cell in tqdm(cell_info.sample(100).index):\n",
    "    data = rna_df[rna_df['Cell Index']==cell]\n",
    "    data.index = [int(_) for _ in range(len(data))]\n",
    "    points = data[['x_in_pix', 'y_in_pix', 'z_in_pix', ]]\n",
    "    distances = squareform(pdist(points, 'euclidean'))\n",
    "\n",
    "    # Alternatively, if you want to focus on type relationships\n",
    "    # You can transform the distances based on types (e.g., average distance between types)\n",
    "    \n",
    "    for i, type1 in enumerate(gene_order_list):\n",
    "        for j, type2 in enumerate(gene_order_list):\n",
    "            type1_indices = data[data['Gene']==type1].index\n",
    "            type2_indices = data[data['Gene']==type2].index\n",
    "            avg_distance = np.nanmean([distances[ind1, ind2] for ind1 in type1_indices for ind2 in type2_indices])\n",
    "            if avg_distance != np.nan:\n",
    "                weight[i, j] += 1\n",
    "            type_relationships[i, j] = ave_with_na(x=type_relationships[i, j], y=avg_distance, weight_x=weight[i, j], weight_y=1)\n"
   ]
  },
  {
   "cell_type": "code",
   "execution_count": null,
   "metadata": {},
   "outputs": [],
   "source": [
    "import scanpy as sc\n",
    "import squidpy as sq\n",
    "\n",
    "\n",
    "rna_anndata = sc.AnnData(X=np.array([[1]*len(rna_df), [1]*len(rna_df)]).T)\n",
    "rna_anndata.obs['Gene'] = list(rna_df['Gene'])\n",
    "rna_anndata.obs['Cell Index'] = list(rna_df['Cell Index'])\n",
    "rna_anndata.obsm['spatial'] = rna_df[['x_in_pix', 'y_in_pix', 'z_in_pix', ]].values\n",
    "\n",
    "plt.figure(figsize=(10,10))\n",
    "sc.pl.embedding(rna_anndata, basis=\"spatial\", projection=\"3d\", color=\"Gene\", size=0.01, alpha=0.05)  # Set the elevation and azimuth angles\n",
    "plt.show()\n"
   ]
  },
  {
   "cell_type": "code",
   "execution_count": null,
   "metadata": {},
   "outputs": [],
   "source": [
    "cell_1 = rna_anndata[rna_anndata.obs['Cell Index'] == 0]\n",
    "sq.gr.spatial_neighbors(cell_1, coord_type=\"generic\", spatial_key=\"spatial\")\n",
    "sq.gr.spatial_neighbors(rna_anndata, coord_type=\"generic\", spatial_key=\"spatial\",n_neighs=2)\n",
    "sq.gr.nhood_enrichment(rna_anndata, cluster_key=\"Gene\")"
   ]
  },
  {
   "cell_type": "code",
   "execution_count": null,
   "metadata": {},
   "outputs": [],
   "source": [
    "fig,ax = plt.subplots(figsize=(10,10))\n",
    "sq.pl.nhood_enrichment(\n",
    "    rna_anndata, \n",
    "    cluster_key=\"Gene\", \n",
    "    cmap=\"coolwarm\", \n",
    "    method=\"ward\",\n",
    "    vmax=40, vmin=-40,\n",
    "    ax=ax,\n",
    ")\n",
    "plt.show()"
   ]
  },
  {
   "cell_type": "markdown",
   "metadata": {},
   "source": [
    "# combined analysis of multiple tissues"
   ]
  },
  {
   "cell_type": "code",
   "execution_count": null,
   "metadata": {},
   "outputs": [],
   "source": [
    "workdir = r'./processed'\n",
    "cell_info = pd.DataFrame()\n",
    "rna_info = pd.DataFrame()\n",
    "\n",
    "for path in os.listdir(workdir):\n",
    "    if 'output_for_PRISM3D_mousebrain' in path: continue\n",
    "    cell_info_tmp = pd.read_csv(os.path.join(workdir, path, 'cell_Info.csv'), index_col=0)\n",
    "    tissue_type = path.split('_')[-3]\n",
    "    # if tissue_type == 'HT':\n",
    "    #     cell_info_tmp['type'] = cell_info_tmp['type'].replace({'Ex-1':'Ex-1_HT'})\n",
    "    # if tissue_type == 'HP':\n",
    "    #     cell_info_tmp['type'] = cell_info_tmp['type'].replace({'Ex-5-thalamus':'Ex'})\n",
    "    cell_info_tmp['tissue'] = [tissue_type] * len(cell_info_tmp)    \n",
    "    rna_info_tmp = pd.read_csv(os.path.join(workdir, path, 'mapped_genes_processed.csv'), index_col=0)\n",
    "    rna_info_tmp['tissue'] = [tissue_type] * len(rna_info_tmp)\n",
    "\n",
    "    dou_index = cell_info_tmp[cell_info_tmp['nu_volume'].isna()].index\n",
    "    cell_info_tmp = cell_info_tmp[~cell_info_tmp['nu_volume'].isna()]\n",
    "    rna_info_tmp = rna_info_tmp[~rna_info_tmp.index.isin(dou_index)]\n",
    "\n",
    "    cell_info = pd.concat([cell_info, cell_info_tmp])\n",
    "    rna_info = pd.concat([rna_info, rna_info_tmp])"
   ]
  },
  {
   "cell_type": "code",
   "execution_count": null,
   "metadata": {},
   "outputs": [],
   "source": [
    "tissue_type_list = ['CTX', 'TH', 'HT', 'HP', ]\n",
    "cell_type_list =  [\n",
    "    'Glial-Astrocyte', 'Glial-Oligodendrocyte', 'Glial-Microglia', \n",
    "    'In-Sst', 'In-Pvalb', 'In-Vip', 'In-Lamp5',\n",
    "    \n",
    "    'Ex-2or3', 'Ex-4', 'Ex-5', 'Ex-6a', 'Ex-6b', \n",
    "\n",
    "    'Ex-thalamus', \n",
    "    \n",
    "    'Ex-1', 'Ex-2-Nr4a2+', 'Ex-3-Rorb+', 'Ex-4-Rprm+', 'Ex-4-Pmch+', 'Ex-5-Prox1+', 'Ex-6-Rasgrf2+', \n",
    "    'Ex-MH', 'Ex-CA1', 'Ex-CA3', 'Ex-DG', ]"
   ]
  },
  {
   "cell_type": "markdown",
   "metadata": {},
   "source": [
    "## direct calculation"
   ]
  },
  {
   "cell_type": "code",
   "execution_count": null,
   "metadata": {},
   "outputs": [],
   "source": [
    "sorted(list(cell_info.subtype.unique()))"
   ]
  },
  {
   "cell_type": "code",
   "execution_count": null,
   "metadata": {},
   "outputs": [],
   "source": [
    "heat_dict = dict()\n",
    "for tissue in tissue_type_list:\n",
    "    heat_dict[tissue] = []\n",
    "    tissue_cell_info = cell_info[cell_info['tissue']==tissue]\n",
    "    for cell_type in cell_type_list:\n",
    "        heat_dict[tissue].append(tissue_cell_info[tissue_cell_info['subtype']==cell_type]['in_nu'].mean())\n",
    "\n",
    "heat_df = pd.DataFrame(heat_dict)\n",
    "heat_df.index = cell_type_list\n",
    "\n",
    "fig, ax = plt.subplots(figsize=(30, 5))\n",
    "sns.heatmap(heat_df.T, ax=ax)\n",
    "plt.xticks(rotation=-30)\n",
    "plt.yticks(rotation=0)\n",
    "plt.show()"
   ]
  },
  {
   "cell_type": "markdown",
   "metadata": {},
   "source": [
    "## Roe calculation"
   ]
  },
  {
   "cell_type": "markdown",
   "metadata": {},
   "source": [
    "### in/out"
   ]
  },
  {
   "cell_type": "code",
   "execution_count": null,
   "metadata": {},
   "outputs": [],
   "source": [
    "Roe = pd.DataFrame(columns=['tissue', 'cell_type', 'in_nu', 'gene', 'observed', 'expected' ,'Roe'])\n",
    "for tissue_type in tissue_type_list:\n",
    "    rna_by_tissue = rna_info[rna_info['tissue'] == tissue_type]\n",
    "    tmp_observed1 = rna_by_tissue.copy()\n",
    "    cell_info_by_tissue = cell_info[cell_info['tissue'] == tissue_type]\n",
    "\n",
    "    for cell_type in tqdm(cell_type_list, desc=tissue_type):\n",
    "        index = cell_info[cell_info['subtype']==cell_type].index\n",
    "        rna_by_celltype = rna_info[rna_info['Cell Index'].isin(index)]\n",
    "        tmp_observed2 = tmp_observed1[tmp_observed1['Cell Index'].isin(cell_info_by_tissue[cell_info_by_tissue['subtype']==cell_type].index)]\n",
    "                \n",
    "        for nu in [True, False]:\n",
    "            rna_by_nu = rna_info[rna_info['in_nu'] == nu]\n",
    "            tmp_observed3 = tmp_observed2[tmp_observed2['in_nu']==nu]\n",
    "                \n",
    "            for gene in gene_order_list:\n",
    "                rna_by_gene = rna_info[rna_info['Gene'] == gene]\n",
    "                tmp_observed = tmp_observed3[tmp_observed3['Gene'] == gene]\n",
    "                tmp_observed = len(tmp_observed)\n",
    "                tmp_expected = len(rna_by_gene) * len(rna_by_celltype) * len(rna_by_nu) * len(rna_by_tissue) / len(rna_info)**3\n",
    "\n",
    "                tmp_df = pd.DataFrame({'tissue': [tissue_type], \n",
    "                                       'cell_type': [cell_type], \n",
    "                                       'in_nu': [nu], \n",
    "                                       'gene': [gene], \n",
    "                                       'observed': [tmp_observed], \n",
    "                                       'expected': [tmp_expected],\n",
    "                                       'Roe': [tmp_observed/tmp_expected],\n",
    "                                       })\n",
    "                Roe = pd.concat([Roe, tmp_df])"
   ]
  },
  {
   "cell_type": "code",
   "execution_count": null,
   "metadata": {},
   "outputs": [],
   "source": [
    "tmp = Roe.copy()\n",
    "Roe_reduced_in = dict()\n",
    "Roe_reduced_out = dict()\n",
    "\n",
    "for tissue_type in tissue_type_list:\n",
    "    Roe_reduced_in[tissue_type] = []\n",
    "    Roe_reduced_out[tissue_type] = []\n",
    "    for cell_type in cell_type_list:\n",
    "        interest = tmp[tmp['cell_type']==cell_type]\n",
    "        interest = interest[interest['tissue']==tissue_type]\n",
    "        interest = interest[interest['Roe']>0]\n",
    "        Roe_reduced_in[tissue_type].append(interest[interest['in_nu'] == True]['Roe'].mean())\n",
    "        Roe_reduced_out[tissue_type].append(interest[interest['in_nu'] == False]['Roe'].mean())\n",
    "\n",
    "Roe_in_df = pd.DataFrame(Roe_reduced_in)\n",
    "Roe_out_df = pd.DataFrame(Roe_reduced_out)\n",
    "Roe_in_df.index = cell_type_list\n",
    "Roe_out_df.index = cell_type_list"
   ]
  },
  {
   "cell_type": "code",
   "execution_count": null,
   "metadata": {},
   "outputs": [],
   "source": [
    "interest = tmp[tmp['cell_type'] == 'Ex-6b']\n",
    "interest = interest[interest['tissue'] == 'CTX']\n",
    "array = np.array([np.array([_ for _ in interest[interest['in_nu'] == True]['Roe']]),\n",
    "                  np.array([_ for _ in interest[interest['in_nu'] == False]['Roe']]),])\n",
    "\n",
    "fig, ax = plt.subplots(figsize=(4, 7))\n",
    "sns.heatmap(array.T / np.sum(array.T, axis=0),\n",
    "            xticklabels=['in', 'out'], yticklabels=gene_order_list, ax=ax)\n",
    "plt.savefig(subcel_dir/'in_out'/'in_CTX_Ex-6b'/'Roe.pdf', bbox_inches='tight')\n",
    "# plt.show()"
   ]
  },
  {
   "cell_type": "code",
   "execution_count": null,
   "metadata": {},
   "outputs": [],
   "source": [
    "fig, ax = plt.subplots(ncols=3, nrows=1, figsize=(25, 7))\n",
    "sns.heatmap(Roe_in_df, ax=ax[0], vmax=3, vmin=0.1,)\n",
    "ax[0].set_title('in')\n",
    "\n",
    "sns.heatmap(Roe_out_df, ax=ax[1], vmax=3, vmin=0.1,)\n",
    "ax[1].set_title('out')\n",
    "\n",
    "sns.heatmap(Roe_in_df / Roe_out_df,cmap='coolwarm', ax=ax[2], vmax=1.5) # vmin=0.8,\n",
    "ax[2].set_title('in/out')\n",
    "plt.show()\n",
    "# plt.savefig(subcel_dir/'Roe_in_out.pdf'), bbox_inches='tight')"
   ]
  },
  {
   "cell_type": "markdown",
   "metadata": {},
   "source": [
    "#### Threshold of interested cells"
   ]
  },
  {
   "cell_type": "code",
   "execution_count": null,
   "metadata": {},
   "outputs": [],
   "source": [
    "intere_index = []\n",
    "interested_cells = cell_info[cell_info['tissue'] == 'HT']\n",
    "interested_cells = interested_cells[interested_cells['subtype'] == 'Ex-4-Pmch+']\n",
    "tissue_rna = rna_info[rna_info['tissue'] == 'HT']\n",
    "split = '='*30\n",
    "for index in interested_cells.index:    \n",
    "    tmp = tissue_rna[tissue_rna['Cell Index'] == index]\n",
    "    # print(tmp)\n",
    "    if len(tmp) >= 30:\n",
    "        intere_index.append(index)\n",
    "        print(f'{split}\\n{index}', '\\n',tmp[['Gene', 'in_nu']])\n",
    "print(len(intere_index))\n",
    "intere_index"
   ]
  },
  {
   "cell_type": "markdown",
   "metadata": {},
   "source": [
    "#### influence of cell and nucleus size"
   ]
  },
  {
   "cell_type": "code",
   "execution_count": null,
   "metadata": {},
   "outputs": [],
   "source": [
    "cell_info"
   ]
  },
  {
   "cell_type": "code",
   "execution_count": null,
   "metadata": {},
   "outputs": [],
   "source": [
    "nucleus_dict = dict()\n",
    "convex_dict = dict()\n",
    "\n",
    "for tissue_type in tissue_type_list:\n",
    "    nucleus_dict[tissue_type] = []\n",
    "    convex_dict[tissue_type] = []\n",
    "    for cell_type in tqdm(cell_type_list, desc=tissue_type):\n",
    "        tmp = cell_info[~cell_info['nu_volume'].isna()]\n",
    "        tmp = tmp[tmp['tissue'] == tissue_type]\n",
    "        tmp = tmp[tmp['subtype'] == cell_type]\n",
    "        nucleus_dict[tissue_type].append(tmp['nu_volume'].mean())\n",
    "        convex_dict[tissue_type].append(tmp['cell_volume'].mean())\n",
    "\n",
    "nucleus_df = pd.DataFrame(nucleus_dict)\n",
    "convex_df = pd.DataFrame(convex_dict)\n",
    "nucleus_df.index = cell_type_list\n",
    "convex_df.index = cell_type_list"
   ]
  },
  {
   "cell_type": "code",
   "execution_count": null,
   "metadata": {},
   "outputs": [],
   "source": [
    "fig, ax = plt.subplots(ncols=3, nrows=1, figsize=(27,7))\n",
    "sns.heatmap(nucleus_df, \n",
    "            ax=ax[0]\n",
    "            # vmax=3, \n",
    "            # vmin=0.75,\n",
    "            )\n",
    "ax[0].set_title('nucleus')\n",
    "\n",
    "sns.heatmap(convex_df, \n",
    "            ax=ax[1],\n",
    "            # vmax=3, \n",
    "            # vmin=0.75,\n",
    "            )\n",
    "ax[1].set_title('convex')\n",
    "\n",
    "sns.heatmap(nucleus_df / convex_df, \n",
    "            cmap='coolwarm', ax=ax[2],\n",
    "            vmax=1.5, \n",
    "            # vmin=0.8,\n",
    "            )\n",
    "ax[2].set_title('nucleus/convex')\n",
    "# plt.savefig(os.path.join(workdir, 'output_for_PRISM3D_mousebrain', 'nucleus_convex.pdf'), bbox_inches='tight')\n",
    "plt.show()"
   ]
  },
  {
   "cell_type": "markdown",
   "metadata": {},
   "source": [
    "### polarity"
   ]
  },
  {
   "cell_type": "code",
   "execution_count": null,
   "metadata": {},
   "outputs": [],
   "source": [
    "cell_info"
   ]
  },
  {
   "cell_type": "code",
   "execution_count": null,
   "metadata": {},
   "outputs": [],
   "source": [
    "cell_info['polar_adjusted'] = cell_info['polar'] / cell_info['rna_ave_dis']"
   ]
  },
  {
   "cell_type": "code",
   "execution_count": null,
   "metadata": {},
   "outputs": [],
   "source": [
    "fig, ax=plt.subplots(ncols=5, nrows=1, figsize=(20,3))\n",
    "ax[0].hist(cell_info['polar'], bins=100)\n",
    "ax[0].set_title('All_radius')\n",
    "ax[1].hist(cell_info[cell_info['tissue']=='CTX']['polar'], bins=100)\n",
    "ax[1].set_title('CTX_radius')\n",
    "ax[2].hist(cell_info[cell_info['tissue']=='HT']['polar'], bins=100)\n",
    "ax[2].set_title('HT_radius')\n",
    "ax[3].hist(cell_info[cell_info['tissue']=='TH']['polar'], bins=100)\n",
    "ax[3].set_title('TH_radius')\n",
    "ax[4].hist(cell_info[cell_info['tissue']=='HP']['polar'], bins=100)\n",
    "ax[4].set_title('HP_radius')\n",
    "plt.suptitle('polarity_raw_radius_overview')\n",
    "plt.tight_layout()\n",
    "plt.show()"
   ]
  },
  {
   "cell_type": "code",
   "execution_count": null,
   "metadata": {},
   "outputs": [],
   "source": [
    "fig, ax=plt.subplots(ncols=5, nrows=1, figsize=(20,3))\n",
    "ax[0].hist(cell_info['polar_adjusted'], bins=100)\n",
    "ax[0].set_title('All_adjusted')\n",
    "ax[1].hist(cell_info[cell_info['tissue']=='CTX']['polar_adjusted'], bins=100)\n",
    "ax[1].set_title('CTX_adjusted')\n",
    "ax[2].hist(cell_info[cell_info['tissue']=='HT']['polar_adjusted'], bins=100)\n",
    "ax[2].set_title('HT_adjusted')\n",
    "ax[3].hist(cell_info[cell_info['tissue']=='TH']['polar_adjusted'], bins=100)\n",
    "ax[3].set_title('TH_adjusted')\n",
    "ax[4].hist(cell_info[cell_info['tissue']=='HP']['polar_adjusted'], bins=100)\n",
    "ax[4].set_title('HP_adjusted')\n",
    "plt.suptitle('polarity_adjusted_overview')\n",
    "plt.tight_layout()\n",
    "plt.show()"
   ]
  },
  {
   "cell_type": "code",
   "execution_count": null,
   "metadata": {},
   "outputs": [],
   "source": [
    "rna_info.index = [_ for _ in range(len(rna_info))]"
   ]
  },
  {
   "cell_type": "code",
   "execution_count": null,
   "metadata": {},
   "outputs": [],
   "source": [
    "cell_info"
   ]
  },
  {
   "cell_type": "code",
   "execution_count": null,
   "metadata": {},
   "outputs": [],
   "source": [
    "low_medium_thre = np.nanpercentile(cell_info['polar_adjusted'], 20)\n",
    "medium_high_thre = np.nanpercentile(cell_info['polar_adjusted'], 80)\n",
    "\n",
    "rna_info['polar_type'] = [np.nan] * len(rna_info)\n",
    "for tissue_type in tissue_type_list:\n",
    "    tmp_observed1 = rna_info[rna_info['tissue'] == tissue_type]\n",
    "    for cell_type in tqdm(cell_type_list, desc=tissue_type):\n",
    "        index = cell_info[cell_info['subtype']==cell_type].index\n",
    "        tmp_observed2 = tmp_observed1[tmp_observed1['Cell Index'].isin(index)]\n",
    "        for gene in gene_order_list:\n",
    "            tmp_observed3 = tmp_observed2[tmp_observed2['Gene']==gene]\n",
    "            for cell_index in tmp_observed3['Cell Index'].unique():\n",
    "                gene_in_cell_rna = tmp_observed3[tmp_observed3['Cell Index']==cell_index]\n",
    "                if len(gene_in_cell_rna) < 5:\n",
    "                    continue\n",
    "                else:\n",
    "                    try: cell_tmp = cell_info[cell_info['tissue']==tissue_type].loc[cell_index]\n",
    "                    except: continue\n",
    "                    polarity_tmp = euclidean(np.mean(gene_in_cell_rna[['z_in_pix', 'x_in_pix', 'y_in_pix', ]].values, axis=0), cell_tmp[['ce_z_in_pix', 'ce_x_in_pix', 'ce_y_in_pix']].values) / cell_tmp['rna_ave_dis']\n",
    "                    if polarity_tmp < low_medium_thre:\n",
    "                        rna_info['polar_type'].loc[gene_in_cell_rna.index] = ['low'] * len(gene_in_cell_rna)\n",
    "                    elif low_medium_thre <= polarity_tmp < medium_high_thre:\n",
    "                        rna_info['polar_type'].loc[gene_in_cell_rna.index] = ['medium'] * len(gene_in_cell_rna)\n",
    "                    else:\n",
    "                        rna_info['polar_type'].loc[gene_in_cell_rna.index] = ['high'] * len(gene_in_cell_rna)"
   ]
  },
  {
   "cell_type": "code",
   "execution_count": null,
   "metadata": {},
   "outputs": [],
   "source": [
    "Roe = pd.DataFrame(columns=['tissue', 'cell_type', 'polarity', 'gene', 'observed', 'expected' ,'Roe'])\n",
    "for tissue_type in tissue_type_list:\n",
    "    rna_by_tissue = rna_info[rna_info['tissue'] == tissue_type]\n",
    "    tmp_observed1 = rna_by_tissue.copy()\n",
    "    cell_info_by_tissue = cell_info[cell_info['tissue'] == tissue_type]\n",
    "                \n",
    "    for cell_type in tqdm(cell_type_list, desc=tissue_type):\n",
    "        index = cell_info[cell_info['subtype']==cell_type].index\n",
    "        rna_by_celltype = rna_info[rna_info['Cell Index'].isin(index)]\n",
    "        tmp_observed2 = tmp_observed1[tmp_observed1['Cell Index'].isin(cell_info_by_tissue[cell_info_by_tissue['subtype']==cell_type].index)]\n",
    "                \n",
    "        for polarity in ['high', 'medium', 'low']:\n",
    "            rna_by_po = rna_info[rna_info['polar_type'] == polarity]\n",
    "            tmp_observed3 = tmp_observed2[tmp_observed2['polar_type']==polarity]\n",
    "                \n",
    "            for gene in gene_order_list:\n",
    "                rna_by_gene = rna_info[rna_info['Gene'] == gene]\n",
    "                tmp_observed = tmp_observed3[tmp_observed3['Gene'] == gene]\n",
    "                tmp_observed = len(tmp_observed)\n",
    "                tmp_expected = len(rna_by_gene) * len(rna_by_celltype) * len(rna_by_po) * len(rna_by_tissue) / len(rna_info)**3\n",
    "\n",
    "                tmp_df = pd.DataFrame({'tissue': [tissue_type], \n",
    "                                       'cell_type': [cell_type], \n",
    "                                       'polarity': [polarity], \n",
    "                                       'gene': [gene], \n",
    "                                       'observed': [tmp_observed], \n",
    "                                       'expected': [tmp_expected],\n",
    "                                       'Roe': [tmp_observed/tmp_expected],\n",
    "                                       })\n",
    "                Roe = pd.concat([Roe, tmp_df])"
   ]
  },
  {
   "cell_type": "code",
   "execution_count": null,
   "metadata": {},
   "outputs": [],
   "source": [
    "cell_info.subtype.unique()"
   ]
  },
  {
   "cell_type": "code",
   "execution_count": null,
   "metadata": {},
   "outputs": [],
   "source": [
    "tmp = Roe.copy()\n",
    "Roe_reduced_po_high = dict()\n",
    "Roe_reduced_po_medium = dict()\n",
    "Roe_reduced_po_low = dict()\n",
    "\n",
    "for tissue_type in tissue_type_list:\n",
    "    Roe_reduced_po_high[tissue_type] = []\n",
    "    Roe_reduced_po_medium[tissue_type] = []\n",
    "    Roe_reduced_po_low[tissue_type] = []\n",
    "    for cell_type in cell_type_list:\n",
    "        interest = tmp[tmp['cell_type']==cell_type]\n",
    "        interest = interest[interest['tissue']==tissue_type]\n",
    "        interest = interest[interest['Roe']>0]\n",
    "        Roe_reduced_po_high[tissue_type].append(interest[interest['polarity'] == 'high']['Roe'].mean())\n",
    "        Roe_reduced_po_medium[tissue_type].append(interest[interest['polarity'] == 'medium']['Roe'].mean())\n",
    "        Roe_reduced_po_low[tissue_type].append(interest[interest['polarity'] == 'medium']['Roe'].mean())\n",
    "\n",
    "Roe_po_high_df = pd.DataFrame(Roe_reduced_po_high)\n",
    "Roe_po_medium_df = pd.DataFrame(Roe_reduced_po_medium)\n",
    "Roe_po_low_df = pd.DataFrame(Roe_reduced_po_low)\n",
    "Roe_po_high_df.index = cell_type_list\n",
    "Roe_po_medium_df.index = cell_type_list\n",
    "Roe_po_low_df.index = cell_type_list"
   ]
  },
  {
   "cell_type": "code",
   "execution_count": null,
   "metadata": {},
   "outputs": [],
   "source": [
    "fig, ax = plt.subplots(ncols=4, nrows=1, figsize=(30, 7))\n",
    "sns.heatmap(Roe_po_high_df, ax=ax[0],\n",
    "            vmax=10, \n",
    "            # vmin=0.1,\n",
    "            )\n",
    "ax[0].set_title('high')\n",
    "\n",
    "sns.heatmap(Roe_po_medium_df, ax=ax[1],\n",
    "            vmax=10,\n",
    "            # vmin=0.1,\n",
    "            )\n",
    "ax[1].set_title('medium')\n",
    "\n",
    "sns.heatmap(Roe_po_low_df, ax=ax[2],\n",
    "            vmax=10,\n",
    "            # vmin=0.1,\n",
    "            )\n",
    "ax[2].set_title('low')\n",
    "\n",
    "sns.heatmap(Roe_po_high_df / Roe_po_low_df, \n",
    "            cmap='coolwarm', ax=ax[3], \n",
    "            # vmax=1.5, \n",
    "            # vmin=0.8, \n",
    "            )\n",
    "ax[3].set_title('high/low')\n",
    "\n",
    "plt.suptitle('Polarity by cell type and tissue type, thre_count = 5')\n",
    "plt.tight_layout()\n",
    "# plt.savefig(subcel_dir/'Roe_polarity.pdf', bbox_inches='tight')\n",
    "plt.show()"
   ]
  },
  {
   "cell_type": "markdown",
   "metadata": {},
   "source": [
    "#### Threshold of interested cells"
   ]
  },
  {
   "cell_type": "code",
   "execution_count": null,
   "metadata": {},
   "outputs": [],
   "source": [
    "tmp = Roe.copy()\n",
    "interest = tmp[tmp['cell_type']=='In-Sst']\n",
    "interest = interest[interest['tissue']=='HT']\n",
    "\n",
    "array = np.array(\n",
    "   [\n",
    "        np.array([_ for _ in interest[interest['polarity'] == 'high']['Roe']]),\n",
    "        np.array([_ for _ in interest[interest['polarity'] == 'medium']['Roe']]),\n",
    "        np.array([_ for _ in interest[interest['polarity'] == 'low']['Roe']]),\n",
    "    ]\n",
    "    )\n",
    "fig, ax = plt.subplots(figsize=(4,7))\n",
    "sns.heatmap(array.T / np.sum(array.T, axis=0), xticklabels=['high', 'medium', 'low'] ,yticklabels=gene_order_list, ax=ax)\n",
    "plt.show()\n",
    "# plt.savefig(subcel_dir/'polarity'/'low_HT_In-Sst'/'Roe.pdf', bbox_inches='tight')"
   ]
  },
  {
   "cell_type": "code",
   "execution_count": null,
   "metadata": {},
   "outputs": [],
   "source": [
    "intere_index = []\n",
    "interested_cells = cell_info[cell_info['tissue'] == 'HT']\n",
    "interested_cells = interested_cells[interested_cells['subtype'] == 'Ex-4-Pmch+']\n",
    "tissue_rna = rna_info[rna_info['tissue'] == 'HT']\n",
    "split = '='*30\n",
    "for index in interested_cells.index:    \n",
    "    tmp = tissue_rna[tissue_rna['Cell Index'] == index]\n",
    "    # print(tmp)\n",
    "    if len(tmp[tmp['Gene']=='Pmch']) >= 25:\n",
    "        intere_index.append(index)\n",
    "        print(f'{split}\\n{index}', '\\n',tmp[['Gene', 'polar_type']])\n",
    "print(len(intere_index))\n",
    "intere_index"
   ]
  }
 ],
 "metadata": {
  "kernelspec": {
   "display_name": "cell-typing",
   "language": "python",
   "name": "python3"
  },
  "language_info": {
   "codemirror_mode": {
    "name": "ipython",
    "version": 3
   },
   "file_extension": ".py",
   "mimetype": "text/x-python",
   "name": "python",
   "nbconvert_exporter": "python",
   "pygments_lexer": "ipython3",
   "version": "3.8.17"
  }
 },
 "nbformat": 4,
 "nbformat_minor": 2
}
