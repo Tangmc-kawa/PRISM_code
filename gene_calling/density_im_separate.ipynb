{
 "cells": [
  {
   "cell_type": "code",
   "execution_count": 1,
   "metadata": {},
   "outputs": [],
   "source": [
    "import os\n",
    "from pathlib import Path\n",
    "import numpy as np\n",
    "import pandas as pd\n",
    "from tqdm import tqdm\n",
    "from glob import glob\n",
    "from skimage.io import imsave\n",
    "import tifffile\n",
    "\n",
    "BASE_DIR = Path(r'F:\\spatial_data_test\\processed')\n",
    "RUN_ID = '20230523_HCC_PRISM_probe_refined'\n",
    "src_dir = BASE_DIR / f'{RUN_ID}_processed'\n",
    "stc_dir = src_dir / 'stitched'\n",
    "read_dir = src_dir / 'readout'\n",
    "density_dir = read_dir / 'density'\n",
    "os.makedirs(density_dir, exist_ok=True)"
   ]
  },
  {
   "cell_type": "code",
   "execution_count": 2,
   "metadata": {},
   "outputs": [
    {
     "data": {
      "text/html": [
       "<div>\n",
       "<style scoped>\n",
       "    .dataframe tbody tr th:only-of-type {\n",
       "        vertical-align: middle;\n",
       "    }\n",
       "\n",
       "    .dataframe tbody tr th {\n",
       "        vertical-align: top;\n",
       "    }\n",
       "\n",
       "    .dataframe thead th {\n",
       "        text-align: right;\n",
       "    }\n",
       "</style>\n",
       "<table border=\"1\" class=\"dataframe\">\n",
       "  <thead>\n",
       "    <tr style=\"text-align: right;\">\n",
       "      <th></th>\n",
       "      <th>Y</th>\n",
       "      <th>X</th>\n",
       "      <th>Gene</th>\n",
       "    </tr>\n",
       "  </thead>\n",
       "  <tbody>\n",
       "    <tr>\n",
       "      <th>0</th>\n",
       "      <td>2567</td>\n",
       "      <td>27994</td>\n",
       "      <td>PRISM_1</td>\n",
       "    </tr>\n",
       "    <tr>\n",
       "      <th>1</th>\n",
       "      <td>6484</td>\n",
       "      <td>24166</td>\n",
       "      <td>Other</td>\n",
       "    </tr>\n",
       "    <tr>\n",
       "      <th>2</th>\n",
       "      <td>8176</td>\n",
       "      <td>24412</td>\n",
       "      <td>Other</td>\n",
       "    </tr>\n",
       "    <tr>\n",
       "      <th>3</th>\n",
       "      <td>8256</td>\n",
       "      <td>24186</td>\n",
       "      <td>Other</td>\n",
       "    </tr>\n",
       "    <tr>\n",
       "      <th>4</th>\n",
       "      <td>6807</td>\n",
       "      <td>24142</td>\n",
       "      <td>Other</td>\n",
       "    </tr>\n",
       "  </tbody>\n",
       "</table>\n",
       "</div>"
      ],
      "text/plain": [
       "      Y      X     Gene\n",
       "0  2567  27994  PRISM_1\n",
       "1  6484  24166    Other\n",
       "2  8176  24412    Other\n",
       "3  8256  24186    Other\n",
       "4  6807  24142    Other"
      ]
     },
     "execution_count": 2,
     "metadata": {},
     "output_type": "execute_result"
    }
   ],
   "source": [
    "rna_df = pd.read_csv(read_dir/'mapped_genes.csv')[['Y','X','Gene']]\n",
    "rna_df['Y'] = rna_df['Y'].astype(int)\n",
    "rna_df['X'] = rna_df['X'].astype(int)\n",
    "genes = rna_df['Gene'].unique()\n",
    "rna_df.head()"
   ]
  },
  {
   "cell_type": "code",
   "execution_count": 3,
   "metadata": {},
   "outputs": [
    {
     "name": "stderr",
     "output_type": "stream",
     "text": [
      "  0%|          | 0/32 [00:00<?, ?it/s]"
     ]
    },
    {
     "name": "stderr",
     "output_type": "stream",
     "text": [
      "100%|██████████| 32/32 [00:52<00:00,  1.63s/it]\n"
     ]
    }
   ],
   "source": [
    "# read imshape using tifffile without loading the whole image\n",
    "im_shape = tifffile.TiffFile(stc_dir/'cyc_1_cy3.tif').pages[0].shape\n",
    "\n",
    "def plot_density_downsample(df, filename, fac=100):\n",
    "    y = (im_shape[0] // fac) + 1\n",
    "    x = (im_shape[1] // fac) + 1\n",
    "    coordinates = df[['Y','X']].to_numpy()\n",
    "    canvas = np.zeros((y*fac,x*fac),dtype=np.uint16)\n",
    "    canvas[coordinates[:,0],coordinates[:,1]] = 1\n",
    "    canvas_down = canvas.reshape(y,fac,x,fac).sum(-1).sum(1)\n",
    "    imsave(filename,canvas_down.astype(np.uint16), check_contrast=False)\n",
    "\n",
    "\n",
    "for gene in tqdm(genes):\n",
    "    if glob(str(density_dir/f'{gene}.tif')): continue\n",
    "    else: plot_density_downsample(rna_df[rna_df['Gene']==gene], density_dir/f'{gene}.tif')"
   ]
  }
 ],
 "metadata": {
  "interpreter": {
   "hash": "ad2bdc8ecc057115af97d19610ffacc2b4e99fae6737bb82f5d7fb13d2f2c186"
  },
  "kernelspec": {
   "display_name": "Python 3.8.5 ('base')",
   "language": "python",
   "name": "python3"
  },
  "language_info": {
   "codemirror_mode": {
    "name": "ipython",
    "version": 3
   },
   "file_extension": ".py",
   "mimetype": "text/x-python",
   "name": "python",
   "nbconvert_exporter": "python",
   "pygments_lexer": "ipython3",
   "version": "3.8.19"
  },
  "orig_nbformat": 4
 },
 "nbformat": 4,
 "nbformat_minor": 2
}
